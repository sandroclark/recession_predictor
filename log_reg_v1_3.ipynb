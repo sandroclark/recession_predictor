{
 "cells": [
  {
   "cell_type": "code",
   "execution_count": 1,
   "metadata": {},
   "outputs": [],
   "source": [
    "#1.1 Initial datapoints. log loss 0.64\n",
    "#1.2 Momentum factors, CPI/PPI Calculations, modified timeframe. LL: 1yr - 10.64 3M - 1.64\n",
    "#1.3 Standardizing continuous features"
   ]
  },
  {
   "cell_type": "code",
   "execution_count": 21,
   "metadata": {},
   "outputs": [],
   "source": [
    "\n",
    "#Imports and API Key\n",
    "\n",
    "import pandas as pd\n",
    "import quandl\n",
    "from scipy import stats\n",
    "import scipy\n",
    "from sklearn.linear_model import LogisticRegression, LinearRegression\n",
    "from sklearn.model_selection import train_test_split\n",
    "from sklearn.metrics import log_loss\n",
    "import matplotlib.pyplot as plt\n",
    "from sklearn.metrics import roc_auc_score\n",
    "\n",
    "from sklearn.preprocessing import StandardScaler\n",
    "\n",
    "%aimport dataclean\n",
    "\n",
    "quandl.ApiConfig.api_key = 'm8FYMyoCaJSbTrBASNHh'"
   ]
  },
  {
   "cell_type": "code",
   "execution_count": 22,
   "metadata": {},
   "outputs": [],
   "source": [
    "#pulling data from Quandl\n",
    "\n",
    "data = pd.read_csv('data_for_pull.csv') #staging the QUANDL keys to pull in CSV\n",
    "cols = list(data['Var_name'].astype('str'))\n",
    "dataset = quandl.get([val for val in data['Quandl Key']]) #looping through the QUANDL keys to pull it into one DF\n",
    "dataset.columns = cols"
   ]
  },
  {
   "cell_type": "code",
   "execution_count": 23,
   "metadata": {},
   "outputs": [],
   "source": [
    "#pulling FED Yield Curve data\n",
    "\n",
    "yields = pd.read_csv('Fed10Y_3M.csv')\n",
    "yields['Date'] = pd.to_datetime(yields['Date'])\n",
    "yields['Date'] = yields['Date'].apply(lambda x: x.strftime('%Y-%m'))\n",
    "yields = yields.set_index('Date')\n",
    "yields = yields.drop(['3 Month Treasury Yield', 'Rec_prob', 'NBER_Rec','Unnamed: 7'], axis=1) "
   ]
  },
  {
   "cell_type": "code",
   "execution_count": 24,
   "metadata": {},
   "outputs": [],
   "source": [
    "## back to working on the general data\n",
    "dataset.index = dataset.index.strftime('%Y-%m') #converting the datetime index to Y/M so it is collapsable\n",
    "dataset = dataset.groupby(dataset.index, as_index=True).agg(sum) #collapsing by Y/M"
   ]
  },
  {
   "cell_type": "code",
   "execution_count": 25,
   "metadata": {},
   "outputs": [],
   "source": [
    "#converting GDP quarterly data into monthly\n",
    "\n",
    "dataset = dataclean.convert_q_to_m(dataset, 'GDP')\n",
    "\n",
    "#converting consumer sentiment into monthly\n",
    "\n",
    "dataset = dataclean.convert_q_to_m(dataset, 'CONS_SENT')"
   ]
  },
  {
   "cell_type": "code",
   "execution_count": 26,
   "metadata": {},
   "outputs": [],
   "source": [
    "#calculating change in GDP and converting Y into categorical values \n",
    "dataset['Recession'] = ((dataset['GDP'] - dataset['GDP'].shift(3)) < 0).astype(int)"
   ]
  },
  {
   "cell_type": "code",
   "execution_count": 27,
   "metadata": {},
   "outputs": [],
   "source": [
    "#merge fed interest rate data here\n",
    "dataset = dataset.join(yields, how='outer')"
   ]
  },
  {
   "cell_type": "code",
   "execution_count": 28,
   "metadata": {},
   "outputs": [],
   "source": [
    "#we split off the recession data here because later we start purging 0s\n",
    "y = dataset['Recession'] #splitting off Y\n",
    "dataset = dataset.drop(columns = ['GDP','Recession'])"
   ]
  },
  {
   "cell_type": "code",
   "execution_count": 29,
   "metadata": {},
   "outputs": [],
   "source": [
    "#substituting mean value in for missing values and adding dummy column to indicate where done\n",
    "\n",
    "for col in dataset.columns:\n",
    "    dataclean.clean_zeros(col, dataset)"
   ]
  },
  {
   "cell_type": "code",
   "execution_count": 30,
   "metadata": {},
   "outputs": [],
   "source": [
    "#adding momentum factors\n",
    "\n",
    "momentum_cols = list(dataset.columns[:-6])\n",
    "\n",
    "momentum_cols.remove('PPI') #removing PPI and CPI because they need a different transformation\n",
    "momentum_cols.remove('CPI')\n",
    "\n",
    "for i in [1,3,12]:\n",
    "    for col in momentum_cols:\n",
    "        dataclean.create_momentum(col,dataset,i)"
   ]
  },
  {
   "cell_type": "code",
   "execution_count": 31,
   "metadata": {},
   "outputs": [],
   "source": [
    "#CPI Calcs\n",
    "\n",
    "for i in [1,3,12]:\n",
    "    for col in ['CPI','PPI']:\n",
    "        dataclean.infl_momentum(col,dataset,i)"
   ]
  },
  {
   "cell_type": "code",
   "execution_count": 32,
   "metadata": {},
   "outputs": [],
   "source": [
    "#cutoff most of missing data, Post March 2019, Prior 1959. CPI/PPI missing 2016 onward so need to cut that off\n",
    "dataset = dataset.iloc[552:]\n",
    "dataset = dataset.iloc[:-59]"
   ]
  },
  {
   "cell_type": "code",
   "execution_count": 33,
   "metadata": {},
   "outputs": [],
   "source": [
    "#standardizing in the logistic regression model specifically as that's the only model it will impact\n",
    "\n",
    "stand_cols = ['PMI', 'UNR', 'YUNR', 'CONS_SENT', 'HOME_SALES', 'PART_TIME',\n",
    "       'CPPR_PRICE', 'HOUS_PERMS', 'HOUS_STARTS', 'CAP_UTIL', 'PERS_SAVINGS',\n",
    "       'EXPORTS', 'IMPORTS', 'TRADE_BALANCE', 'INT_RATE', 'US_M2',\n",
    "       'US_NHOME_SALES', 'PPI', 'CPI', '3YRT', '10 Year Treasury Yield',\n",
    "       '3 Month Treasury Yield (Bond Equivalent Basis)', 'Spread','PMI_1m_shift', 'UNR_1m_shift',\n",
    "       'YUNR_1m_shift', 'CONS_SENT_1m_shift', 'HOME_SALES_1m_shift',\n",
    "       'PART_TIME_1m_shift', 'CPPR_PRICE_1m_shift', 'HOUS_PERMS_1m_shift',\n",
    "       'HOUS_STARTS_1m_shift', 'CAP_UTIL_1m_shift', 'PERS_SAVINGS_1m_shift',\n",
    "       'EXPORTS_1m_shift', 'IMPORTS_1m_shift', 'TRADE_BALANCE_1m_shift',\n",
    "       'INT_RATE_1m_shift', 'US_M2_1m_shift', 'US_NHOME_SALES_1m_shift',\n",
    "       '3YRT_1m_shift', '10 Year Treasury Yield_1m_shift',\n",
    "       '3 Month Treasury Yield (Bond Equivalent Basis)_1m_shift',\n",
    "       'Spread_1m_shift', 'PMI_3m_shift', 'UNR_3m_shift', 'YUNR_3m_shift',\n",
    "       'CONS_SENT_3m_shift', 'HOME_SALES_3m_shift', 'PART_TIME_3m_shift',\n",
    "       'CPPR_PRICE_3m_shift', 'HOUS_PERMS_3m_shift', 'HOUS_STARTS_3m_shift',\n",
    "       'CAP_UTIL_3m_shift', 'PERS_SAVINGS_3m_shift', 'EXPORTS_3m_shift',\n",
    "       'IMPORTS_3m_shift', 'TRADE_BALANCE_3m_shift', 'INT_RATE_3m_shift',\n",
    "       'US_M2_3m_shift', 'US_NHOME_SALES_3m_shift', '3YRT_3m_shift',\n",
    "       '10 Year Treasury Yield_3m_shift',\n",
    "       '3 Month Treasury Yield (Bond Equivalent Basis)_3m_shift',\n",
    "       'Spread_3m_shift', 'PMI_12m_shift', 'UNR_12m_shift', 'YUNR_12m_shift',\n",
    "       'CONS_SENT_12m_shift', 'HOME_SALES_12m_shift', 'PART_TIME_12m_shift',\n",
    "       'CPPR_PRICE_12m_shift', 'HOUS_PERMS_12m_shift', 'HOUS_STARTS_12m_shift',\n",
    "       'CAP_UTIL_12m_shift', 'PERS_SAVINGS_12m_shift', 'EXPORTS_12m_shift',\n",
    "       'IMPORTS_12m_shift', 'TRADE_BALANCE_12m_shift', 'INT_RATE_12m_shift',\n",
    "       'US_M2_12m_shift', 'US_NHOME_SALES_12m_shift', '3YRT_12m_shift',\n",
    "       '10 Year Treasury Yield_12m_shift',\n",
    "       '3 Month Treasury Yield (Bond Equivalent Basis)_12m_shift',\n",
    "       'Spread_12m_shift', 'CPI_1m_shift', 'PPI_1m_shift', 'CPI_3m_shift',\n",
    "       'PPI_3m_shift', 'CPI_12m_shift', 'PPI_12m_shift']\n",
    "\n",
    "dataset[stand_cols] = StandardScaler().fit_transform(dataset[stand_cols])\n",
    "#dataset[list(dataset.columns)] = StandardScaler().fit_transform(list(dataset.columns))\n"
   ]
  },
  {
   "cell_type": "code",
   "execution_count": 34,
   "metadata": {},
   "outputs": [],
   "source": [
    "X = dataset"
   ]
  },
  {
   "cell_type": "code",
   "execution_count": 47,
   "metadata": {},
   "outputs": [],
   "source": [
    "y = y.iloc[552:]\n",
    "y = y.iloc[:-59]"
   ]
  },
  {
   "cell_type": "code",
   "execution_count": 35,
   "metadata": {},
   "outputs": [],
   "source": [
    "### Data Prep Finished Here ###"
   ]
  },
  {
   "cell_type": "code",
   "execution_count": 77,
   "metadata": {},
   "outputs": [],
   "source": [
    "y_shift = y.shift(-12) #shifting y to forecast 3 months out"
   ]
  },
  {
   "cell_type": "code",
   "execution_count": 78,
   "metadata": {},
   "outputs": [],
   "source": [
    "y_shift = y_shift.fillna(0)"
   ]
  },
  {
   "cell_type": "code",
   "execution_count": 79,
   "metadata": {},
   "outputs": [],
   "source": [
    "X_train = X.iloc[12:550]\n",
    "X_test = X.iloc[550:]\n",
    "y_train = y_shift.iloc[12:550]\n",
    "y_test = y_shift.iloc[550:]"
   ]
  },
  {
   "cell_type": "code",
   "execution_count": 80,
   "metadata": {},
   "outputs": [
    {
     "data": {
      "text/plain": [
       "Index(['PMI', 'UNR', 'YUNR', 'CONS_SENT', 'HOME_SALES', 'PART_TIME',\n",
       "       'CPPR_PRICE', 'HOUS_PERMS', 'HOUS_STARTS', 'CAP_UTIL',\n",
       "       ...\n",
       "       'PERS_SAVINGS_PXY_12m_shift', 'EXPORTS_PXY_12m_shift',\n",
       "       'IMPORTS_PXY_12m_shift', 'TRADE_BALANCE_PXY_12m_shift', 'CPI_1m_shift',\n",
       "       'PPI_1m_shift', 'CPI_3m_shift', 'PPI_3m_shift', 'CPI_12m_shift',\n",
       "       'PPI_12m_shift'],\n",
       "      dtype='object', length=154)"
      ]
     },
     "execution_count": 80,
     "metadata": {},
     "output_type": "execute_result"
    }
   ],
   "source": [
    "X_train.columns"
   ]
  },
  {
   "cell_type": "code",
   "execution_count": 81,
   "metadata": {},
   "outputs": [
    {
     "data": {
      "text/plain": [
       "(538, 154)"
      ]
     },
     "execution_count": 81,
     "metadata": {},
     "output_type": "execute_result"
    }
   ],
   "source": [
    "X_train.shape"
   ]
  },
  {
   "cell_type": "code",
   "execution_count": 82,
   "metadata": {
    "scrolled": true
   },
   "outputs": [
    {
     "name": "stderr",
     "output_type": "stream",
     "text": [
      "/anaconda3/lib/python3.6/site-packages/sklearn/linear_model/logistic.py:433: FutureWarning: Default solver will be changed to 'lbfgs' in 0.22. Specify a solver to silence this warning.\n",
      "  FutureWarning)\n"
     ]
    },
    {
     "data": {
      "text/plain": [
       "LogisticRegression(C=1.0, class_weight=None, dual=False, fit_intercept=True,\n",
       "          intercept_scaling=1, max_iter=100, multi_class='warn',\n",
       "          n_jobs=None, penalty='l2', random_state=None, solver='warn',\n",
       "          tol=0.0001, verbose=0, warm_start=False)"
      ]
     },
     "execution_count": 82,
     "metadata": {},
     "output_type": "execute_result"
    }
   ],
   "source": [
    "model = LogisticRegression() #try throwing in a bigger C than 1\n",
    "model.fit(X_train, y_train) #fitting model"
   ]
  },
  {
   "cell_type": "code",
   "execution_count": 83,
   "metadata": {},
   "outputs": [],
   "source": [
    "probs = model.predict_proba(X_test)"
   ]
  },
  {
   "cell_type": "code",
   "execution_count": 84,
   "metadata": {},
   "outputs": [
    {
     "data": {
      "text/plain": [
       "4.390038031275388"
      ]
     },
     "execution_count": 84,
     "metadata": {},
     "output_type": "execute_result"
    }
   ],
   "source": [
    "log_loss(y_test, probs)"
   ]
  },
  {
   "cell_type": "code",
   "execution_count": 85,
   "metadata": {},
   "outputs": [
    {
     "data": {
      "text/plain": [
       "0.7964601769911506"
      ]
     },
     "execution_count": 85,
     "metadata": {},
     "output_type": "execute_result"
    }
   ],
   "source": [
    "roc_auc_score(y_test.values, probs[:,1:])"
   ]
  },
  {
   "cell_type": "code",
   "execution_count": 86,
   "metadata": {},
   "outputs": [
    {
     "name": "stdout",
     "output_type": "stream",
     "text": [
      "('PMI', 0.16028465368429043)\n",
      "('UNR', 0.10827031613926152)\n",
      "('YUNR', -0.09463384021894054)\n",
      "('CONS_SENT', 0.02561439443271296)\n",
      "('HOME_SALES', -0.23757297380527811)\n",
      "('PART_TIME', 0.21389077161322897)\n",
      "('CPPR_PRICE', 1.047201550319977)\n",
      "('HOUS_PERMS', -0.1960337277166943)\n",
      "('HOUS_STARTS', -0.2995864400771279)\n",
      "('CAP_UTIL', -0.4258688348745361)\n",
      "('PERS_SAVINGS', 0.2308805756150068)\n",
      "('EXPORTS', 0.39789442447225065)\n",
      "('IMPORTS', 0.6172248001509376)\n",
      "('TRADE_BALANCE', -1.1903263789751086)\n",
      "('INT_RATE', 0.33250469382793985)\n",
      "('US_M2', 0.648895803442503)\n",
      "('US_NHOME_SALES', -0.685943981812622)\n",
      "('PPI', 0.1778031037701645)\n",
      "('CPI', -0.11242639548461641)\n",
      "('3YRT', -0.1674291159414935)\n",
      "('10 Year Treasury Yield', -0.3598189438047946)\n",
      "('3 Month Treasury Yield (Bond Equivalent Basis)', 0.23936452248263948)\n",
      "('Spread', -1.3556558843650257)\n",
      "('PMI_PXY', 0.0)\n",
      "('UNR_PXY', 0.0)\n",
      "('YUNR_PXY', 0.0)\n",
      "('CONS_SENT_PXY', 0.0)\n",
      "('HOME_SALES_PXY', -0.46477841500155515)\n",
      "('PART_TIME_PXY', 0.0)\n",
      "('CPPR_PRICE_PXY', -0.40600527123821306)\n",
      "('HOUS_PERMS_PXY', 0.0)\n",
      "('HOUS_STARTS_PXY', 0.0)\n",
      "('CAP_UTIL_PXY', -0.40600527123821306)\n",
      "('PERS_SAVINGS_PXY', 0.0)\n",
      "('EXPORTS_PXY', 0.0)\n",
      "('IMPORTS_PXY', 0.0)\n",
      "('TRADE_BALANCE_PXY', 0.0)\n",
      "('INT_RATE_PXY', 0.0)\n",
      "('US_M2_PXY', 0.0)\n",
      "('US_NHOME_SALES_PXY', -0.17782015404492876)\n",
      "('PPI_PXY', 0.0)\n",
      "('CPI_PXY', 0.0)\n",
      "('3YRT_PXY', -0.14013213260056365)\n",
      "('PMI_1m_shift', 0.15641727516474604)\n",
      "('UNR_1m_shift', -0.16745588509628895)\n",
      "('YUNR_1m_shift', -0.1049184406728697)\n",
      "('CONS_SENT_1m_shift', 0.14654503005253722)\n",
      "('HOME_SALES_1m_shift', -0.24522708824471343)\n",
      "('PART_TIME_1m_shift', 0.028158838929919175)\n",
      "('CPPR_PRICE_1m_shift', -0.4226247419782863)\n",
      "('HOUS_PERMS_1m_shift', 0.06029018448921332)\n",
      "('HOUS_STARTS_1m_shift', 0.08549153824580956)\n",
      "('CAP_UTIL_1m_shift', -0.011950733525497597)\n",
      "('PERS_SAVINGS_1m_shift', -0.3963752465188621)\n",
      "('EXPORTS_1m_shift', 0.14501153880649814)\n",
      "('IMPORTS_1m_shift', -0.00808013179802967)\n",
      "('TRADE_BALANCE_1m_shift', 0.11283707608033203)\n",
      "('INT_RATE_1m_shift', -0.4057013363378328)\n",
      "('US_M2_1m_shift', 0.22272403329437318)\n",
      "('US_NHOME_SALES_1m_shift', 0.22512135938350689)\n",
      "('3YRT_1m_shift', 0.04853723478009239)\n",
      "('10 Year Treasury Yield_1m_shift', -0.03305284514985179)\n",
      "('3 Month Treasury Yield (Bond Equivalent Basis)_1m_shift', -0.05643572711280486)\n",
      "('Spread_1m_shift', 0.04473886307259806)\n",
      "('PMI_PXY_1m_shift', 0.0)\n",
      "('UNR_PXY_1m_shift', 0.0)\n",
      "('YUNR_PXY_1m_shift', 0.0)\n",
      "('CONS_SENT_PXY_1m_shift', 0.0)\n",
      "('HOME_SALES_PXY_1m_shift', 0.006246532425579572)\n",
      "('PART_TIME_PXY_1m_shift', 0.0)\n",
      "('CPPR_PRICE_PXY_1m_shift', 0.01280285455561095)\n",
      "('HOUS_PERMS_PXY_1m_shift', 0.044522752343946356)\n",
      "('HOUS_STARTS_PXY_1m_shift', 0.0)\n",
      "('CAP_UTIL_PXY_1m_shift', 0.01280285455561095)\n",
      "('PERS_SAVINGS_PXY_1m_shift', 0.0)\n",
      "('EXPORTS_PXY_1m_shift', 0.0)\n",
      "('IMPORTS_PXY_1m_shift', 0.0)\n",
      "('TRADE_BALANCE_PXY_1m_shift', 0.0)\n",
      "('PMI_3m_shift', 0.016476307251806804)\n",
      "('UNR_3m_shift', 0.275114130540153)\n",
      "('YUNR_3m_shift', 0.024726790308952258)\n",
      "('CONS_SENT_3m_shift', -0.04717970449943437)\n",
      "('HOME_SALES_3m_shift', 0.17040599832910802)\n",
      "('PART_TIME_3m_shift', -0.3485846408833769)\n",
      "('CPPR_PRICE_3m_shift', 0.6061116090465983)\n",
      "('HOUS_PERMS_3m_shift', 0.38780429079468215)\n",
      "('HOUS_STARTS_3m_shift', -0.33554941521362547)\n",
      "('CAP_UTIL_3m_shift', -0.0009602618396766103)\n",
      "('PERS_SAVINGS_3m_shift', 0.2133003044015639)\n",
      "('EXPORTS_3m_shift', 0.5389673488486392)\n",
      "('IMPORTS_3m_shift', 0.4432097676717707)\n",
      "('TRADE_BALANCE_3m_shift', -0.16998327757454743)\n",
      "('INT_RATE_3m_shift', -0.17499823448784516)\n",
      "('US_M2_3m_shift', 0.17049868663595538)\n",
      "('US_NHOME_SALES_3m_shift', -0.005981196722441004)\n",
      "('3YRT_3m_shift', -0.1318692498639544)\n",
      "('10 Year Treasury Yield_3m_shift', 0.3654732538390559)\n",
      "('3 Month Treasury Yield (Bond Equivalent Basis)_3m_shift', 0.2631617496004547)\n",
      "('Spread_3m_shift', -0.05934395793219323)\n",
      "('PMI_PXY_3m_shift', 0.0)\n",
      "('UNR_PXY_3m_shift', 0.0)\n",
      "('YUNR_PXY_3m_shift', 0.0)\n",
      "('CONS_SENT_PXY_3m_shift', 0.0)\n",
      "('HOME_SALES_PXY_3m_shift', 0.00917902700580008)\n",
      "('PART_TIME_PXY_3m_shift', 0.0)\n",
      "('CPPR_PRICE_PXY_3m_shift', 0.0208530892220882)\n",
      "('HOUS_PERMS_PXY_3m_shift', 0.05093045761312539)\n",
      "('HOUS_STARTS_PXY_3m_shift', 0.0)\n",
      "('CAP_UTIL_PXY_3m_shift', 0.0208530892220882)\n",
      "('PERS_SAVINGS_PXY_3m_shift', 0.0)\n",
      "('EXPORTS_PXY_3m_shift', 0.0)\n",
      "('IMPORTS_PXY_3m_shift', 0.0)\n",
      "('TRADE_BALANCE_PXY_3m_shift', 0.0)\n",
      "('PMI_12m_shift', 0.10896365763293918)\n",
      "('UNR_12m_shift', -0.09998359686974526)\n",
      "('YUNR_12m_shift', 0.0984075422638517)\n",
      "('CONS_SENT_12m_shift', 0.3277667992664438)\n",
      "('HOME_SALES_12m_shift', -0.7336311685422786)\n",
      "('PART_TIME_12m_shift', -0.25805841643021404)\n",
      "('CPPR_PRICE_12m_shift', -0.5456823988386303)\n",
      "('HOUS_PERMS_12m_shift', 0.1727325235600578)\n",
      "('HOUS_STARTS_12m_shift', 0.20296098095391152)\n",
      "('CAP_UTIL_12m_shift', 0.007246334921712885)\n",
      "('PERS_SAVINGS_12m_shift', 0.5609320649185305)\n",
      "('EXPORTS_12m_shift', 0.38082410150253604)\n",
      "('IMPORTS_12m_shift', 0.05710357517015193)\n",
      "('TRADE_BALANCE_12m_shift', 0.3683164508447253)\n",
      "('INT_RATE_12m_shift', -0.07652078229799522)\n",
      "('US_M2_12m_shift', 0.269589674324189)\n",
      "('US_NHOME_SALES_12m_shift', -0.00298206638718998)\n",
      "('3YRT_12m_shift', -0.1394361092692937)\n",
      "('10 Year Treasury Yield_12m_shift', -0.46454367875204394)\n",
      "('3 Month Treasury Yield (Bond Equivalent Basis)_12m_shift', -0.21748711575716784)\n",
      "('Spread_12m_shift', -0.10738821933259778)\n",
      "('PMI_PXY_12m_shift', 0.0)\n",
      "('UNR_PXY_12m_shift', 0.0)\n",
      "('YUNR_PXY_12m_shift', 0.0)\n",
      "('CONS_SENT_PXY_12m_shift', 0.0)\n",
      "('HOME_SALES_PXY_12m_shift', 0.04147323491899286)\n",
      "('PART_TIME_PXY_12m_shift', 0.0)\n",
      "('CPPR_PRICE_PXY_12m_shift', 0.058773143763342126)\n",
      "('HOUS_PERMS_PXY_12m_shift', 0.06686178476189082)\n",
      "('HOUS_STARTS_PXY_12m_shift', 0.0)\n",
      "('CAP_UTIL_PXY_12m_shift', 0.058773143763342126)\n",
      "('PERS_SAVINGS_PXY_12m_shift', 0.0)\n",
      "('EXPORTS_PXY_12m_shift', 0.0)\n",
      "('IMPORTS_PXY_12m_shift', 0.0)\n",
      "('TRADE_BALANCE_PXY_12m_shift', 0.0)\n",
      "('CPI_1m_shift', -0.2848108415457331)\n",
      "('PPI_1m_shift', 0.03838263552801705)\n",
      "('CPI_3m_shift', -0.14810611230830986)\n",
      "('PPI_3m_shift', 0.06950776388573489)\n",
      "('CPI_12m_shift', -0.009755802222736148)\n",
      "('PPI_12m_shift', 0.4758731312260225)\n"
     ]
    }
   ],
   "source": [
    "for object in zip(dataset.columns,model.coef_[0] ):\n",
    "    print(object)"
   ]
  },
  {
   "cell_type": "code",
   "execution_count": 57,
   "metadata": {},
   "outputs": [
    {
     "name": "stdout",
     "output_type": "stream",
     "text": [
      "            0     1  actual\n",
      "2004-11 0.991 0.009   0.000\n",
      "2004-12 0.972 0.028   0.000\n",
      "2005-01 0.999 0.001   0.000\n",
      "2005-02 0.998 0.002   0.000\n",
      "2005-03 0.997 0.003   0.000\n",
      "2005-04 0.994 0.006   0.000\n",
      "2005-05 0.987 0.013   0.000\n",
      "2005-06 0.995 0.005   0.000\n",
      "2005-07 0.999 0.001   0.000\n",
      "2005-08 0.954 0.046   0.000\n",
      "2005-09 0.916 0.084   0.000\n",
      "2005-10 0.976 0.024   0.000\n",
      "2005-11 0.927 0.073   0.000\n",
      "2005-12 0.977 0.023   0.000\n",
      "2006-01 0.877 0.123   0.000\n",
      "2006-02 0.485 0.515   0.000\n",
      "2006-03 0.977 0.023   0.000\n",
      "2006-04 0.972 0.028   0.000\n",
      "2006-05 0.811 0.189   0.000\n",
      "2006-06 0.525 0.475   0.000\n",
      "2006-07 0.058 0.942   0.000\n",
      "2006-08 0.198 0.802   0.000\n",
      "2006-09 0.218 0.782   0.000\n",
      "2006-10 0.082 0.918   0.000\n",
      "2006-11 0.045 0.955   0.000\n",
      "2006-12 0.070 0.930   0.000\n",
      "2007-01 0.007 0.993   0.000\n",
      "2007-02 0.039 0.961   0.000\n",
      "2007-03 0.066 0.934   0.000\n",
      "2007-04 0.162 0.838   0.000\n",
      "2007-05 0.157 0.843   0.000\n",
      "2007-06 0.010 0.990   0.000\n",
      "2007-07 0.013 0.987   0.000\n",
      "2007-08 0.000 1.000   0.000\n",
      "2007-09 0.001 0.999   0.000\n",
      "2007-10 0.003 0.997   0.000\n",
      "2007-11 0.001 0.999   0.000\n",
      "2007-12 0.000 1.000   0.000\n",
      "2008-01 0.001 0.999   1.000\n",
      "2008-02 0.001 0.999   1.000\n",
      "2008-03 0.001 0.999   1.000\n",
      "2008-04 0.000 1.000   0.000\n",
      "2008-05 0.000 1.000   0.000\n",
      "2008-06 0.000 1.000   0.000\n",
      "2008-07 0.000 1.000   0.000\n",
      "2008-08 0.000 1.000   0.000\n",
      "2008-09 0.000 1.000   0.000\n",
      "2008-10 0.000 1.000   1.000\n",
      "2008-11 0.000 1.000   1.000\n",
      "2008-12 0.000 1.000   1.000\n",
      "2009-01 0.000 1.000   1.000\n",
      "2009-02 0.000 1.000   1.000\n",
      "2009-03 0.000 1.000   1.000\n",
      "2009-04 0.002 0.998   1.000\n",
      "2009-05 0.001 0.999   1.000\n",
      "2009-06 0.023 0.977   1.000\n",
      "2009-07 0.001 0.999   0.000\n",
      "2009-08 0.006 0.994   0.000\n",
      "2009-09 0.005 0.995   0.000\n",
      "2009-10 0.025 0.975   0.000\n",
      "2009-11 0.037 0.963   0.000\n",
      "2009-12 0.000 1.000   0.000\n",
      "2010-01 0.020 0.980   0.000\n",
      "2010-02 0.036 0.964   0.000\n",
      "2010-03 0.057 0.943   0.000\n",
      "2010-04 0.032 0.968   0.000\n",
      "2010-05 0.002 0.998   0.000\n",
      "2010-06 0.001 0.999   0.000\n",
      "2010-07 0.000 1.000   0.000\n",
      "2010-08 0.004 0.996   0.000\n",
      "2010-09 0.003 0.997   0.000\n",
      "2010-10 0.001 0.999   0.000\n",
      "2010-11 0.000 1.000   0.000\n",
      "2010-12 0.005 0.995   0.000\n",
      "2011-01 0.001 0.999   0.000\n",
      "2011-02 0.000 1.000   0.000\n",
      "2011-03 0.000 1.000   0.000\n",
      "2011-04 0.000 1.000   0.000\n",
      "2011-05 0.000 1.000   0.000\n",
      "2011-06 0.000 1.000   0.000\n",
      "2011-07 0.000 1.000   0.000\n",
      "2011-08 0.000 1.000   0.000\n",
      "2011-09 0.000 1.000   0.000\n",
      "2011-10 0.000 1.000   0.000\n",
      "2011-11 0.000 1.000   0.000\n",
      "2011-12 0.000 1.000   0.000\n",
      "2012-01 0.001 0.999   0.000\n",
      "2012-02 0.003 0.997   0.000\n",
      "2012-03 0.001 0.999   0.000\n",
      "2012-04 0.000 1.000   0.000\n",
      "2012-05 0.000 1.000   0.000\n",
      "2012-06 0.000 1.000   0.000\n",
      "2012-07 0.000 1.000   0.000\n",
      "2012-08 0.001 0.999   0.000\n",
      "2012-09 0.001 0.999   0.000\n",
      "2012-10 0.000 1.000   0.000\n",
      "2012-11 0.000 1.000   0.000\n",
      "2012-12 0.000 1.000   0.000\n",
      "2013-01 0.005 0.995   0.000\n",
      "2013-02 0.003 0.997   0.000\n",
      "2013-03 0.000 1.000   0.000\n",
      "2013-04 0.000 1.000   0.000\n",
      "2013-05 0.000 1.000   0.000\n",
      "2013-06 0.000 1.000   0.000\n",
      "2013-07 0.000 1.000   0.000\n",
      "2013-08 0.000 1.000   0.000\n",
      "2013-09 0.000 1.000   0.000\n",
      "2013-10 0.000 1.000   0.000\n",
      "2013-11 0.000 1.000   0.000\n",
      "2013-12 0.000 1.000   0.000\n",
      "2014-01 0.000 1.000   0.000\n",
      "2014-02 0.000 1.000   0.000\n",
      "2014-03 0.000 1.000   0.000\n",
      "2014-04 0.000 1.000   0.000\n",
      "2014-05 0.000 1.000   0.000\n",
      "2014-06 0.000 1.000   0.000\n",
      "2014-07 0.000 1.000   0.000\n",
      "2014-08 0.001 0.999   0.000\n",
      "2014-09 0.003 0.997   0.000\n",
      "2014-10 0.004 0.996   0.000\n",
      "2014-11 0.001 0.999   0.000\n",
      "2014-12 0.012 0.988   0.000\n",
      "2015-01 0.002 0.998   0.000\n",
      "2015-02 0.012 0.988   0.000\n",
      "2015-03 0.012 0.988   0.000\n"
     ]
    }
   ],
   "source": [
    "results = pd.DataFrame(probs)\n",
    "results['actual'] = y_test.values\n",
    "results.index = y_test.index\n",
    "pd.set_option('display.float_format', lambda x: '%.3f' % x)\n",
    "with pd.option_context('display.max_rows', None, 'display.max_columns', None):\n",
    "    print(results)"
   ]
  },
  {
   "cell_type": "code",
   "execution_count": null,
   "metadata": {},
   "outputs": [],
   "source": [
    "#testing X_train to compare to splining model"
   ]
  },
  {
   "cell_type": "code",
   "execution_count": 87,
   "metadata": {},
   "outputs": [],
   "source": [
    "probs = model.predict_proba(X_train)"
   ]
  },
  {
   "cell_type": "code",
   "execution_count": 88,
   "metadata": {},
   "outputs": [
    {
     "data": {
      "text/plain": [
       "0.02333159022280579"
      ]
     },
     "execution_count": 88,
     "metadata": {},
     "output_type": "execute_result"
    }
   ],
   "source": [
    "log_loss(y_train, probs)"
   ]
  },
  {
   "cell_type": "code",
   "execution_count": 89,
   "metadata": {},
   "outputs": [
    {
     "data": {
      "text/plain": [
       "1.0"
      ]
     },
     "execution_count": 89,
     "metadata": {},
     "output_type": "execute_result"
    }
   ],
   "source": [
    "roc_auc_score(y_train.values, probs[:,1:])"
   ]
  },
  {
   "cell_type": "code",
   "execution_count": null,
   "metadata": {},
   "outputs": [],
   "source": []
  }
 ],
 "metadata": {
  "kernelspec": {
   "display_name": "Python 3",
   "language": "python",
   "name": "python3"
  },
  "language_info": {
   "codemirror_mode": {
    "name": "ipython",
    "version": 3
   },
   "file_extension": ".py",
   "mimetype": "text/x-python",
   "name": "python",
   "nbconvert_exporter": "python",
   "pygments_lexer": "ipython3",
   "version": "3.6.8"
  }
 },
 "nbformat": 4,
 "nbformat_minor": 2
}
