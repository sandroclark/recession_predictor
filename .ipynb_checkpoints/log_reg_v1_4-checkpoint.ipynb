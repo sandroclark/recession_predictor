{
 "cells": [
  {
   "cell_type": "code",
   "execution_count": 2,
   "metadata": {},
   "outputs": [],
   "source": [
    "#1.1 Initial datapoints. log loss 0.64\n",
    "#1.2 Momentum factors, CPI/PPI Calculations, modified timeframe. LL: 1yr - 10.64 3M - 1.64\n",
    "#1.3 Standardizing continuous features\n",
    "#1.4 Inserting Linear Splines, Implement Ridge Regression to dampen spline overfitting"
   ]
  },
  {
   "cell_type": "code",
   "execution_count": 83,
   "metadata": {},
   "outputs": [],
   "source": [
    "#Ridge Regression Gameplan\n",
    "\n",
    "#Find Alpha\n"
   ]
  },
  {
   "cell_type": "code",
   "execution_count": 119,
   "metadata": {},
   "outputs": [],
   "source": [
    "#Imports and API Key\n",
    "\n",
    "import pandas as pd\n",
    "import quandl\n",
    "from scipy import stats\n",
    "import scipy\n",
    "from sklearn.linear_model import LogisticRegression, LinearRegression\n",
    "from sklearn.model_selection import train_test_split\n",
    "from sklearn.metrics import log_loss\n",
    "import matplotlib.pyplot as plt\n",
    "from sklearn.metrics import roc_auc_score\n",
    "\n",
    "from sklearn.pipeline import Pipeline\n",
    "\n",
    "from basis_expansions.basis_expansions import (\n",
    "    Polynomial, LinearSpline)\n",
    "\n",
    "from regression_tools.dftransformers import (\n",
    "    ColumnSelector, Identity, FeatureUnion, MapFeature, Intercept)\n",
    "\n",
    "from sklearn.preprocessing import StandardScaler\n",
    "\n",
    "from sklearn.linear_model import Ridge\n",
    "from sklearn.linear_model import RidgeClassifier\n",
    "\n",
    "%aimport dataclean\n",
    "\n",
    "quandl.ApiConfig.api_key = 'm8FYMyoCaJSbTrBASNHh'"
   ]
  },
  {
   "cell_type": "code",
   "execution_count": 85,
   "metadata": {},
   "outputs": [],
   "source": [
    "#pulling data from Quandl\n",
    "\n",
    "data = pd.read_csv('data_for_pull.csv') #staging the QUANDL keys to pull in CSV\n",
    "cols = list(data['Var_name'].astype('str'))\n",
    "dataset = quandl.get([val for val in data['Quandl Key']]) #looping through the QUANDL keys to pull it into one DF\n",
    "dataset.columns = cols"
   ]
  },
  {
   "cell_type": "code",
   "execution_count": 86,
   "metadata": {},
   "outputs": [],
   "source": [
    "#pulling FED Yield Curve data\n",
    "\n",
    "yields = pd.read_csv('Fed10Y_3M.csv')\n",
    "yields['Date'] = pd.to_datetime(yields['Date'])\n",
    "yields['Date'] = yields['Date'].apply(lambda x: x.strftime('%Y-%m'))\n",
    "yields = yields.set_index('Date')\n",
    "yields = yields.drop(['3 Month Treasury Yield', 'Rec_prob', 'NBER_Rec','Unnamed: 7'], axis=1) "
   ]
  },
  {
   "cell_type": "code",
   "execution_count": 87,
   "metadata": {},
   "outputs": [],
   "source": [
    "## back to working on the general data\n",
    "dataset.index = dataset.index.strftime('%Y-%m') #converting the datetime index to Y/M so it is collapsable\n",
    "dataset = dataset.groupby(dataset.index, as_index=True).agg(sum) #collapsing by Y/M"
   ]
  },
  {
   "cell_type": "code",
   "execution_count": 88,
   "metadata": {},
   "outputs": [],
   "source": [
    "#converting GDP quarterly data into monthly\n",
    "\n",
    "dataset = dataclean.convert_q_to_m(dataset, 'GDP')\n",
    "\n",
    "#converting consumer sentiment into monthly\n",
    "\n",
    "dataset = dataclean.convert_q_to_m(dataset, 'CONS_SENT')"
   ]
  },
  {
   "cell_type": "code",
   "execution_count": 89,
   "metadata": {},
   "outputs": [],
   "source": [
    "#calculating change in GDP and converting Y into categorical values \n",
    "dataset['Recession'] = ((dataset['GDP'] - dataset['GDP'].shift(3)) < 0).astype(int)"
   ]
  },
  {
   "cell_type": "code",
   "execution_count": 90,
   "metadata": {},
   "outputs": [],
   "source": [
    "#merge fed interest rate data here\n",
    "dataset = dataset.join(yields, how='outer')"
   ]
  },
  {
   "cell_type": "code",
   "execution_count": 91,
   "metadata": {},
   "outputs": [],
   "source": [
    "#we split off the recession data here because later we start purging 0s\n",
    "y = dataset['Recession'] #splitting off Y\n",
    "dataset = dataset.drop(columns = ['GDP','Recession'])"
   ]
  },
  {
   "cell_type": "code",
   "execution_count": 92,
   "metadata": {},
   "outputs": [],
   "source": [
    "#substituting mean value in for missing values and adding dummy column to indicate where done\n",
    "\n",
    "for col in dataset.columns:\n",
    "    dataclean.clean_zeros(col, dataset)"
   ]
  },
  {
   "cell_type": "code",
   "execution_count": 93,
   "metadata": {},
   "outputs": [],
   "source": [
    "#adding momentum factors\n",
    "\n",
    "momentum_cols = list(dataset.columns[:-6])\n",
    "\n",
    "momentum_cols.remove('PPI') #removing PPI and CPI because they need a different transformation\n",
    "momentum_cols.remove('CPI')\n",
    "\n",
    "for i in [1,3,12]:\n",
    "    for col in momentum_cols:\n",
    "        dataclean.create_momentum(col,dataset,i)"
   ]
  },
  {
   "cell_type": "code",
   "execution_count": 94,
   "metadata": {},
   "outputs": [],
   "source": [
    "#CPI Calcs\n",
    "\n",
    "for i in [1,3,12]:\n",
    "    for col in ['CPI','PPI']:\n",
    "        dataclean.infl_momentum(col,dataset,i)"
   ]
  },
  {
   "cell_type": "code",
   "execution_count": 95,
   "metadata": {},
   "outputs": [],
   "source": [
    "#cutoff most of missing data, Post March 2019, Prior 1959. CPI/PPI missing 2016 onward so need to cut that off\n",
    "dataset = dataset.iloc[552:]\n",
    "dataset = dataset.iloc[:-59]"
   ]
  },
  {
   "cell_type": "code",
   "execution_count": 96,
   "metadata": {},
   "outputs": [
    {
     "data": {
      "text/html": [
       "<div>\n",
       "<style scoped>\n",
       "    .dataframe tbody tr th:only-of-type {\n",
       "        vertical-align: middle;\n",
       "    }\n",
       "\n",
       "    .dataframe tbody tr th {\n",
       "        vertical-align: top;\n",
       "    }\n",
       "\n",
       "    .dataframe thead th {\n",
       "        text-align: right;\n",
       "    }\n",
       "</style>\n",
       "<table border=\"1\" class=\"dataframe\">\n",
       "  <thead>\n",
       "    <tr style=\"text-align: right;\">\n",
       "      <th></th>\n",
       "      <th>PMI</th>\n",
       "      <th>UNR</th>\n",
       "      <th>YUNR</th>\n",
       "      <th>CONS_SENT</th>\n",
       "      <th>HOME_SALES</th>\n",
       "      <th>PART_TIME</th>\n",
       "      <th>CPPR_PRICE</th>\n",
       "      <th>HOUS_PERMS</th>\n",
       "      <th>HOUS_STARTS</th>\n",
       "      <th>CAP_UTIL</th>\n",
       "      <th>...</th>\n",
       "      <th>PERS_SAVINGS_PXY_12m_shift</th>\n",
       "      <th>EXPORTS_PXY_12m_shift</th>\n",
       "      <th>IMPORTS_PXY_12m_shift</th>\n",
       "      <th>TRADE_BALANCE_PXY_12m_shift</th>\n",
       "      <th>CPI_1m_shift</th>\n",
       "      <th>PPI_1m_shift</th>\n",
       "      <th>CPI_3m_shift</th>\n",
       "      <th>PPI_3m_shift</th>\n",
       "      <th>CPI_12m_shift</th>\n",
       "      <th>PPI_12m_shift</th>\n",
       "    </tr>\n",
       "  </thead>\n",
       "  <tbody>\n",
       "    <tr>\n",
       "      <th>1959-01</th>\n",
       "      <td>64.400</td>\n",
       "      <td>6.000</td>\n",
       "      <td>11.600</td>\n",
       "      <td>90.800</td>\n",
       "      <td>1901.732</td>\n",
       "      <td>1022.000</td>\n",
       "      <td>93.706</td>\n",
       "      <td>754.262</td>\n",
       "      <td>1657.000</td>\n",
       "      <td>39.376</td>\n",
       "      <td>...</td>\n",
       "      <td>-1.000</td>\n",
       "      <td>0.000</td>\n",
       "      <td>0.000</td>\n",
       "      <td>0.000</td>\n",
       "      <td>0.346</td>\n",
       "      <td>0.316</td>\n",
       "      <td>0.346</td>\n",
       "      <td>0.635</td>\n",
       "      <td>1.399</td>\n",
       "      <td>0.635</td>\n",
       "    </tr>\n",
       "    <tr>\n",
       "      <th>1959-02</th>\n",
       "      <td>66.900</td>\n",
       "      <td>5.900</td>\n",
       "      <td>11.100</td>\n",
       "      <td>90.800</td>\n",
       "      <td>1901.732</td>\n",
       "      <td>973.000</td>\n",
       "      <td>93.706</td>\n",
       "      <td>754.262</td>\n",
       "      <td>1667.000</td>\n",
       "      <td>39.376</td>\n",
       "      <td>...</td>\n",
       "      <td>-1.000</td>\n",
       "      <td>0.000</td>\n",
       "      <td>0.000</td>\n",
       "      <td>0.000</td>\n",
       "      <td>-0.345</td>\n",
       "      <td>0.000</td>\n",
       "      <td>-0.345</td>\n",
       "      <td>0.316</td>\n",
       "      <td>1.049</td>\n",
       "      <td>0.635</td>\n",
       "    </tr>\n",
       "    <tr>\n",
       "      <th>1959-03</th>\n",
       "      <td>67.100</td>\n",
       "      <td>5.600</td>\n",
       "      <td>11.100</td>\n",
       "      <td>90.800</td>\n",
       "      <td>1901.732</td>\n",
       "      <td>1102.000</td>\n",
       "      <td>93.706</td>\n",
       "      <td>754.262</td>\n",
       "      <td>1620.000</td>\n",
       "      <td>39.376</td>\n",
       "      <td>...</td>\n",
       "      <td>-1.000</td>\n",
       "      <td>0.000</td>\n",
       "      <td>0.000</td>\n",
       "      <td>0.000</td>\n",
       "      <td>0.000</td>\n",
       "      <td>0.000</td>\n",
       "      <td>0.000</td>\n",
       "      <td>0.316</td>\n",
       "      <td>0.347</td>\n",
       "      <td>0.000</td>\n",
       "    </tr>\n",
       "    <tr>\n",
       "      <th>1959-04</th>\n",
       "      <td>66.900</td>\n",
       "      <td>5.200</td>\n",
       "      <td>10.800</td>\n",
       "      <td>90.800</td>\n",
       "      <td>1901.732</td>\n",
       "      <td>1086.000</td>\n",
       "      <td>93.706</td>\n",
       "      <td>754.262</td>\n",
       "      <td>1590.000</td>\n",
       "      <td>39.376</td>\n",
       "      <td>...</td>\n",
       "      <td>-1.000</td>\n",
       "      <td>0.000</td>\n",
       "      <td>0.000</td>\n",
       "      <td>0.000</td>\n",
       "      <td>0.346</td>\n",
       "      <td>0.315</td>\n",
       "      <td>0.000</td>\n",
       "      <td>0.315</td>\n",
       "      <td>0.346</td>\n",
       "      <td>0.633</td>\n",
       "    </tr>\n",
       "    <tr>\n",
       "      <th>1959-05</th>\n",
       "      <td>68.200</td>\n",
       "      <td>5.100</td>\n",
       "      <td>10.000</td>\n",
       "      <td>95.300</td>\n",
       "      <td>1901.732</td>\n",
       "      <td>968.000</td>\n",
       "      <td>93.706</td>\n",
       "      <td>754.262</td>\n",
       "      <td>1498.000</td>\n",
       "      <td>39.376</td>\n",
       "      <td>...</td>\n",
       "      <td>-1.000</td>\n",
       "      <td>0.000</td>\n",
       "      <td>0.000</td>\n",
       "      <td>0.000</td>\n",
       "      <td>0.000</td>\n",
       "      <td>0.000</td>\n",
       "      <td>0.346</td>\n",
       "      <td>0.315</td>\n",
       "      <td>0.346</td>\n",
       "      <td>0.315</td>\n",
       "    </tr>\n",
       "  </tbody>\n",
       "</table>\n",
       "<p>5 rows × 154 columns</p>\n",
       "</div>"
      ],
      "text/plain": [
       "           PMI   UNR   YUNR  CONS_SENT  HOME_SALES  PART_TIME  CPPR_PRICE  \\\n",
       "1959-01 64.400 6.000 11.600     90.800    1901.732   1022.000      93.706   \n",
       "1959-02 66.900 5.900 11.100     90.800    1901.732    973.000      93.706   \n",
       "1959-03 67.100 5.600 11.100     90.800    1901.732   1102.000      93.706   \n",
       "1959-04 66.900 5.200 10.800     90.800    1901.732   1086.000      93.706   \n",
       "1959-05 68.200 5.100 10.000     95.300    1901.732    968.000      93.706   \n",
       "\n",
       "         HOUS_PERMS  HOUS_STARTS  CAP_UTIL  ...  PERS_SAVINGS_PXY_12m_shift  \\\n",
       "1959-01     754.262     1657.000    39.376  ...                      -1.000   \n",
       "1959-02     754.262     1667.000    39.376  ...                      -1.000   \n",
       "1959-03     754.262     1620.000    39.376  ...                      -1.000   \n",
       "1959-04     754.262     1590.000    39.376  ...                      -1.000   \n",
       "1959-05     754.262     1498.000    39.376  ...                      -1.000   \n",
       "\n",
       "         EXPORTS_PXY_12m_shift  IMPORTS_PXY_12m_shift  \\\n",
       "1959-01                  0.000                  0.000   \n",
       "1959-02                  0.000                  0.000   \n",
       "1959-03                  0.000                  0.000   \n",
       "1959-04                  0.000                  0.000   \n",
       "1959-05                  0.000                  0.000   \n",
       "\n",
       "         TRADE_BALANCE_PXY_12m_shift  CPI_1m_shift  PPI_1m_shift  \\\n",
       "1959-01                        0.000         0.346         0.316   \n",
       "1959-02                        0.000        -0.345         0.000   \n",
       "1959-03                        0.000         0.000         0.000   \n",
       "1959-04                        0.000         0.346         0.315   \n",
       "1959-05                        0.000         0.000         0.000   \n",
       "\n",
       "         CPI_3m_shift  PPI_3m_shift  CPI_12m_shift  PPI_12m_shift  \n",
       "1959-01         0.346         0.635          1.399          0.635  \n",
       "1959-02        -0.345         0.316          1.049          0.635  \n",
       "1959-03         0.000         0.316          0.347          0.000  \n",
       "1959-04         0.000         0.315          0.346          0.633  \n",
       "1959-05         0.346         0.315          0.346          0.315  \n",
       "\n",
       "[5 rows x 154 columns]"
      ]
     },
     "execution_count": 96,
     "metadata": {},
     "output_type": "execute_result"
    }
   ],
   "source": [
    "dataset.head()"
   ]
  },
  {
   "cell_type": "code",
   "execution_count": 97,
   "metadata": {},
   "outputs": [],
   "source": [
    "\n",
    "\n",
    "#spline time - splines seriously impede the model, Time Horizon of 1 goes from LL of 4.9 to 8.19, AUC degreades by .04\n",
    "#stickiness remains\n",
    "\n",
    "#individual splines\n",
    "\n",
    "CPPR_PRICE_fit = Pipeline([\n",
    "    ('CPPR_PRICE', ColumnSelector(name='CPPR_PRICE')),\n",
    "    ('CPPR_PRICE_spline', LinearSpline(knots=[160]))\n",
    "])\n",
    "\n",
    "Spread_fit = Pipeline([\n",
    "    ('Spread', ColumnSelector(name='Spread')),\n",
    "    ('Spread_spline', LinearSpline(knots=[0,0.25]))\n",
    "])\n",
    "\n",
    "EXPORTS_1m_shift_fit = Pipeline([\n",
    "    ('EXPORTS_1m_shift', ColumnSelector(name='EXPORTS_1m_shift')),\n",
    "    ('EXPORT1m_spline', LinearSpline(knots=[700,900]))\n",
    "])\n",
    "\n",
    "ThreeYT_1m_shift_fit = Pipeline([\n",
    "    ('3YT_1m_shift', ColumnSelector(name='3YRT_1m_shift')),\n",
    "    ('3YT_1m_spline', LinearSpline(knots=[-15]))\n",
    "])\n",
    "\n",
    "US_M2_1m_shift = Pipeline([\n",
    "    ('US_M2_1m_shift', ColumnSelector(name='US_M2_1m_shift')),\n",
    "    ('US_M2_1m_spline', LinearSpline(knots=[17]))\n",
    "])\n",
    "\n",
    "HOME_SALES_3m_shift = Pipeline([\n",
    "    ('HOME_SALES_3m_shift', ColumnSelector(name='HOME_SALES_3m_shift')),\n",
    "    ('HOME_SALES_3m_spline', LinearSpline(knots=[-500]))\n",
    "])\n",
    "\n",
    "PART_TIME_3m_shift = Pipeline([\n",
    "    ('PART_TIME_3m_shift', ColumnSelector(name='PART_TIME_3m_shift')),\n",
    "    ('PART_TIME_3m_spline', LinearSpline(knots=[-160]))\n",
    "])\n",
    "\n",
    "CAP_UTIL_3m_shift = Pipeline([\n",
    "    ('CAP_UTIL_3m_shift', ColumnSelector(name='CAP_UTIL_3m_shift')),\n",
    "    ('CAP_UTIL_3m_spline', LinearSpline(knots=[-0.8]))\n",
    "])\n",
    "\n",
    "EXPORTS_3m_shift = Pipeline([\n",
    "    ('EXPORTS_3m_shift', ColumnSelector(name='EXPORTS_3m_shift')),\n",
    "    ('EXPORTS_3m_spline', LinearSpline(knots=[1500,1600]))\n",
    "])\n",
    "\n",
    "IMPORTS_3m_shift = Pipeline([\n",
    "    ('IMPORTS_3m_shift', ColumnSelector(name='IMPORTS_3m_shift')),\n",
    "    ('IMPORTS_3m_spline', LinearSpline(knots=[2000]))\n",
    "])\n",
    "\n",
    "TRADE_BALANCE_3m_shift = Pipeline([\n",
    "    ('TRADE_BALANCE_3m_shift', ColumnSelector(name='TRADE_BALANCE_3m_shift')),\n",
    "    ('TRADE_BALANCE_3m_spline', LinearSpline(knots=[-2500]))\n",
    "])\n",
    "\n",
    "US_M2_3m_shift = Pipeline([\n",
    "    ('US_M2_3m_shift', ColumnSelector(name='US_M2_3m_shift')),\n",
    "    ('US_M2_3m_spline', LinearSpline(knots=[60]))\n",
    "])\n",
    "\n",
    "HOME_SALES_12m_shift = Pipeline([\n",
    "    ('HOME_SALES_12m_shift', ColumnSelector(name='HOME_SALES_12m_shift')),\n",
    "    ('HOME_SALES_12m_spline', LinearSpline(knots=[60]))\n",
    "])\n",
    "\n",
    "PART_TIME_12m_shift = Pipeline([\n",
    "    ('PART_TIME_12m_shift', ColumnSelector(name='PART_TIME_12m_shift')),\n",
    "    ('PART_TIME_12m_spline', LinearSpline(knots=[-225, -187.5, -180,-140]))\n",
    "])\n",
    "\n",
    "CPPR_PRICE_12m_shift = Pipeline([\n",
    "    ('CPPR_PRICE_12m_shift', ColumnSelector(name='CPPR_PRICE_12m_shift')),\n",
    "    ('CPPR_PRICE_12m_spline', LinearSpline(knots=[-30]))\n",
    "])\n",
    "\n",
    "CAP_UTIL_12m_shift = Pipeline([\n",
    "    ('CAP_UTIL_12m_shift', ColumnSelector(name='CAP_UTIL_12m_shift')),\n",
    "    ('CAP_UTIL_12m_spline', LinearSpline(knots=[-2]))\n",
    "])\n",
    "\n",
    "Spread_12m_shift = Pipeline([\n",
    "    ('Spread_12m_shift', ColumnSelector(name='Spread_12m_shift')),\n",
    "    ('Spread_12m_spline', LinearSpline(knots=[-1]))\n",
    "])\n",
    "\n",
    "\n",
    "\n",
    "\n",
    "\n",
    "#union features together\n",
    "\n",
    "feature_pipeline = FeatureUnion([\n",
    "    ('intercept', Intercept()),\n",
    "    ('CPPR_PRICE_fit', CPPR_PRICE_fit),\n",
    "    ('Spread_fit', Spread_fit),\n",
    "    ('EXPORTS_1m_shift_fit', EXPORTS_1m_shift_fit),\n",
    "    ('ThreeYT_1m_shift_fit', ThreeYT_1m_shift_fit),\n",
    "    (\"US_M2_1m_shift\", US_M2_1m_shift),\n",
    "    (\"HOME_SALES_3m_shift\", HOME_SALES_3m_shift),\n",
    "    (\"PART_TIME_3m_shift\", PART_TIME_3m_shift),\n",
    "    (\"CAP_UTIL_3m_shift\", CAP_UTIL_3m_shift),\n",
    "    (\"EXPORTS_3m_shift\", EXPORTS_3m_shift),\n",
    "    (\"IMPORTS_3m_shift\", IMPORTS_3m_shift),\n",
    "    (\"TRADE_BALANCE_3m_shift\", TRADE_BALANCE_3m_shift),\n",
    "    (\"HOME_SALES_12m_shift\", HOME_SALES_12m_shift),\n",
    "    (\"PART_TIME_12m_shift\", PART_TIME_12m_shift),\n",
    "    (\"CPPR_Price_12m_shift\", CPPR_PRICE_12m_shift),\n",
    "    (\"CAP_UTIL_12m_shift\", CAP_UTIL_12m_shift),\n",
    "    (\"Spread_12m_shift\", Spread_12m_shift)\n",
    "])\n",
    "\n",
    "\n",
    "feature_pipeline.fit(dataset)\n",
    "features = feature_pipeline.transform(dataset)"
   ]
  },
  {
   "cell_type": "code",
   "execution_count": 98,
   "metadata": {},
   "outputs": [],
   "source": [
    "#dropping columns from OG dataset that were splined\n",
    "\n",
    "splined_cols = ['CPPR_PRICE','Spread','EXPORTS_1m_shift','3YRT_1m_shift','US_M2_1m_shift','PART_TIME_3m_shift',\n",
    "'CAP_UTIL_3m_shift',\n",
    "'EXPORTS_3m_shift',\n",
    "'IMPORTS_3m_shift',\n",
    "'TRADE_BALANCE_3m_shift',\n",
    "'US_M2_3m_shift',\n",
    "'HOME_SALES_12m_shift',\n",
    "'PART_TIME_12m_shift',\n",
    "'CPPR_PRICE_12m_shift',\n",
    "'CAP_UTIL_12m_shift',\n",
    "'Spread_12m_shift']\n",
    "\n",
    "dataset = dataset.drop(columns = splined_cols)"
   ]
  },
  {
   "cell_type": "code",
   "execution_count": 99,
   "metadata": {},
   "outputs": [],
   "source": [
    "#merge splined features into dataset\n",
    "\n",
    "#dataset = dataset.join(features, how='outer')"
   ]
  },
  {
   "cell_type": "code",
   "execution_count": 100,
   "metadata": {},
   "outputs": [
    {
     "data": {
      "text/plain": [
       "['PMI',\n",
       " 'UNR',\n",
       " 'YUNR',\n",
       " 'CONS_SENT',\n",
       " 'HOME_SALES',\n",
       " 'PART_TIME',\n",
       " 'HOUS_PERMS',\n",
       " 'HOUS_STARTS',\n",
       " 'CAP_UTIL',\n",
       " 'PERS_SAVINGS',\n",
       " 'EXPORTS',\n",
       " 'IMPORTS',\n",
       " 'TRADE_BALANCE',\n",
       " 'INT_RATE',\n",
       " 'US_M2',\n",
       " 'US_NHOME_SALES',\n",
       " 'PPI',\n",
       " 'CPI',\n",
       " '3YRT',\n",
       " '10 Year Treasury Yield',\n",
       " '3 Month Treasury Yield (Bond Equivalent Basis)',\n",
       " 'PMI_PXY',\n",
       " 'UNR_PXY',\n",
       " 'YUNR_PXY',\n",
       " 'CONS_SENT_PXY',\n",
       " 'HOME_SALES_PXY',\n",
       " 'PART_TIME_PXY',\n",
       " 'CPPR_PRICE_PXY',\n",
       " 'HOUS_PERMS_PXY',\n",
       " 'HOUS_STARTS_PXY',\n",
       " 'CAP_UTIL_PXY',\n",
       " 'PERS_SAVINGS_PXY',\n",
       " 'EXPORTS_PXY',\n",
       " 'IMPORTS_PXY',\n",
       " 'TRADE_BALANCE_PXY',\n",
       " 'INT_RATE_PXY',\n",
       " 'US_M2_PXY',\n",
       " 'US_NHOME_SALES_PXY',\n",
       " 'PPI_PXY',\n",
       " 'CPI_PXY',\n",
       " '3YRT_PXY',\n",
       " 'PMI_1m_shift',\n",
       " 'UNR_1m_shift',\n",
       " 'YUNR_1m_shift',\n",
       " 'CONS_SENT_1m_shift',\n",
       " 'HOME_SALES_1m_shift',\n",
       " 'PART_TIME_1m_shift',\n",
       " 'CPPR_PRICE_1m_shift',\n",
       " 'HOUS_PERMS_1m_shift',\n",
       " 'HOUS_STARTS_1m_shift',\n",
       " 'CAP_UTIL_1m_shift',\n",
       " 'PERS_SAVINGS_1m_shift',\n",
       " 'IMPORTS_1m_shift',\n",
       " 'TRADE_BALANCE_1m_shift',\n",
       " 'INT_RATE_1m_shift',\n",
       " 'US_NHOME_SALES_1m_shift',\n",
       " '10 Year Treasury Yield_1m_shift',\n",
       " '3 Month Treasury Yield (Bond Equivalent Basis)_1m_shift',\n",
       " 'Spread_1m_shift',\n",
       " 'PMI_PXY_1m_shift',\n",
       " 'UNR_PXY_1m_shift',\n",
       " 'YUNR_PXY_1m_shift',\n",
       " 'CONS_SENT_PXY_1m_shift',\n",
       " 'HOME_SALES_PXY_1m_shift',\n",
       " 'PART_TIME_PXY_1m_shift',\n",
       " 'CPPR_PRICE_PXY_1m_shift',\n",
       " 'HOUS_PERMS_PXY_1m_shift',\n",
       " 'HOUS_STARTS_PXY_1m_shift',\n",
       " 'CAP_UTIL_PXY_1m_shift',\n",
       " 'PERS_SAVINGS_PXY_1m_shift',\n",
       " 'EXPORTS_PXY_1m_shift',\n",
       " 'IMPORTS_PXY_1m_shift',\n",
       " 'TRADE_BALANCE_PXY_1m_shift',\n",
       " 'PMI_3m_shift',\n",
       " 'UNR_3m_shift',\n",
       " 'YUNR_3m_shift',\n",
       " 'CONS_SENT_3m_shift',\n",
       " 'HOME_SALES_3m_shift',\n",
       " 'CPPR_PRICE_3m_shift',\n",
       " 'HOUS_PERMS_3m_shift',\n",
       " 'HOUS_STARTS_3m_shift',\n",
       " 'PERS_SAVINGS_3m_shift',\n",
       " 'INT_RATE_3m_shift',\n",
       " 'US_NHOME_SALES_3m_shift',\n",
       " '3YRT_3m_shift',\n",
       " '10 Year Treasury Yield_3m_shift',\n",
       " '3 Month Treasury Yield (Bond Equivalent Basis)_3m_shift',\n",
       " 'Spread_3m_shift',\n",
       " 'PMI_PXY_3m_shift',\n",
       " 'UNR_PXY_3m_shift',\n",
       " 'YUNR_PXY_3m_shift',\n",
       " 'CONS_SENT_PXY_3m_shift',\n",
       " 'HOME_SALES_PXY_3m_shift',\n",
       " 'PART_TIME_PXY_3m_shift',\n",
       " 'CPPR_PRICE_PXY_3m_shift',\n",
       " 'HOUS_PERMS_PXY_3m_shift',\n",
       " 'HOUS_STARTS_PXY_3m_shift',\n",
       " 'CAP_UTIL_PXY_3m_shift',\n",
       " 'PERS_SAVINGS_PXY_3m_shift',\n",
       " 'EXPORTS_PXY_3m_shift',\n",
       " 'IMPORTS_PXY_3m_shift',\n",
       " 'TRADE_BALANCE_PXY_3m_shift',\n",
       " 'PMI_12m_shift',\n",
       " 'UNR_12m_shift',\n",
       " 'YUNR_12m_shift',\n",
       " 'CONS_SENT_12m_shift',\n",
       " 'HOUS_PERMS_12m_shift',\n",
       " 'HOUS_STARTS_12m_shift',\n",
       " 'PERS_SAVINGS_12m_shift',\n",
       " 'EXPORTS_12m_shift',\n",
       " 'IMPORTS_12m_shift',\n",
       " 'TRADE_BALANCE_12m_shift',\n",
       " 'INT_RATE_12m_shift',\n",
       " 'US_M2_12m_shift',\n",
       " 'US_NHOME_SALES_12m_shift',\n",
       " '3YRT_12m_shift',\n",
       " '10 Year Treasury Yield_12m_shift',\n",
       " '3 Month Treasury Yield (Bond Equivalent Basis)_12m_shift',\n",
       " 'PMI_PXY_12m_shift',\n",
       " 'UNR_PXY_12m_shift',\n",
       " 'YUNR_PXY_12m_shift',\n",
       " 'CONS_SENT_PXY_12m_shift',\n",
       " 'HOME_SALES_PXY_12m_shift',\n",
       " 'PART_TIME_PXY_12m_shift',\n",
       " 'CPPR_PRICE_PXY_12m_shift',\n",
       " 'HOUS_PERMS_PXY_12m_shift',\n",
       " 'HOUS_STARTS_PXY_12m_shift',\n",
       " 'CAP_UTIL_PXY_12m_shift',\n",
       " 'PERS_SAVINGS_PXY_12m_shift',\n",
       " 'EXPORTS_PXY_12m_shift',\n",
       " 'IMPORTS_PXY_12m_shift',\n",
       " 'TRADE_BALANCE_PXY_12m_shift',\n",
       " 'CPI_1m_shift',\n",
       " 'PPI_1m_shift',\n",
       " 'CPI_3m_shift',\n",
       " 'PPI_3m_shift',\n",
       " 'CPI_12m_shift',\n",
       " 'PPI_12m_shift']"
      ]
     },
     "execution_count": 100,
     "metadata": {},
     "output_type": "execute_result"
    }
   ],
   "source": [
    "list(dataset.columns)"
   ]
  },
  {
   "cell_type": "code",
   "execution_count": 101,
   "metadata": {},
   "outputs": [
    {
     "data": {
      "text/plain": [
       "\"\\n\\n#standardizing in the logistic regression model specifically as that's the only model it will impact\\n\\nstand_cols = ['PMI',\\n 'UNR',\\n 'YUNR',\\n 'CONS_SENT',\\n 'HOUS_PERMS',\\n 'HOUS_STARTS',\\n 'CAP_UTIL',\\n 'PERS_SAVINGS',\\n 'INT_RATE',\\n 'PPI',\\n 'CPI',\\n '3YRT',\\n '10 Year Treasury Yield',\\n '3 Month Treasury Yield (Bond Equivalent Basis)',\\n 'Spread',\\n 'PMI_1m_shift',\\n 'UNR_1m_shift',\\n 'YUNR_1m_shift',\\n 'CONS_SENT_1m_shift',\\n 'HOUS_PERMS_1m_shift',\\n 'HOUS_STARTS_1m_shift',\\n 'CAP_UTIL_1m_shift',\\n 'PERS_SAVINGS_1m_shift',\\n 'INT_RATE_1m_shift',\\n '3YRT_1m_shift',\\n '10 Year Treasury Yield_1m_shift',\\n '3 Month Treasury Yield (Bond Equivalent Basis)_1m_shift',\\n 'Spread_1m_shift',\\n 'PMI_3m_shift',\\n 'UNR_3m_shift',\\n 'YUNR_3m_shift',\\n 'CONS_SENT_3m_shift',\\n 'HOUS_PERMS_3m_shift',\\n 'HOUS_STARTS_3m_shift',\\n 'CAP_UTIL_3m_shift',\\n 'PERS_SAVINGS_3m_shift',\\n 'INT_RATE_3m_shift',\\n '3YRT_3m_shift',\\n '10 Year Treasury Yield_3m_shift',\\n '3 Month Treasury Yield (Bond Equivalent Basis)_3m_shift',\\n 'Spread_3m_shift',\\n 'PMI_12m_shift',\\n 'UNR_12m_shift',\\n 'YUNR_12m_shift',\\n 'CONS_SENT_12m_shift',\\n 'HOUS_PERMS_12m_shift',\\n 'HOUS_STARTS_12m_shift',\\n 'CAP_UTIL_12m_shift',\\n 'PERS_SAVINGS_12m_shift',\\n 'INT_RATE_12m_shift',\\n '3YRT_12m_shift',\\n '10 Year Treasury Yield_12m_shift',\\n '3 Month Treasury Yield (Bond Equivalent Basis)_12m_shift',\\n 'Spread_12m_shift']\\n\\ndataset[stand_cols] = StandardScaler().fit_transform(dataset[stand_cols])\\n#dataset[list(dataset.columns)] = StandardScaler().fit_transform(list(dataset.columns))\\n\\n\""
      ]
     },
     "execution_count": 101,
     "metadata": {},
     "output_type": "execute_result"
    }
   ],
   "source": [
    "#not standardizing as splined columns are now in there\n",
    "\n",
    "\"\"\"\n",
    "\n",
    "#standardizing in the logistic regression model specifically as that's the only model it will impact\n",
    "\n",
    "stand_cols = ['PMI',\n",
    " 'UNR',\n",
    " 'YUNR',\n",
    " 'CONS_SENT',\n",
    " 'HOUS_PERMS',\n",
    " 'HOUS_STARTS',\n",
    " 'CAP_UTIL',\n",
    " 'PERS_SAVINGS',\n",
    " 'INT_RATE',\n",
    " 'PPI',\n",
    " 'CPI',\n",
    " '3YRT',\n",
    " '10 Year Treasury Yield',\n",
    " '3 Month Treasury Yield (Bond Equivalent Basis)',\n",
    " 'Spread',\n",
    " 'PMI_1m_shift',\n",
    " 'UNR_1m_shift',\n",
    " 'YUNR_1m_shift',\n",
    " 'CONS_SENT_1m_shift',\n",
    " 'HOUS_PERMS_1m_shift',\n",
    " 'HOUS_STARTS_1m_shift',\n",
    " 'CAP_UTIL_1m_shift',\n",
    " 'PERS_SAVINGS_1m_shift',\n",
    " 'INT_RATE_1m_shift',\n",
    " '3YRT_1m_shift',\n",
    " '10 Year Treasury Yield_1m_shift',\n",
    " '3 Month Treasury Yield (Bond Equivalent Basis)_1m_shift',\n",
    " 'Spread_1m_shift',\n",
    " 'PMI_3m_shift',\n",
    " 'UNR_3m_shift',\n",
    " 'YUNR_3m_shift',\n",
    " 'CONS_SENT_3m_shift',\n",
    " 'HOUS_PERMS_3m_shift',\n",
    " 'HOUS_STARTS_3m_shift',\n",
    " 'CAP_UTIL_3m_shift',\n",
    " 'PERS_SAVINGS_3m_shift',\n",
    " 'INT_RATE_3m_shift',\n",
    " '3YRT_3m_shift',\n",
    " '10 Year Treasury Yield_3m_shift',\n",
    " '3 Month Treasury Yield (Bond Equivalent Basis)_3m_shift',\n",
    " 'Spread_3m_shift',\n",
    " 'PMI_12m_shift',\n",
    " 'UNR_12m_shift',\n",
    " 'YUNR_12m_shift',\n",
    " 'CONS_SENT_12m_shift',\n",
    " 'HOUS_PERMS_12m_shift',\n",
    " 'HOUS_STARTS_12m_shift',\n",
    " 'CAP_UTIL_12m_shift',\n",
    " 'PERS_SAVINGS_12m_shift',\n",
    " 'INT_RATE_12m_shift',\n",
    " '3YRT_12m_shift',\n",
    " '10 Year Treasury Yield_12m_shift',\n",
    " '3 Month Treasury Yield (Bond Equivalent Basis)_12m_shift',\n",
    " 'Spread_12m_shift']\n",
    "\n",
    "dataset[stand_cols] = StandardScaler().fit_transform(dataset[stand_cols])\n",
    "#dataset[list(dataset.columns)] = StandardScaler().fit_transform(list(dataset.columns))\n",
    "\n",
    "\"\"\"\n"
   ]
  },
  {
   "cell_type": "code",
   "execution_count": null,
   "metadata": {},
   "outputs": [],
   "source": []
  },
  {
   "cell_type": "code",
   "execution_count": 102,
   "metadata": {},
   "outputs": [],
   "source": [
    "X = dataset"
   ]
  },
  {
   "cell_type": "code",
   "execution_count": 103,
   "metadata": {},
   "outputs": [],
   "source": [
    "### Data Prep Finished Here ###"
   ]
  },
  {
   "cell_type": "code",
   "execution_count": 104,
   "metadata": {},
   "outputs": [],
   "source": [
    "#cutoff most of missing data, Post March 2019, Prior 1959. CPI/PPI missing 2016 onward so need to cut that off\n",
    "y = y.iloc[552:]\n",
    "y = y.iloc[:-59]"
   ]
  },
  {
   "cell_type": "code",
   "execution_count": 204,
   "metadata": {},
   "outputs": [],
   "source": [
    "y_shift = y.shift(-12) #shifting y to forecast 3 months out"
   ]
  },
  {
   "cell_type": "code",
   "execution_count": 205,
   "metadata": {},
   "outputs": [],
   "source": [
    "y_shift = y_shift.fillna(0)"
   ]
  },
  {
   "cell_type": "code",
   "execution_count": 206,
   "metadata": {},
   "outputs": [],
   "source": [
    "X_train = X.iloc[12:550]\n",
    "X_test = X.iloc[550:]\n",
    "y_train = y_shift.iloc[12:550]\n",
    "y_test = y_shift.iloc[550:]"
   ]
  },
  {
   "cell_type": "code",
   "execution_count": 207,
   "metadata": {},
   "outputs": [
    {
     "data": {
      "text/plain": [
       "Index(['PMI', 'UNR', 'YUNR', 'CONS_SENT', 'HOME_SALES', 'PART_TIME',\n",
       "       'HOUS_PERMS', 'HOUS_STARTS', 'CAP_UTIL', 'PERS_SAVINGS',\n",
       "       ...\n",
       "       'PERS_SAVINGS_PXY_12m_shift', 'EXPORTS_PXY_12m_shift',\n",
       "       'IMPORTS_PXY_12m_shift', 'TRADE_BALANCE_PXY_12m_shift', 'CPI_1m_shift',\n",
       "       'PPI_1m_shift', 'CPI_3m_shift', 'PPI_3m_shift', 'CPI_12m_shift',\n",
       "       'PPI_12m_shift'],\n",
       "      dtype='object', length=138)"
      ]
     },
     "execution_count": 207,
     "metadata": {},
     "output_type": "execute_result"
    }
   ],
   "source": [
    "X_train.columns"
   ]
  },
  {
   "cell_type": "code",
   "execution_count": 208,
   "metadata": {},
   "outputs": [
    {
     "data": {
      "text/plain": [
       "(538, 138)"
      ]
     },
     "execution_count": 208,
     "metadata": {},
     "output_type": "execute_result"
    }
   ],
   "source": [
    "X_train.shape"
   ]
  },
  {
   "cell_type": "code",
   "execution_count": 209,
   "metadata": {
    "scrolled": true
   },
   "outputs": [
    {
     "name": "stderr",
     "output_type": "stream",
     "text": [
      "/anaconda3/lib/python3.6/site-packages/sklearn/linear_model/sag.py:334: ConvergenceWarning: The max_iter was reached which means the coef_ did not converge\n",
      "  \"the coef_ did not converge\", ConvergenceWarning)\n"
     ]
    },
    {
     "data": {
      "text/plain": [
       "LogisticRegression(C=2000, class_weight=None, dual=False, fit_intercept=True,\n",
       "          intercept_scaling=1, max_iter=100, multi_class='warn',\n",
       "          n_jobs=None, penalty='l2', random_state=None, solver='sag',\n",
       "          tol=0.0001, verbose=0, warm_start=False)"
      ]
     },
     "execution_count": 209,
     "metadata": {},
     "output_type": "execute_result"
    }
   ],
   "source": [
    "model = LogisticRegression(penalty = 'l2', C=2000, max_iter = 100, solver = 'sag') #try throwing in a bigger C than 1\n",
    "#RidgeClassifier().fit(X, y)\n",
    "model.fit(X_train, y_train) #fitting model"
   ]
  },
  {
   "cell_type": "code",
   "execution_count": 210,
   "metadata": {},
   "outputs": [],
   "source": [
    "probs = model.predict_proba(X_test)"
   ]
  },
  {
   "cell_type": "code",
   "execution_count": 211,
   "metadata": {},
   "outputs": [
    {
     "data": {
      "text/plain": [
       "0.2718447688132093"
      ]
     },
     "execution_count": 211,
     "metadata": {},
     "output_type": "execute_result"
    }
   ],
   "source": [
    "log_loss(y_test, probs)"
   ]
  },
  {
   "cell_type": "code",
   "execution_count": 212,
   "metadata": {},
   "outputs": [
    {
     "data": {
      "text/plain": [
       "0.9557522123893805"
      ]
     },
     "execution_count": 212,
     "metadata": {},
     "output_type": "execute_result"
    }
   ],
   "source": [
    "roc_auc_score(y_test.values, probs[:,1:])"
   ]
  },
  {
   "cell_type": "code",
   "execution_count": 137,
   "metadata": {},
   "outputs": [
    {
     "name": "stdout",
     "output_type": "stream",
     "text": [
      "('PMI', -2.9533398781794177e-05)\n",
      "('UNR', -2.7231107463532517e-06)\n",
      "('YUNR', -5.779159773359312e-06)\n",
      "('CONS_SENT', -4.513900111147545e-05)\n",
      "('HOME_SALES', -0.0009983302351860238)\n",
      "('PART_TIME', -0.0004952141776065778)\n",
      "('HOUS_PERMS', -0.0006583264497515178)\n",
      "('HOUS_STARTS', -0.000786358863190315)\n",
      "('CAP_UTIL', -3.012437022295791e-05)\n",
      "('PERS_SAVINGS', -6.183478912330797e-06)\n",
      "('EXPORTS', -5.677324649719334e-06)\n",
      "('IMPORTS', 3.7078530897625896e-05)\n",
      "('TRADE_BALANCE', -4.2654436031569705e-05)\n",
      "('INT_RATE', 1.6006184976256074e-07)\n",
      "('US_M2', -0.00024552606150556316)\n",
      "('US_NHOME_SALES', -0.00026347520783013287)\n",
      "('PPI', -1.2787836034333423e-05)\n",
      "('CPI', -6.795236345227047e-06)\n",
      "('3YRT', -2.4760800238103704e-05)\n",
      "('10 Year Treasury Yield', -1.7045267009027669e-06)\n",
      "('3 Month Treasury Yield (Bond Equivalent Basis)', 9.51921603095906e-08)\n",
      "('PMI_PXY', 0.0)\n",
      "('UNR_PXY', 0.0)\n",
      "('YUNR_PXY', 0.0)\n",
      "('CONS_SENT_PXY', 0.0)\n",
      "('HOME_SALES_PXY', -3.309181245132186e-07)\n",
      "('PART_TIME_PXY', 0.0)\n",
      "('CPPR_PRICE_PXY', -2.8604020533527294e-07)\n",
      "('HOUS_PERMS_PXY', 0.0)\n",
      "('HOUS_STARTS_PXY', 0.0)\n",
      "('CAP_UTIL_PXY', -2.8604020533527294e-07)\n",
      "('PERS_SAVINGS_PXY', 0.0)\n",
      "('EXPORTS_PXY', 0.0)\n",
      "('IMPORTS_PXY', 0.0)\n",
      "('TRADE_BALANCE_PXY', 0.0)\n",
      "('INT_RATE_PXY', 0.0)\n",
      "('US_M2_PXY', 0.0)\n",
      "('US_NHOME_SALES_PXY', -1.2831994535173576e-07)\n",
      "('PPI_PXY', 0.0)\n",
      "('CPI_PXY', 0.0)\n",
      "('3YRT_PXY', -9.021912856711452e-08)\n",
      "('PMI_1m_shift', 8.972587786564648e-08)\n",
      "('UNR_1m_shift', -1.0997279529426362e-08)\n",
      "('YUNR_1m_shift', -1.0214409372233872e-08)\n",
      "('CONS_SENT_1m_shift', 7.668919505156461e-08)\n",
      "('HOME_SALES_1m_shift', -2.8174038083566443e-05)\n",
      "('PART_TIME_1m_shift', -4.587671394475906e-06)\n",
      "('CPPR_PRICE_1m_shift', -1.1521476866605446e-06)\n",
      "('HOUS_PERMS_1m_shift', 4.35516987533416e-06)\n",
      "('HOUS_STARTS_1m_shift', -1.2926238065856695e-05)\n",
      "('CAP_UTIL_1m_shift', -2.2529170436944262e-07)\n",
      "('PERS_SAVINGS_1m_shift', -1.0883644856355744e-07)\n",
      "('IMPORTS_1m_shift', -8.970806681663158e-06)\n",
      "('TRADE_BALANCE_1m_shift', 8.180539367800685e-05)\n",
      "('INT_RATE_1m_shift', -3.363078471867072e-07)\n",
      "('US_NHOME_SALES_1m_shift', 5.838815306936527e-06)\n",
      "('10 Year Treasury Yield_1m_shift', -4.20732058015671e-09)\n",
      "('3 Month Treasury Yield (Bond Equivalent Basis)_1m_shift', -1.2358378880133462e-07)\n",
      "('Spread_1m_shift', 1.193764682211835e-07)\n",
      "('PMI_PXY_1m_shift', 0.0)\n",
      "('UNR_PXY_1m_shift', 0.0)\n",
      "('YUNR_PXY_1m_shift', 0.0)\n",
      "('CONS_SENT_PXY_1m_shift', 0.0)\n",
      "('HOME_SALES_PXY_1m_shift', 4.716357606343738e-09)\n",
      "('PART_TIME_PXY_1m_shift', 0.0)\n",
      "('CPPR_PRICE_PXY_1m_shift', 4.478465653039333e-09)\n",
      "('HOUS_PERMS_PXY_1m_shift', 3.6501018816217117e-09)\n",
      "('HOUS_STARTS_PXY_1m_shift', 0.0)\n",
      "('CAP_UTIL_PXY_1m_shift', 4.478465653039333e-09)\n",
      "('PERS_SAVINGS_PXY_1m_shift', 0.0)\n",
      "('EXPORTS_PXY_1m_shift', 0.0)\n",
      "('IMPORTS_PXY_1m_shift', 0.0)\n",
      "('TRADE_BALANCE_PXY_1m_shift', 0.0)\n",
      "('PMI_3m_shift', -6.966392040349068e-07)\n",
      "('UNR_3m_shift', -4.122099932328577e-09)\n",
      "('YUNR_3m_shift', -1.631687526875802e-08)\n",
      "('CONS_SENT_3m_shift', -5.887562554423874e-07)\n",
      "('HOME_SALES_3m_shift', -6.928459415243811e-05)\n",
      "('CPPR_PRICE_3m_shift', -1.0803899974631263e-07)\n",
      "('HOUS_PERMS_3m_shift', -1.0314596191078609e-05)\n",
      "('HOUS_STARTS_3m_shift', -3.186255613425619e-05)\n",
      "('PERS_SAVINGS_3m_shift', -8.682477523035339e-08)\n",
      "('INT_RATE_3m_shift', 1.4634211344599322e-07)\n",
      "('US_NHOME_SALES_3m_shift', -7.904518500436814e-06)\n",
      "('3YRT_3m_shift', -6.809859739980735e-07)\n",
      "('10 Year Treasury Yield_3m_shift', 4.8136922224927685e-08)\n",
      "('3 Month Treasury Yield (Bond Equivalent Basis)_3m_shift', 2.739156408406594e-07)\n",
      "('Spread_3m_shift', -2.2577871861575236e-07)\n",
      "('PMI_PXY_3m_shift', 0.0)\n",
      "('UNR_PXY_3m_shift', 0.0)\n",
      "('YUNR_PXY_3m_shift', 0.0)\n",
      "('CONS_SENT_PXY_3m_shift', 0.0)\n",
      "('HOME_SALES_PXY_3m_shift', 1.2218167022872604e-08)\n",
      "('PART_TIME_PXY_3m_shift', 0.0)\n",
      "('CPPR_PRICE_PXY_3m_shift', 1.3423350259347186e-08)\n",
      "('HOUS_PERMS_PXY_3m_shift', 1.177116524213726e-08)\n",
      "('HOUS_STARTS_PXY_3m_shift', 0.0)\n",
      "('CAP_UTIL_PXY_3m_shift', 1.3423350259347186e-08)\n",
      "('PERS_SAVINGS_PXY_3m_shift', 0.0)\n",
      "('EXPORTS_PXY_3m_shift', 0.0)\n",
      "('IMPORTS_PXY_3m_shift', 0.0)\n",
      "('TRADE_BALANCE_PXY_3m_shift', 0.0)\n",
      "('PMI_12m_shift', -6.468372457060668e-07)\n",
      "('UNR_12m_shift', 1.7567072417781598e-07)\n",
      "('YUNR_12m_shift', 3.11608129264214e-07)\n",
      "('CONS_SENT_12m_shift', 2.256154513377954e-06)\n",
      "('HOUS_PERMS_12m_shift', 3.834498331686083e-06)\n",
      "('HOUS_STARTS_12m_shift', 2.145504091323484e-05)\n",
      "('PERS_SAVINGS_12m_shift', 1.8168607813309418e-07)\n",
      "('EXPORTS_12m_shift', 0.0002461636044960096)\n",
      "('IMPORTS_12m_shift', 6.334933006133144e-05)\n",
      "('TRADE_BALANCE_12m_shift', 0.00018282147883357216)\n",
      "('INT_RATE_12m_shift', 3.1470516437565093e-07)\n",
      "('US_M2_12m_shift', 4.845303264189458e-07)\n",
      "('US_NHOME_SALES_12m_shift', -4.258739760447862e-06)\n",
      "('3YRT_12m_shift', -7.1878693704314175e-06)\n",
      "('10 Year Treasury Yield_12m_shift', -3.069991426461038e-07)\n",
      "('3 Month Treasury Yield (Bond Equivalent Basis)_12m_shift', 2.5879652928810303e-07)\n",
      "('PMI_PXY_12m_shift', 0.0)\n",
      "('UNR_PXY_12m_shift', 0.0)\n",
      "('YUNR_PXY_12m_shift', 0.0)\n",
      "('CONS_SENT_PXY_12m_shift', 0.0)\n",
      "('HOME_SALES_PXY_12m_shift', 4.619945785368562e-08)\n",
      "('PART_TIME_PXY_12m_shift', 0.0)\n",
      "('CPPR_PRICE_PXY_12m_shift', 4.487791917799947e-08)\n",
      "('HOUS_PERMS_PXY_12m_shift', 4.919824527682013e-08)\n",
      "('HOUS_STARTS_PXY_12m_shift', 0.0)\n",
      "('CAP_UTIL_PXY_12m_shift', 4.487791917799947e-08)\n",
      "('PERS_SAVINGS_PXY_12m_shift', 0.0)\n",
      "('EXPORTS_PXY_12m_shift', 0.0)\n",
      "('IMPORTS_PXY_12m_shift', 0.0)\n",
      "('TRADE_BALANCE_PXY_12m_shift', 0.0)\n",
      "('CPI_1m_shift', -9.56282024811545e-08)\n",
      "('PPI_1m_shift', -1.406795571523308e-08)\n",
      "('CPI_3m_shift', -2.3941432111163995e-07)\n",
      "('PPI_3m_shift', -9.218053158915897e-08)\n",
      "('CPI_12m_shift', -6.03990027018865e-07)\n",
      "('PPI_12m_shift', -1.5266150488697822e-07)\n"
     ]
    }
   ],
   "source": [
    "for object in zip(dataset.columns,model.coef_[0] ):\n",
    "    print(object)"
   ]
  },
  {
   "cell_type": "code",
   "execution_count": 213,
   "metadata": {},
   "outputs": [
    {
     "name": "stdout",
     "output_type": "stream",
     "text": [
      "            0     1  actual\n",
      "2004-11 0.934 0.066   0.000\n",
      "2004-12 0.885 0.115   0.000\n",
      "2005-01 0.910 0.090   0.000\n",
      "2005-02 0.925 0.075   0.000\n",
      "2005-03 0.921 0.079   0.000\n",
      "2005-04 0.929 0.071   0.000\n",
      "2005-05 0.919 0.081   0.000\n",
      "2005-06 0.882 0.118   0.000\n",
      "2005-07 0.901 0.099   0.000\n",
      "2005-08 0.895 0.105   0.000\n",
      "2005-09 0.923 0.077   0.000\n",
      "2005-10 0.854 0.146   0.000\n",
      "2005-11 0.783 0.217   0.000\n",
      "2005-12 0.819 0.181   0.000\n",
      "2006-01 0.808 0.192   0.000\n",
      "2006-02 0.768 0.232   0.000\n",
      "2006-03 0.806 0.194   0.000\n",
      "2006-04 0.770 0.230   0.000\n",
      "2006-05 0.717 0.283   0.000\n",
      "2006-06 0.613 0.387   0.000\n",
      "2006-07 0.643 0.357   0.000\n",
      "2006-08 0.587 0.413   0.000\n",
      "2006-09 0.415 0.585   0.000\n",
      "2006-10 0.433 0.567   0.000\n",
      "2006-11 0.543 0.457   0.000\n",
      "2006-12 0.625 0.375   0.000\n",
      "2007-01 0.448 0.552   1.000\n",
      "2007-02 0.605 0.395   1.000\n",
      "2007-03 0.533 0.467   1.000\n",
      "2007-04 0.465 0.535   0.000\n",
      "2007-05 0.455 0.545   0.000\n",
      "2007-06 0.460 0.540   0.000\n",
      "2007-07 0.319 0.681   0.000\n",
      "2007-08 0.273 0.727   0.000\n",
      "2007-09 0.288 0.712   0.000\n",
      "2007-10 0.315 0.685   1.000\n",
      "2007-11 0.335 0.665   1.000\n",
      "2007-12 0.250 0.750   1.000\n",
      "2008-01 0.268 0.732   1.000\n",
      "2008-02 0.151 0.849   1.000\n",
      "2008-03 0.181 0.819   1.000\n",
      "2008-04 0.155 0.845   1.000\n",
      "2008-05 0.146 0.854   1.000\n",
      "2008-06 0.133 0.867   1.000\n",
      "2008-07 0.114 0.886   0.000\n",
      "2008-08 0.151 0.849   0.000\n",
      "2008-09 0.375 0.625   0.000\n",
      "2008-10 0.561 0.439   0.000\n",
      "2008-11 0.704 0.296   0.000\n",
      "2008-12 0.956 0.044   0.000\n",
      "2009-01 0.982 0.018   0.000\n",
      "2009-02 0.989 0.011   0.000\n",
      "2009-03 0.995 0.005   0.000\n",
      "2009-04 0.997 0.003   0.000\n",
      "2009-05 0.998 0.002   0.000\n",
      "2009-06 0.999 0.001   0.000\n",
      "2009-07 0.999 0.001   0.000\n",
      "2009-08 0.998 0.002   0.000\n",
      "2009-09 0.992 0.008   0.000\n",
      "2009-10 0.984 0.016   0.000\n",
      "2009-11 0.982 0.018   0.000\n",
      "2009-12 0.865 0.135   0.000\n",
      "2010-01 0.741 0.259   0.000\n",
      "2010-02 0.856 0.144   0.000\n",
      "2010-03 0.769 0.231   0.000\n",
      "2010-04 0.788 0.212   0.000\n",
      "2010-05 0.767 0.233   0.000\n",
      "2010-06 0.753 0.247   0.000\n",
      "2010-07 0.478 0.522   0.000\n",
      "2010-08 0.610 0.390   0.000\n",
      "2010-09 0.658 0.342   0.000\n",
      "2010-10 0.679 0.321   0.000\n",
      "2010-11 0.690 0.310   0.000\n",
      "2010-12 0.765 0.235   0.000\n",
      "2011-01 0.708 0.292   0.000\n",
      "2011-02 0.589 0.411   0.000\n",
      "2011-03 0.636 0.364   0.000\n",
      "2011-04 0.501 0.499   0.000\n",
      "2011-05 0.635 0.365   0.000\n",
      "2011-06 0.560 0.440   0.000\n",
      "2011-07 0.611 0.389   0.000\n",
      "2011-08 0.650 0.350   0.000\n",
      "2011-09 0.662 0.338   0.000\n",
      "2011-10 0.834 0.166   0.000\n",
      "2011-11 0.892 0.108   0.000\n",
      "2011-12 0.892 0.108   0.000\n",
      "2012-01 0.885 0.115   0.000\n",
      "2012-02 0.850 0.150   0.000\n",
      "2012-03 0.939 0.061   0.000\n",
      "2012-04 0.942 0.058   0.000\n",
      "2012-05 0.942 0.058   0.000\n",
      "2012-06 0.921 0.079   0.000\n",
      "2012-07 0.970 0.030   0.000\n",
      "2012-08 0.977 0.023   0.000\n",
      "2012-09 0.976 0.024   0.000\n",
      "2012-10 0.986 0.014   0.000\n",
      "2012-11 0.975 0.025   0.000\n",
      "2012-12 0.958 0.042   0.000\n",
      "2013-01 0.971 0.029   0.000\n",
      "2013-02 0.981 0.019   0.000\n",
      "2013-03 0.984 0.016   0.000\n",
      "2013-04 0.988 0.012   0.000\n",
      "2013-05 0.989 0.011   0.000\n",
      "2013-06 0.984 0.016   0.000\n",
      "2013-07 0.989 0.011   0.000\n",
      "2013-08 0.986 0.014   0.000\n",
      "2013-09 0.993 0.007   0.000\n",
      "2013-10 0.976 0.024   0.000\n",
      "2013-11 0.979 0.021   0.000\n",
      "2013-12 0.993 0.007   0.000\n",
      "2014-01 0.990 0.010   0.000\n",
      "2014-02 0.990 0.010   0.000\n",
      "2014-03 0.984 0.016   0.000\n",
      "2014-04 0.985 0.015   0.000\n",
      "2014-05 0.971 0.029   0.000\n",
      "2014-06 0.989 0.011   0.000\n",
      "2014-07 0.988 0.012   0.000\n",
      "2014-08 0.988 0.012   0.000\n",
      "2014-09 0.990 0.010   0.000\n",
      "2014-10 0.992 0.008   0.000\n",
      "2014-11 0.995 0.005   0.000\n",
      "2014-12 0.995 0.005   0.000\n",
      "2015-01 0.996 0.004   0.000\n",
      "2015-02 0.996 0.004   0.000\n",
      "2015-03 0.998 0.002   0.000\n"
     ]
    }
   ],
   "source": [
    "results = pd.DataFrame(probs)\n",
    "results['actual'] = y_test.values\n",
    "results.index = y_test.index\n",
    "pd.set_option('display.float_format', lambda x: '%.3f' % x)\n",
    "with pd.option_context('display.max_rows', None, 'display.max_columns', None):\n",
    "    print(results)"
   ]
  },
  {
   "cell_type": "code",
   "execution_count": 116,
   "metadata": {},
   "outputs": [],
   "source": [
    "#Testing on the training data to see if model fit got better\n",
    "probs = model.predict_proba(X_train)"
   ]
  },
  {
   "cell_type": "code",
   "execution_count": 117,
   "metadata": {},
   "outputs": [
    {
     "data": {
      "text/plain": [
       "0.012927259322249461"
      ]
     },
     "execution_count": 117,
     "metadata": {},
     "output_type": "execute_result"
    }
   ],
   "source": [
    "log_loss(y_train, probs)"
   ]
  },
  {
   "cell_type": "code",
   "execution_count": 118,
   "metadata": {},
   "outputs": [
    {
     "data": {
      "text/plain": [
       "1.0"
      ]
     },
     "execution_count": 118,
     "metadata": {},
     "output_type": "execute_result"
    }
   ],
   "source": [
    "roc_auc_score(y_train.values, probs[:,1:])"
   ]
  },
  {
   "cell_type": "code",
   "execution_count": 173,
   "metadata": {},
   "outputs": [
    {
     "name": "stderr",
     "output_type": "stream",
     "text": [
      "/anaconda3/lib/python3.6/site-packages/sklearn/linear_model/logistic.py:758: ConvergenceWarning: lbfgs failed to converge. Increase the number of iterations.\n",
      "  \"of iterations.\", ConvergenceWarning)\n",
      "/anaconda3/lib/python3.6/site-packages/sklearn/linear_model/sag.py:334: ConvergenceWarning: The max_iter was reached which means the coef_ did not converge\n",
      "  \"the coef_ did not converge\", ConvergenceWarning)\n"
     ]
    },
    {
     "name": "stdout",
     "output_type": "stream",
     "text": [
      "Testing C 1000, max_iter 100 and s of lbfgs, yielding log loss of 3.312143078722374 and AUC of 0.9373156342182891\n",
      "Testing C 1000, max_iter 100 and s of sag, yielding log loss of 0.33369214137174696 and AUC of 0.8893805309734513\n"
     ]
    },
    {
     "name": "stderr",
     "output_type": "stream",
     "text": [
      "/anaconda3/lib/python3.6/site-packages/sklearn/linear_model/logistic.py:758: ConvergenceWarning: lbfgs failed to converge. Increase the number of iterations.\n",
      "  \"of iterations.\", ConvergenceWarning)\n"
     ]
    },
    {
     "name": "stdout",
     "output_type": "stream",
     "text": [
      "Testing C 1000, max_iter 50000 and s of lbfgs, yielding log loss of 25.56731985577733 and AUC of 0.6017699115044248\n",
      "Testing C 1000, max_iter 50000 and s of sag, yielding log loss of 1.2977805591886182 and AUC of 0.9115044247787611\n"
     ]
    },
    {
     "name": "stderr",
     "output_type": "stream",
     "text": [
      "/anaconda3/lib/python3.6/site-packages/sklearn/linear_model/logistic.py:758: ConvergenceWarning: lbfgs failed to converge. Increase the number of iterations.\n",
      "  \"of iterations.\", ConvergenceWarning)\n"
     ]
    },
    {
     "name": "stdout",
     "output_type": "stream",
     "text": [
      "Testing C 1000, max_iter 100000 and s of lbfgs, yielding log loss of 25.56731985577733 and AUC of 0.6017699115044248\n",
      "Testing C 1000, max_iter 100000 and s of sag, yielding log loss of 1.2974593959851188 and AUC of 0.9115044247787611\n"
     ]
    },
    {
     "name": "stderr",
     "output_type": "stream",
     "text": [
      "/anaconda3/lib/python3.6/site-packages/sklearn/linear_model/logistic.py:758: ConvergenceWarning: lbfgs failed to converge. Increase the number of iterations.\n",
      "  \"of iterations.\", ConvergenceWarning)\n"
     ]
    },
    {
     "name": "stdout",
     "output_type": "stream",
     "text": [
      "Testing C 1000, max_iter 200000 and s of lbfgs, yielding log loss of 25.56731985577733 and AUC of 0.6017699115044248\n",
      "Testing C 1000, max_iter 200000 and s of sag, yielding log loss of 1.297632346136051 and AUC of 0.9115044247787611\n",
      "Testing C 1500, max_iter 100 and s of lbfgs, yielding log loss of 4.127371147883606 and AUC of 0.9380530973451329\n",
      "Testing C 1500, max_iter 100 and s of sag, yielding log loss of 0.3348948467006205 and AUC of 0.890117994100295\n"
     ]
    },
    {
     "name": "stderr",
     "output_type": "stream",
     "text": [
      "/anaconda3/lib/python3.6/site-packages/sklearn/linear_model/logistic.py:758: ConvergenceWarning: lbfgs failed to converge. Increase the number of iterations.\n",
      "  \"of iterations.\", ConvergenceWarning)\n",
      "/anaconda3/lib/python3.6/site-packages/sklearn/linear_model/sag.py:334: ConvergenceWarning: The max_iter was reached which means the coef_ did not converge\n",
      "  \"the coef_ did not converge\", ConvergenceWarning)\n",
      "/anaconda3/lib/python3.6/site-packages/sklearn/linear_model/logistic.py:758: ConvergenceWarning: lbfgs failed to converge. Increase the number of iterations.\n",
      "  \"of iterations.\", ConvergenceWarning)\n"
     ]
    },
    {
     "name": "stdout",
     "output_type": "stream",
     "text": [
      "Testing C 1500, max_iter 50000 and s of lbfgs, yielding log loss of 24.349199408268976 and AUC of 0.6150442477876106\n",
      "Testing C 1500, max_iter 50000 and s of sag, yielding log loss of 1.2977537433074378 and AUC of 0.9115044247787611\n"
     ]
    },
    {
     "name": "stderr",
     "output_type": "stream",
     "text": [
      "/anaconda3/lib/python3.6/site-packages/sklearn/linear_model/logistic.py:758: ConvergenceWarning: lbfgs failed to converge. Increase the number of iterations.\n",
      "  \"of iterations.\", ConvergenceWarning)\n"
     ]
    },
    {
     "name": "stdout",
     "output_type": "stream",
     "text": [
      "Testing C 1500, max_iter 100000 and s of lbfgs, yielding log loss of 24.349199408268976 and AUC of 0.6150442477876106\n",
      "Testing C 1500, max_iter 100000 and s of sag, yielding log loss of 1.2976223555596151 and AUC of 0.9115044247787611\n"
     ]
    },
    {
     "name": "stderr",
     "output_type": "stream",
     "text": [
      "/anaconda3/lib/python3.6/site-packages/sklearn/linear_model/logistic.py:758: ConvergenceWarning: lbfgs failed to converge. Increase the number of iterations.\n",
      "  \"of iterations.\", ConvergenceWarning)\n"
     ]
    },
    {
     "name": "stdout",
     "output_type": "stream",
     "text": [
      "Testing C 1500, max_iter 200000 and s of lbfgs, yielding log loss of 24.349199408268976 and AUC of 0.6150442477876106\n",
      "Testing C 1500, max_iter 200000 and s of sag, yielding log loss of 1.298053432944702 and AUC of 0.9115044247787611\n",
      "Testing C 2000, max_iter 100 and s of lbfgs, yielding log loss of 3.3462730484259624 and AUC of 0.9358407079646018\n",
      "Testing C 2000, max_iter 100 and s of sag, yielding log loss of 0.3334209951454132 and AUC of 0.8908554572271387\n"
     ]
    },
    {
     "name": "stderr",
     "output_type": "stream",
     "text": [
      "/anaconda3/lib/python3.6/site-packages/sklearn/linear_model/logistic.py:758: ConvergenceWarning: lbfgs failed to converge. Increase the number of iterations.\n",
      "  \"of iterations.\", ConvergenceWarning)\n",
      "/anaconda3/lib/python3.6/site-packages/sklearn/linear_model/sag.py:334: ConvergenceWarning: The max_iter was reached which means the coef_ did not converge\n",
      "  \"the coef_ did not converge\", ConvergenceWarning)\n",
      "/anaconda3/lib/python3.6/site-packages/sklearn/linear_model/logistic.py:758: ConvergenceWarning: lbfgs failed to converge. Increase the number of iterations.\n",
      "  \"of iterations.\", ConvergenceWarning)\n"
     ]
    },
    {
     "name": "stdout",
     "output_type": "stream",
     "text": [
      "Testing C 2000, max_iter 50000 and s of lbfgs, yielding log loss of 25.014409358885995 and AUC of 0.6283185840707964\n",
      "Testing C 2000, max_iter 50000 and s of sag, yielding log loss of 1.2972165144026322 and AUC of 0.9115044247787611\n"
     ]
    },
    {
     "name": "stderr",
     "output_type": "stream",
     "text": [
      "/anaconda3/lib/python3.6/site-packages/sklearn/linear_model/logistic.py:758: ConvergenceWarning: lbfgs failed to converge. Increase the number of iterations.\n",
      "  \"of iterations.\", ConvergenceWarning)\n"
     ]
    },
    {
     "name": "stdout",
     "output_type": "stream",
     "text": [
      "Testing C 2000, max_iter 100000 and s of lbfgs, yielding log loss of 25.014409358885995 and AUC of 0.6283185840707964\n",
      "Testing C 2000, max_iter 100000 and s of sag, yielding log loss of 1.2975352718645652 and AUC of 0.9115044247787611\n"
     ]
    },
    {
     "name": "stderr",
     "output_type": "stream",
     "text": [
      "/anaconda3/lib/python3.6/site-packages/sklearn/linear_model/logistic.py:758: ConvergenceWarning: lbfgs failed to converge. Increase the number of iterations.\n",
      "  \"of iterations.\", ConvergenceWarning)\n"
     ]
    },
    {
     "name": "stdout",
     "output_type": "stream",
     "text": [
      "Testing C 2000, max_iter 200000 and s of lbfgs, yielding log loss of 25.014409358885995 and AUC of 0.6283185840707964\n",
      "Testing C 2000, max_iter 200000 and s of sag, yielding log loss of 1.2974643230237517 and AUC of 0.9115044247787611\n",
      "Testing C 2500, max_iter 100 and s of lbfgs, yielding log loss of 3.7505483433130085 and AUC of 0.9402654867256637\n",
      "Testing C 2500, max_iter 100 and s of sag, yielding log loss of 0.3342093523007668 and AUC of 0.8908554572271387\n"
     ]
    },
    {
     "name": "stderr",
     "output_type": "stream",
     "text": [
      "/anaconda3/lib/python3.6/site-packages/sklearn/linear_model/logistic.py:758: ConvergenceWarning: lbfgs failed to converge. Increase the number of iterations.\n",
      "  \"of iterations.\", ConvergenceWarning)\n",
      "/anaconda3/lib/python3.6/site-packages/sklearn/linear_model/sag.py:334: ConvergenceWarning: The max_iter was reached which means the coef_ did not converge\n",
      "  \"the coef_ did not converge\", ConvergenceWarning)\n",
      "/anaconda3/lib/python3.6/site-packages/sklearn/linear_model/logistic.py:758: ConvergenceWarning: lbfgs failed to converge. Increase the number of iterations.\n",
      "  \"of iterations.\", ConvergenceWarning)\n",
      "/anaconda3/lib/python3.6/site-packages/sklearn/linear_model/base.py:297: RuntimeWarning: overflow encountered in exp\n",
      "  np.exp(prob, prob)\n"
     ]
    },
    {
     "name": "stdout",
     "output_type": "stream",
     "text": [
      "Testing C 2500, max_iter 50000 and s of lbfgs, yielding log loss of 26.79057398669737 and AUC of 0.5752212389380531\n",
      "Testing C 2500, max_iter 50000 and s of sag, yielding log loss of 1.297789562964393 and AUC of 0.9115044247787611\n"
     ]
    },
    {
     "name": "stderr",
     "output_type": "stream",
     "text": [
      "/anaconda3/lib/python3.6/site-packages/sklearn/linear_model/logistic.py:758: ConvergenceWarning: lbfgs failed to converge. Increase the number of iterations.\n",
      "  \"of iterations.\", ConvergenceWarning)\n",
      "/anaconda3/lib/python3.6/site-packages/sklearn/linear_model/base.py:297: RuntimeWarning: overflow encountered in exp\n",
      "  np.exp(prob, prob)\n"
     ]
    },
    {
     "name": "stdout",
     "output_type": "stream",
     "text": [
      "Testing C 2500, max_iter 100000 and s of lbfgs, yielding log loss of 26.79057398669737 and AUC of 0.5752212389380531\n",
      "Testing C 2500, max_iter 100000 and s of sag, yielding log loss of 1.2976890026295989 and AUC of 0.9115044247787611\n"
     ]
    },
    {
     "name": "stderr",
     "output_type": "stream",
     "text": [
      "/anaconda3/lib/python3.6/site-packages/sklearn/linear_model/logistic.py:758: ConvergenceWarning: lbfgs failed to converge. Increase the number of iterations.\n",
      "  \"of iterations.\", ConvergenceWarning)\n",
      "/anaconda3/lib/python3.6/site-packages/sklearn/linear_model/base.py:297: RuntimeWarning: overflow encountered in exp\n",
      "  np.exp(prob, prob)\n"
     ]
    },
    {
     "name": "stdout",
     "output_type": "stream",
     "text": [
      "Testing C 2500, max_iter 200000 and s of lbfgs, yielding log loss of 26.79057398669737 and AUC of 0.5752212389380531\n",
      "Testing C 2500, max_iter 200000 and s of sag, yielding log loss of 1.2973564034003342 and AUC of 0.9115044247787611\n"
     ]
    }
   ],
   "source": [
    "#Grid Search\n",
    "\n",
    "C = [1000,1500,2000,2500] #inverse of regularization strength, smaller means stronger regularization, defaults to 1\n",
    "max_iter = [100, 50000, 100000,200000] #maximum number of iterations taken for the solver to converge\n",
    "solver = ['lbfgs', 'sag'] #newtons method is computationally expensive so take out, lbfgs is the best for smaller data, \n",
    "\n",
    "for val in C:\n",
    "    for n in max_iter:\n",
    "        for s in solver:\n",
    "\n",
    "            model = LogisticRegression(penalty = 'l2', C=val, max_iter = n, solver = s)\n",
    "            model.fit(X_train, y_train) #fitting model\n",
    "            probs = model.predict_proba(X_test)\n",
    "            ll = log_loss(y_test, probs)\n",
    "            auc = roc_auc_score(y_test.values, probs[:,1:])\n",
    "            print(\"Testing C {}, max_iter {} and s of {}, yielding log loss of {} and AUC of {}\".format(val,n, s, ll, auc))"
   ]
  },
  {
   "cell_type": "code",
   "execution_count": 178,
   "metadata": {},
   "outputs": [
    {
     "name": "stderr",
     "output_type": "stream",
     "text": [
      "/anaconda3/lib/python3.6/site-packages/sklearn/linear_model/sag.py:334: ConvergenceWarning: The max_iter was reached which means the coef_ did not converge\n",
      "  \"the coef_ did not converge\", ConvergenceWarning)\n"
     ]
    }
   ],
   "source": [
    "model = LogisticRegression(penalty = 'l2', C=2000, max_iter = 100, solver = 'sag')\n",
    "model.fit(X_train, y_train) #fitting model\n",
    "probs = model.predict_proba(X_test)\n",
    "ll = log_loss(y_test, probs)\n",
    "auc = roc_auc_score(y_test.values, probs[:,1:])"
   ]
  },
  {
   "cell_type": "code",
   "execution_count": 179,
   "metadata": {},
   "outputs": [
    {
     "data": {
      "text/plain": [
       "0.33403368640904707"
      ]
     },
     "execution_count": 179,
     "metadata": {},
     "output_type": "execute_result"
    }
   ],
   "source": [
    "ll"
   ]
  },
  {
   "cell_type": "code",
   "execution_count": 180,
   "metadata": {},
   "outputs": [
    {
     "data": {
      "text/plain": [
       "0.890117994100295"
      ]
     },
     "execution_count": 180,
     "metadata": {},
     "output_type": "execute_result"
    }
   ],
   "source": [
    "auc"
   ]
  },
  {
   "cell_type": "code",
   "execution_count": 181,
   "metadata": {},
   "outputs": [
    {
     "name": "stdout",
     "output_type": "stream",
     "text": [
      "            0     1  actual\n",
      "2004-11 0.992 0.008   0.000\n",
      "2004-12 0.982 0.018   0.000\n",
      "2005-01 0.991 0.009   0.000\n",
      "2005-02 0.988 0.012   0.000\n",
      "2005-03 0.960 0.040   0.000\n",
      "2005-04 0.990 0.010   0.000\n",
      "2005-05 0.971 0.029   0.000\n",
      "2005-06 0.969 0.031   0.000\n",
      "2005-07 0.972 0.028   0.000\n",
      "2005-08 0.973 0.027   0.000\n",
      "2005-09 0.985 0.015   0.000\n",
      "2005-10 0.973 0.027   0.000\n",
      "2005-11 0.929 0.071   0.000\n",
      "2005-12 0.967 0.033   0.000\n",
      "2006-01 0.974 0.026   0.000\n",
      "2006-02 0.928 0.072   0.000\n",
      "2006-03 0.978 0.022   0.000\n",
      "2006-04 0.943 0.057   0.000\n",
      "2006-05 0.969 0.031   0.000\n",
      "2006-06 0.943 0.057   0.000\n",
      "2006-07 0.933 0.067   0.000\n",
      "2006-08 0.948 0.052   0.000\n",
      "2006-09 0.848 0.152   0.000\n",
      "2006-10 0.735 0.265   0.000\n",
      "2006-11 0.884 0.116   0.000\n",
      "2006-12 0.914 0.086   0.000\n",
      "2007-01 0.703 0.297   0.000\n",
      "2007-02 0.807 0.193   0.000\n",
      "2007-03 0.914 0.086   0.000\n",
      "2007-04 0.773 0.227   0.000\n",
      "2007-05 0.787 0.213   0.000\n",
      "2007-06 0.811 0.189   0.000\n",
      "2007-07 0.784 0.216   0.000\n",
      "2007-08 0.696 0.304   0.000\n",
      "2007-09 0.760 0.240   0.000\n",
      "2007-10 0.882 0.118   1.000\n",
      "2007-11 0.919 0.081   1.000\n",
      "2007-12 0.774 0.226   1.000\n",
      "2008-01 0.934 0.066   0.000\n",
      "2008-02 0.944 0.056   0.000\n",
      "2008-03 0.713 0.287   0.000\n",
      "2008-04 0.945 0.055   0.000\n",
      "2008-05 0.903 0.097   0.000\n",
      "2008-06 0.946 0.054   0.000\n",
      "2008-07 0.969 0.031   1.000\n",
      "2008-08 0.844 0.156   1.000\n",
      "2008-09 0.619 0.381   1.000\n",
      "2008-10 0.656 0.344   1.000\n",
      "2008-11 0.034 0.966   1.000\n",
      "2008-12 0.060 0.940   1.000\n",
      "2009-01 0.012 0.988   1.000\n",
      "2009-02 0.010 0.990   1.000\n",
      "2009-03 0.034 0.966   1.000\n",
      "2009-04 0.012 0.988   0.000\n",
      "2009-05 0.012 0.988   0.000\n",
      "2009-06 0.027 0.973   0.000\n",
      "2009-07 0.026 0.974   0.000\n",
      "2009-08 0.026 0.974   0.000\n",
      "2009-09 0.222 0.778   0.000\n",
      "2009-10 0.294 0.706   0.000\n",
      "2009-11 0.916 0.084   0.000\n",
      "2009-12 0.964 0.036   0.000\n",
      "2010-01 0.977 0.023   0.000\n",
      "2010-02 0.997 0.003   0.000\n",
      "2010-03 0.997 0.003   0.000\n",
      "2010-04 0.997 0.003   0.000\n",
      "2010-05 0.999 0.001   0.000\n",
      "2010-06 0.999 0.001   0.000\n",
      "2010-07 0.989 0.011   0.000\n",
      "2010-08 0.997 0.003   0.000\n",
      "2010-09 0.990 0.010   0.000\n",
      "2010-10 0.993 0.007   0.000\n",
      "2010-11 0.990 0.010   0.000\n",
      "2010-12 0.995 0.005   0.000\n",
      "2011-01 0.998 0.002   0.000\n",
      "2011-02 0.979 0.021   0.000\n",
      "2011-03 0.996 0.004   0.000\n",
      "2011-04 0.994 0.006   0.000\n",
      "2011-05 0.995 0.005   0.000\n",
      "2011-06 0.985 0.015   0.000\n",
      "2011-07 0.993 0.007   0.000\n",
      "2011-08 0.989 0.011   0.000\n",
      "2011-09 0.992 0.008   0.000\n",
      "2011-10 0.992 0.008   0.000\n",
      "2011-11 0.992 0.008   0.000\n",
      "2011-12 0.989 0.011   0.000\n",
      "2012-01 0.971 0.029   0.000\n",
      "2012-02 0.972 0.028   0.000\n",
      "2012-03 0.993 0.007   0.000\n",
      "2012-04 0.967 0.033   0.000\n",
      "2012-05 0.956 0.044   0.000\n",
      "2012-06 0.941 0.059   0.000\n",
      "2012-07 0.952 0.048   0.000\n",
      "2012-08 0.958 0.042   0.000\n",
      "2012-09 0.977 0.023   0.000\n",
      "2012-10 0.954 0.046   0.000\n",
      "2012-11 0.983 0.017   0.000\n",
      "2012-12 0.943 0.057   0.000\n",
      "2013-01 0.970 0.030   0.000\n",
      "2013-02 0.989 0.011   0.000\n",
      "2013-03 0.869 0.131   0.000\n",
      "2013-04 0.977 0.023   0.000\n",
      "2013-05 0.980 0.020   0.000\n",
      "2013-06 0.969 0.031   0.000\n",
      "2013-07 0.986 0.014   0.000\n",
      "2013-08 0.985 0.015   0.000\n",
      "2013-09 0.989 0.011   0.000\n",
      "2013-10 0.989 0.011   0.000\n",
      "2013-11 0.979 0.021   0.000\n",
      "2013-12 0.989 0.011   0.000\n",
      "2014-01 0.991 0.009   0.000\n",
      "2014-02 0.984 0.016   0.000\n",
      "2014-03 0.997 0.003   0.000\n",
      "2014-04 0.995 0.005   0.000\n",
      "2014-05 0.989 0.011   0.000\n",
      "2014-06 0.994 0.006   0.000\n",
      "2014-07 0.995 0.005   0.000\n",
      "2014-08 0.994 0.006   0.000\n",
      "2014-09 0.992 0.008   0.000\n",
      "2014-10 0.994 0.006   0.000\n",
      "2014-11 0.991 0.009   0.000\n",
      "2014-12 0.995 0.005   0.000\n",
      "2015-01 0.971 0.029   0.000\n",
      "2015-02 0.943 0.057   0.000\n",
      "2015-03 0.992 0.008   0.000\n"
     ]
    }
   ],
   "source": [
    "results = pd.DataFrame(probs)\n",
    "results['actual'] = y_test.values\n",
    "results.index = y_test.index\n",
    "pd.set_option('display.float_format', lambda x: '%.3f' % x)\n",
    "with pd.option_context('display.max_rows', None, 'display.max_columns', None):\n",
    "    print(results)"
   ]
  },
  {
   "cell_type": "code",
   "execution_count": null,
   "metadata": {},
   "outputs": [],
   "source": []
  }
 ],
 "metadata": {
  "kernelspec": {
   "display_name": "Python 3",
   "language": "python",
   "name": "python3"
  },
  "language_info": {
   "codemirror_mode": {
    "name": "ipython",
    "version": 3
   },
   "file_extension": ".py",
   "mimetype": "text/x-python",
   "name": "python",
   "nbconvert_exporter": "python",
   "pygments_lexer": "ipython3",
   "version": "3.6.8"
  }
 },
 "nbformat": 4,
 "nbformat_minor": 2
}
