{
 "cells": [
  {
   "cell_type": "code",
   "execution_count": 2,
   "metadata": {},
   "outputs": [],
   "source": [
    "#1.1 Initial datapoints. log loss 0.64\n",
    "#1.2 Momentum factors, CPI/PPI Calculations, modified timeframe. LL: 1yr - 10.64 3M - 1.64\n",
    "#1.3 Standardizing continuous features"
   ]
  },
  {
   "cell_type": "code",
   "execution_count": 77,
   "metadata": {},
   "outputs": [],
   "source": [
    "#Imports and API Key\n",
    "\n",
    "import pandas as pd\n",
    "import quandl\n",
    "from scipy import stats\n",
    "import scipy\n",
    "from sklearn.linear_model import LogisticRegression, LinearRegression\n",
    "from sklearn.model_selection import train_test_split\n",
    "from sklearn.metrics import log_loss\n",
    "import matplotlib.pyplot as plt\n",
    "from sklearn.metrics import roc_auc_score\n",
    "\n",
    "from sklearn.preprocessing import StandardScaler\n",
    "\n",
    "%aimport dataclean\n",
    "\n",
    "quandl.ApiConfig.api_key = 'm8FYMyoCaJSbTrBASNHh'"
   ]
  },
  {
   "cell_type": "code",
   "execution_count": 63,
   "metadata": {},
   "outputs": [],
   "source": [
    "#pulling data from Quandl\n",
    "\n",
    "data = pd.read_csv('data_for_pull.csv') #staging the QUANDL keys to pull in CSV\n",
    "cols = list(data['Var_name'].astype('str'))\n",
    "dataset = quandl.get([val for val in data['Quandl Key']]) #looping through the QUANDL keys to pull it into one DF\n",
    "dataset.columns = cols"
   ]
  },
  {
   "cell_type": "code",
   "execution_count": 64,
   "metadata": {},
   "outputs": [],
   "source": [
    "#pulling FED Yield Curve data\n",
    "\n",
    "yields = pd.read_csv('Fed10Y_3M.csv')\n",
    "yields['Date'] = pd.to_datetime(yields['Date'])\n",
    "yields['Date'] = yields['Date'].apply(lambda x: x.strftime('%Y-%m'))\n",
    "yields = yields.set_index('Date')\n",
    "yields = yields.drop(['3 Month Treasury Yield', 'Rec_prob', 'NBER_Rec','Unnamed: 7'], axis=1) "
   ]
  },
  {
   "cell_type": "code",
   "execution_count": 65,
   "metadata": {},
   "outputs": [],
   "source": [
    "## back to working on the general data\n",
    "dataset.index = dataset.index.strftime('%Y-%m') #converting the datetime index to Y/M so it is collapsable\n",
    "dataset = dataset.groupby(dataset.index, as_index=True).agg(sum) #collapsing by Y/M"
   ]
  },
  {
   "cell_type": "code",
   "execution_count": 66,
   "metadata": {},
   "outputs": [],
   "source": [
    "#converting GDP quarterly data into monthly\n",
    "\n",
    "dataset = dataclean.convert_q_to_m(dataset, 'GDP')\n",
    "\n",
    "#converting consumer sentiment into monthly\n",
    "\n",
    "dataset = dataclean.convert_q_to_m(dataset, 'CONS_SENT')"
   ]
  },
  {
   "cell_type": "code",
   "execution_count": 67,
   "metadata": {},
   "outputs": [],
   "source": [
    "#calculating change in GDP and converting Y into categorical values \n",
    "dataset['Recession'] = ((dataset['GDP'] - dataset['GDP'].shift(3)) < 0).astype(int)"
   ]
  },
  {
   "cell_type": "code",
   "execution_count": 68,
   "metadata": {},
   "outputs": [],
   "source": [
    "#merge fed interest rate data here\n",
    "dataset = dataset.join(yields, how='outer')"
   ]
  },
  {
   "cell_type": "code",
   "execution_count": 69,
   "metadata": {},
   "outputs": [],
   "source": [
    "#cutoff most of missing data, Post March 2019, Prior 1959. CPI/PPI missing 2016 onward so need to cut that off\n",
    "dataset = dataset.iloc[552:]\n",
    "dataset = dataset.iloc[:-59]"
   ]
  },
  {
   "cell_type": "code",
   "execution_count": 70,
   "metadata": {},
   "outputs": [],
   "source": [
    "y = dataset['Recession'] #splitting off Y"
   ]
  },
  {
   "cell_type": "code",
   "execution_count": 71,
   "metadata": {},
   "outputs": [],
   "source": [
    "y_shift = y.shift(3) #shifting y to forecast 3 months out"
   ]
  },
  {
   "cell_type": "code",
   "execution_count": 72,
   "metadata": {},
   "outputs": [],
   "source": [
    "y_shift = y_shift.fillna(0)"
   ]
  },
  {
   "cell_type": "code",
   "execution_count": 73,
   "metadata": {},
   "outputs": [],
   "source": [
    "dataset = dataset.drop(columns = ['GDP','Recession']) #dropping calc column and recession column from dataset, experimenting with taking out fed funds rate"
   ]
  },
  {
   "cell_type": "code",
   "execution_count": 74,
   "metadata": {},
   "outputs": [],
   "source": [
    "#substituting mean value in for missing values and adding dummy column to indicate where done\n",
    "\n",
    "for col in dataset.columns:\n",
    "    dataclean.clean_zeros(col, dataset)"
   ]
  },
  {
   "cell_type": "code",
   "execution_count": 75,
   "metadata": {},
   "outputs": [],
   "source": [
    "#adding momentum factors\n",
    "\n",
    "momentum_cols = list(dataset.columns[:-6])\n",
    "\n",
    "momentum_cols.remove('PPI') #removing PPI and CPI because they need a different transformation\n",
    "momentum_cols.remove('CPI')\n",
    "\n",
    "for i in [1,3,12]:\n",
    "    for col in momentum_cols:\n",
    "        dataclean.create_momentum(col,dataset,i)"
   ]
  },
  {
   "cell_type": "code",
   "execution_count": 76,
   "metadata": {},
   "outputs": [],
   "source": [
    "#CPI Calcs\n",
    "\n",
    "for i in [1,3,12]:\n",
    "    for col in ['CPI','PPI']:\n",
    "        dataclean.infl_momentum(col,dataset,i)"
   ]
  },
  {
   "cell_type": "code",
   "execution_count": 79,
   "metadata": {},
   "outputs": [
    {
     "data": {
      "text/plain": [
       "Index(['PMI', 'UNR', 'YUNR', 'CONS_SENT', 'HOME_SALES', 'PART_TIME',\n",
       "       'CPPR_PRICE', 'HOUS_PERMS', 'HOUS_STARTS', 'CAP_UTIL', 'PERS_SAVINGS',\n",
       "       'EXPORTS', 'IMPORTS', 'TRADE_BALANCE', 'INT_RATE', 'US_M2',\n",
       "       'US_NHOME_SALES', 'PPI', 'CPI', '3YRT', '10 Year Treasury Yield',\n",
       "       '3 Month Treasury Yield (Bond Equivalent Basis)', 'Spread',\n",
       "       'HOME_SALES_PXY', 'CPPR_PRICE_PXY', 'HOUS_PERMS_PXY', 'CAP_UTIL_PXY',\n",
       "       'US_NHOME_SALES_PXY', '3YRT_PXY', 'PMI_1m_shift', 'UNR_1m_shift',\n",
       "       'YUNR_1m_shift', 'CONS_SENT_1m_shift', 'HOME_SALES_1m_shift',\n",
       "       'PART_TIME_1m_shift', 'CPPR_PRICE_1m_shift', 'HOUS_PERMS_1m_shift',\n",
       "       'HOUS_STARTS_1m_shift', 'CAP_UTIL_1m_shift', 'PERS_SAVINGS_1m_shift',\n",
       "       'EXPORTS_1m_shift', 'IMPORTS_1m_shift', 'TRADE_BALANCE_1m_shift',\n",
       "       'INT_RATE_1m_shift', 'US_M2_1m_shift', 'US_NHOME_SALES_1m_shift',\n",
       "       '3YRT_1m_shift', '10 Year Treasury Yield_1m_shift',\n",
       "       '3 Month Treasury Yield (Bond Equivalent Basis)_1m_shift',\n",
       "       'Spread_1m_shift', 'PMI_3m_shift', 'UNR_3m_shift', 'YUNR_3m_shift',\n",
       "       'CONS_SENT_3m_shift', 'HOME_SALES_3m_shift', 'PART_TIME_3m_shift',\n",
       "       'CPPR_PRICE_3m_shift', 'HOUS_PERMS_3m_shift', 'HOUS_STARTS_3m_shift',\n",
       "       'CAP_UTIL_3m_shift', 'PERS_SAVINGS_3m_shift', 'EXPORTS_3m_shift',\n",
       "       'IMPORTS_3m_shift', 'TRADE_BALANCE_3m_shift', 'INT_RATE_3m_shift',\n",
       "       'US_M2_3m_shift', 'US_NHOME_SALES_3m_shift', '3YRT_3m_shift',\n",
       "       '10 Year Treasury Yield_3m_shift',\n",
       "       '3 Month Treasury Yield (Bond Equivalent Basis)_3m_shift',\n",
       "       'Spread_3m_shift', 'PMI_12m_shift', 'UNR_12m_shift', 'YUNR_12m_shift',\n",
       "       'CONS_SENT_12m_shift', 'HOME_SALES_12m_shift', 'PART_TIME_12m_shift',\n",
       "       'CPPR_PRICE_12m_shift', 'HOUS_PERMS_12m_shift', 'HOUS_STARTS_12m_shift',\n",
       "       'CAP_UTIL_12m_shift', 'PERS_SAVINGS_12m_shift', 'EXPORTS_12m_shift',\n",
       "       'IMPORTS_12m_shift', 'TRADE_BALANCE_12m_shift', 'INT_RATE_12m_shift',\n",
       "       'US_M2_12m_shift', 'US_NHOME_SALES_12m_shift', '3YRT_12m_shift',\n",
       "       '10 Year Treasury Yield_12m_shift',\n",
       "       '3 Month Treasury Yield (Bond Equivalent Basis)_12m_shift',\n",
       "       'Spread_12m_shift', 'CPI_1m_shift', 'PPI_1m_shift', 'CPI_3m_shift',\n",
       "       'PPI_3m_shift', 'CPI_12m_shift', 'PPI_12m_shift'],\n",
       "      dtype='object')"
      ]
     },
     "execution_count": 79,
     "metadata": {},
     "output_type": "execute_result"
    }
   ],
   "source": [
    "dataset.columns"
   ]
  },
  {
   "cell_type": "code",
   "execution_count": 81,
   "metadata": {},
   "outputs": [],
   "source": [
    "#standardizing in the logistic regression model specifically as that's the only model it will impact\n",
    "\n",
    "stand_cols = ['PMI', 'UNR', 'YUNR', 'CONS_SENT', 'HOME_SALES', 'PART_TIME',\n",
    "       'CPPR_PRICE', 'HOUS_PERMS', 'HOUS_STARTS', 'CAP_UTIL', 'PERS_SAVINGS',\n",
    "       'EXPORTS', 'IMPORTS', 'TRADE_BALANCE', 'INT_RATE', 'US_M2',\n",
    "       'US_NHOME_SALES', 'PPI', 'CPI', '3YRT', '10 Year Treasury Yield',\n",
    "       '3 Month Treasury Yield (Bond Equivalent Basis)', 'Spread','PMI_1m_shift', 'UNR_1m_shift',\n",
    "       'YUNR_1m_shift', 'CONS_SENT_1m_shift', 'HOME_SALES_1m_shift',\n",
    "       'PART_TIME_1m_shift', 'CPPR_PRICE_1m_shift', 'HOUS_PERMS_1m_shift',\n",
    "       'HOUS_STARTS_1m_shift', 'CAP_UTIL_1m_shift', 'PERS_SAVINGS_1m_shift',\n",
    "       'EXPORTS_1m_shift', 'IMPORTS_1m_shift', 'TRADE_BALANCE_1m_shift',\n",
    "       'INT_RATE_1m_shift', 'US_M2_1m_shift', 'US_NHOME_SALES_1m_shift',\n",
    "       '3YRT_1m_shift', '10 Year Treasury Yield_1m_shift',\n",
    "       '3 Month Treasury Yield (Bond Equivalent Basis)_1m_shift',\n",
    "       'Spread_1m_shift', 'PMI_3m_shift', 'UNR_3m_shift', 'YUNR_3m_shift',\n",
    "       'CONS_SENT_3m_shift', 'HOME_SALES_3m_shift', 'PART_TIME_3m_shift',\n",
    "       'CPPR_PRICE_3m_shift', 'HOUS_PERMS_3m_shift', 'HOUS_STARTS_3m_shift',\n",
    "       'CAP_UTIL_3m_shift', 'PERS_SAVINGS_3m_shift', 'EXPORTS_3m_shift',\n",
    "       'IMPORTS_3m_shift', 'TRADE_BALANCE_3m_shift', 'INT_RATE_3m_shift',\n",
    "       'US_M2_3m_shift', 'US_NHOME_SALES_3m_shift', '3YRT_3m_shift',\n",
    "       '10 Year Treasury Yield_3m_shift',\n",
    "       '3 Month Treasury Yield (Bond Equivalent Basis)_3m_shift',\n",
    "       'Spread_3m_shift', 'PMI_12m_shift', 'UNR_12m_shift', 'YUNR_12m_shift',\n",
    "       'CONS_SENT_12m_shift', 'HOME_SALES_12m_shift', 'PART_TIME_12m_shift',\n",
    "       'CPPR_PRICE_12m_shift', 'HOUS_PERMS_12m_shift', 'HOUS_STARTS_12m_shift',\n",
    "       'CAP_UTIL_12m_shift', 'PERS_SAVINGS_12m_shift', 'EXPORTS_12m_shift',\n",
    "       'IMPORTS_12m_shift', 'TRADE_BALANCE_12m_shift', 'INT_RATE_12m_shift',\n",
    "       'US_M2_12m_shift', 'US_NHOME_SALES_12m_shift', '3YRT_12m_shift',\n",
    "       '10 Year Treasury Yield_12m_shift',\n",
    "       '3 Month Treasury Yield (Bond Equivalent Basis)_12m_shift',\n",
    "       'Spread_12m_shift', 'CPI_1m_shift', 'PPI_1m_shift', 'CPI_3m_shift',\n",
    "       'PPI_3m_shift', 'CPI_12m_shift', 'PPI_12m_shift']\n",
    "\n",
    "dataset[stand_cols] = StandardScaler().fit_transform(dataset[stand_cols])"
   ]
  },
  {
   "cell_type": "code",
   "execution_count": 83,
   "metadata": {},
   "outputs": [],
   "source": [
    "X = dataset"
   ]
  },
  {
   "cell_type": "code",
   "execution_count": 84,
   "metadata": {},
   "outputs": [],
   "source": [
    "### Data Prep Finished Here ###"
   ]
  },
  {
   "cell_type": "code",
   "execution_count": 85,
   "metadata": {},
   "outputs": [],
   "source": [
    "X_train = X.iloc[12:550]\n",
    "X_test = X.iloc[550:]\n",
    "y_train = y_shift.iloc[12:550]\n",
    "y_test = y_shift.iloc[550:]"
   ]
  },
  {
   "cell_type": "code",
   "execution_count": 43,
   "metadata": {},
   "outputs": [
    {
     "data": {
      "text/plain": [
       "Index(['PMI', 'UNR', 'YUNR', 'CONS_SENT', 'HOME_SALES', 'PART_TIME',\n",
       "       'CPPR_PRICE', 'HOUS_PERMS', 'HOUS_STARTS', 'CAP_UTIL', 'PERS_SAVINGS',\n",
       "       'EXPORTS', 'IMPORTS', 'TRADE_BALANCE', 'INT_RATE', 'US_M2',\n",
       "       'US_NHOME_SALES', 'PPI', 'CPI', '3YRT', '10 Year Treasury Yield',\n",
       "       '3 Month Treasury Yield (Bond Equivalent Basis)', 'Spread',\n",
       "       'HOME_SALES_PXY', 'CPPR_PRICE_PXY', 'HOUS_PERMS_PXY', 'CAP_UTIL_PXY',\n",
       "       'US_NHOME_SALES_PXY', '3YRT_PXY', 'PMI_1m_shift', 'UNR_1m_shift',\n",
       "       'YUNR_1m_shift', 'CONS_SENT_1m_shift', 'HOME_SALES_1m_shift',\n",
       "       'PART_TIME_1m_shift', 'CPPR_PRICE_1m_shift', 'HOUS_PERMS_1m_shift',\n",
       "       'HOUS_STARTS_1m_shift', 'CAP_UTIL_1m_shift', 'PERS_SAVINGS_1m_shift',\n",
       "       'EXPORTS_1m_shift', 'IMPORTS_1m_shift', 'TRADE_BALANCE_1m_shift',\n",
       "       'INT_RATE_1m_shift', 'US_M2_1m_shift', 'US_NHOME_SALES_1m_shift',\n",
       "       '3YRT_1m_shift', '10 Year Treasury Yield_1m_shift',\n",
       "       '3 Month Treasury Yield (Bond Equivalent Basis)_1m_shift',\n",
       "       'Spread_1m_shift', 'PMI_3m_shift', 'UNR_3m_shift', 'YUNR_3m_shift',\n",
       "       'CONS_SENT_3m_shift', 'HOME_SALES_3m_shift', 'PART_TIME_3m_shift',\n",
       "       'CPPR_PRICE_3m_shift', 'HOUS_PERMS_3m_shift', 'HOUS_STARTS_3m_shift',\n",
       "       'CAP_UTIL_3m_shift', 'PERS_SAVINGS_3m_shift', 'EXPORTS_3m_shift',\n",
       "       'IMPORTS_3m_shift', 'TRADE_BALANCE_3m_shift', 'INT_RATE_3m_shift',\n",
       "       'US_M2_3m_shift', 'US_NHOME_SALES_3m_shift', '3YRT_3m_shift',\n",
       "       '10 Year Treasury Yield_3m_shift',\n",
       "       '3 Month Treasury Yield (Bond Equivalent Basis)_3m_shift',\n",
       "       'Spread_3m_shift', 'PMI_12m_shift', 'UNR_12m_shift', 'YUNR_12m_shift',\n",
       "       'CONS_SENT_12m_shift', 'HOME_SALES_12m_shift', 'PART_TIME_12m_shift',\n",
       "       'CPPR_PRICE_12m_shift', 'HOUS_PERMS_12m_shift', 'HOUS_STARTS_12m_shift',\n",
       "       'CAP_UTIL_12m_shift', 'PERS_SAVINGS_12m_shift', 'EXPORTS_12m_shift',\n",
       "       'IMPORTS_12m_shift', 'TRADE_BALANCE_12m_shift', 'INT_RATE_12m_shift',\n",
       "       'US_M2_12m_shift', 'US_NHOME_SALES_12m_shift', '3YRT_12m_shift',\n",
       "       '10 Year Treasury Yield_12m_shift',\n",
       "       '3 Month Treasury Yield (Bond Equivalent Basis)_12m_shift',\n",
       "       'Spread_12m_shift', 'CPI_1m_shift', 'PPI_1m_shift', 'CPI_3m_shift',\n",
       "       'PPI_3m_shift', 'CPI_12m_shift', 'PPI_12m_shift'],\n",
       "      dtype='object')"
      ]
     },
     "execution_count": 43,
     "metadata": {},
     "output_type": "execute_result"
    }
   ],
   "source": [
    "X_train.columns"
   ]
  },
  {
   "cell_type": "code",
   "execution_count": 86,
   "metadata": {},
   "outputs": [
    {
     "name": "stderr",
     "output_type": "stream",
     "text": [
      "/anaconda3/lib/python3.6/site-packages/sklearn/linear_model/logistic.py:433: FutureWarning: Default solver will be changed to 'lbfgs' in 0.22. Specify a solver to silence this warning.\n",
      "  FutureWarning)\n"
     ]
    },
    {
     "data": {
      "text/plain": [
       "LogisticRegression(C=1.0, class_weight=None, dual=False, fit_intercept=True,\n",
       "          intercept_scaling=1, max_iter=100, multi_class='warn',\n",
       "          n_jobs=None, penalty='l2', random_state=None, solver='warn',\n",
       "          tol=0.0001, verbose=0, warm_start=False)"
      ]
     },
     "execution_count": 86,
     "metadata": {},
     "output_type": "execute_result"
    }
   ],
   "source": [
    "model = LogisticRegression()\n",
    "model.fit(X_train, y_train) #fitting model"
   ]
  },
  {
   "cell_type": "code",
   "execution_count": 87,
   "metadata": {},
   "outputs": [],
   "source": [
    "probs = model.predict_proba(X_test)"
   ]
  },
  {
   "cell_type": "code",
   "execution_count": 88,
   "metadata": {},
   "outputs": [
    {
     "data": {
      "text/plain": [
       "6.021906095824658"
      ]
     },
     "execution_count": 88,
     "metadata": {},
     "output_type": "execute_result"
    }
   ],
   "source": [
    "log_loss(y_test, probs)"
   ]
  },
  {
   "cell_type": "code",
   "execution_count": 90,
   "metadata": {},
   "outputs": [
    {
     "data": {
      "text/plain": [
       "0.8569321533923303"
      ]
     },
     "execution_count": 90,
     "metadata": {},
     "output_type": "execute_result"
    }
   ],
   "source": [
    "roc_auc_score(y_test.values, probs[:,1:])"
   ]
  },
  {
   "cell_type": "code",
   "execution_count": 93,
   "metadata": {},
   "outputs": [
    {
     "name": "stdout",
     "output_type": "stream",
     "text": [
      "('PMI', -0.6046958997649435)\n",
      "('UNR', 0.4869981003348622)\n",
      "('YUNR', 0.3272478476190074)\n",
      "('CONS_SENT', -0.32042220685189415)\n",
      "('HOME_SALES', -0.3833947307292064)\n",
      "('PART_TIME', -0.0028731950918967943)\n",
      "('CPPR_PRICE', 1.231379839394793)\n",
      "('HOUS_PERMS', -0.31748919134419484)\n",
      "('HOUS_STARTS', -0.22935867794511067)\n",
      "('CAP_UTIL', -0.4756048846292046)\n",
      "('PERS_SAVINGS', -0.07416693382587194)\n",
      "('EXPORTS', 0.45887951043346326)\n",
      "('IMPORTS', 0.46727556181443625)\n",
      "('TRADE_BALANCE', -0.4451766541271315)\n",
      "('INT_RATE', -0.1780485140113532)\n",
      "('US_M2', 0.34382738256711054)\n",
      "('US_NHOME_SALES', -0.5669798613826992)\n",
      "('PPI', -0.02724660967846331)\n",
      "('CPI', -0.2343931201784717)\n",
      "('3YRT', 0.13884825326041544)\n",
      "('10 Year Treasury Yield', -0.7267226275727917)\n",
      "('3 Month Treasury Yield (Bond Equivalent Basis)', -0.48200782114702256)\n",
      "('Spread', -0.3426087842131937)\n",
      "('HOME_SALES_PXY', -0.36899249413161644)\n",
      "('CPPR_PRICE_PXY', -0.22822364419667948)\n",
      "('HOUS_PERMS_PXY', 0.0)\n",
      "('CAP_UTIL_PXY', -0.22822364419667948)\n",
      "('US_NHOME_SALES_PXY', 0.41461001368322004)\n",
      "('3YRT_PXY', 0.5507545986717963)\n",
      "('PMI_1m_shift', 0.24482227246807714)\n",
      "('UNR_1m_shift', -0.21812646950008874)\n",
      "('YUNR_1m_shift', -0.148154516936454)\n",
      "('CONS_SENT_1m_shift', 0.6491443043826108)\n",
      "('HOME_SALES_1m_shift', 0.24885172425659788)\n",
      "('PART_TIME_1m_shift', -0.16354084007451913)\n",
      "('CPPR_PRICE_1m_shift', 0.011249995067731835)\n",
      "('HOUS_PERMS_1m_shift', 0.12937201075401086)\n",
      "('HOUS_STARTS_1m_shift', -0.01467642662714035)\n",
      "('CAP_UTIL_1m_shift', -0.021022504289495522)\n",
      "('PERS_SAVINGS_1m_shift', -0.525562009757905)\n",
      "('EXPORTS_1m_shift', 0.32190094782395334)\n",
      "('IMPORTS_1m_shift', 0.15766645650124397)\n",
      "('TRADE_BALANCE_1m_shift', 0.04103850515200553)\n",
      "('INT_RATE_1m_shift', -0.21265819158935206)\n",
      "('US_M2_1m_shift', 0.20722477578882267)\n",
      "('US_NHOME_SALES_1m_shift', 0.3759159426146933)\n",
      "('3YRT_1m_shift', -0.0770686064776634)\n",
      "('10 Year Treasury Yield_1m_shift', 0.4264511254121187)\n",
      "('3 Month Treasury Yield (Bond Equivalent Basis)_1m_shift', 0.24245068884376192)\n",
      "('Spread_1m_shift', 0.019217480601117425)\n",
      "('PMI_3m_shift', 0.015384704156860152)\n",
      "('UNR_3m_shift', 0.4269528031373151)\n",
      "('YUNR_3m_shift', -0.26264851768595987)\n",
      "('CONS_SENT_3m_shift', 0.08775648896804096)\n",
      "('HOME_SALES_3m_shift', -0.39733899900520603)\n",
      "('PART_TIME_3m_shift', -0.12269841789627225)\n",
      "('CPPR_PRICE_3m_shift', 0.3482567488409139)\n",
      "('HOUS_PERMS_3m_shift', -0.1346524245791444)\n",
      "('HOUS_STARTS_3m_shift', -0.16217696323704925)\n",
      "('CAP_UTIL_3m_shift', 0.19747923777893212)\n",
      "('PERS_SAVINGS_3m_shift', 0.13557164237169925)\n",
      "('EXPORTS_3m_shift', -0.1694513243372295)\n",
      "('IMPORTS_3m_shift', -0.13504645423892966)\n",
      "('TRADE_BALANCE_3m_shift', 0.04605714360525525)\n",
      "('INT_RATE_3m_shift', 0.22642182794073903)\n",
      "('US_M2_3m_shift', 0.2381524851892948)\n",
      "('US_NHOME_SALES_3m_shift', -0.15617846751737355)\n",
      "('3YRT_3m_shift', 0.3186522694727864)\n",
      "('10 Year Treasury Yield_3m_shift', -0.18000051225652136)\n",
      "('3 Month Treasury Yield (Bond Equivalent Basis)_3m_shift', 0.04795465541900672)\n",
      "('Spread_3m_shift', -0.20081186497677783)\n",
      "('PMI_12m_shift', -0.5930098156806402)\n",
      "('UNR_12m_shift', 0.36551344734188684)\n",
      "('YUNR_12m_shift', -0.42255241905900914)\n",
      "('CONS_SENT_12m_shift', -0.356184673676467)\n",
      "('HOME_SALES_12m_shift', -0.6018874421585134)\n",
      "('PART_TIME_12m_shift', 0.33140363255475785)\n",
      "('CPPR_PRICE_12m_shift', 0.40637043355831104)\n",
      "('HOUS_PERMS_12m_shift', -0.10657787197750579)\n",
      "('HOUS_STARTS_12m_shift', 0.0795933900082725)\n",
      "('CAP_UTIL_12m_shift', 0.28740327583058084)\n",
      "('PERS_SAVINGS_12m_shift', 0.30790974342522875)\n",
      "('EXPORTS_12m_shift', 0.1281187597262918)\n",
      "('IMPORTS_12m_shift', -0.20839076537594972)\n",
      "('TRADE_BALANCE_12m_shift', 0.5728936695978751)\n",
      "('INT_RATE_12m_shift', 0.2320944104032035)\n",
      "('US_M2_12m_shift', 0.6481336980899493)\n",
      "('US_NHOME_SALES_12m_shift', -0.14200986452499215)\n",
      "('3YRT_12m_shift', 0.7161441257844241)\n",
      "('10 Year Treasury Yield_12m_shift', -0.437194379774246)\n",
      "('3 Month Treasury Yield (Bond Equivalent Basis)_12m_shift', -0.35735755495244864)\n",
      "('Spread_12m_shift', 0.10378922643137108)\n",
      "('CPI_1m_shift', 0.1308143258970704)\n",
      "('PPI_1m_shift', -0.005535559861975104)\n",
      "('CPI_3m_shift', -0.1342558451980684)\n",
      "('PPI_3m_shift', -0.5270221174720041)\n",
      "('CPI_12m_shift', -0.5025476186857455)\n",
      "('PPI_12m_shift', -0.5069429755092213)\n"
     ]
    }
   ],
   "source": [
    "for object in zip(dataset.columns,model.coef_[0] ):\n",
    "    print(object)"
   ]
  },
  {
   "cell_type": "code",
   "execution_count": 91,
   "metadata": {},
   "outputs": [
    {
     "name": "stdout",
     "output_type": "stream",
     "text": [
      "            0     1  actual\n",
      "2004-11 0.999 0.001   0.000\n",
      "2004-12 0.997 0.003   0.000\n",
      "2005-01 0.963 0.037   0.000\n",
      "2005-02 0.998 0.002   0.000\n",
      "2005-03 0.996 0.004   0.000\n",
      "2005-04 0.999 0.001   0.000\n",
      "2005-05 0.996 0.004   0.000\n",
      "2005-06 0.803 0.197   0.000\n",
      "2005-07 0.934 0.066   0.000\n",
      "2005-08 0.999 0.001   0.000\n",
      "2005-09 1.000 0.000   0.000\n",
      "2005-10 0.994 0.006   0.000\n",
      "2005-11 0.974 0.026   0.000\n",
      "2005-12 0.426 0.574   0.000\n",
      "2006-01 0.647 0.353   0.000\n",
      "2006-02 0.746 0.254   0.000\n",
      "2006-03 0.267 0.733   0.000\n",
      "2006-04 0.158 0.842   0.000\n",
      "2006-05 0.067 0.933   0.000\n",
      "2006-06 0.008 0.992   0.000\n",
      "2006-07 0.020 0.980   0.000\n",
      "2006-08 0.027 0.973   0.000\n",
      "2006-09 0.006 0.994   0.000\n",
      "2006-10 0.001 0.999   0.000\n",
      "2006-11 0.005 0.995   0.000\n",
      "2006-12 0.014 0.986   0.000\n",
      "2007-01 0.012 0.988   0.000\n",
      "2007-02 0.076 0.924   0.000\n",
      "2007-03 0.004 0.996   0.000\n",
      "2007-04 0.003 0.997   0.000\n",
      "2007-05 0.002 0.998   0.000\n",
      "2007-06 0.008 0.992   0.000\n",
      "2007-07 0.002 0.998   0.000\n",
      "2007-08 0.002 0.998   0.000\n",
      "2007-09 0.001 0.999   0.000\n",
      "2007-10 0.000 1.000   0.000\n",
      "2007-11 0.038 0.962   0.000\n",
      "2007-12 0.015 0.985   0.000\n",
      "2008-01 0.006 0.994   0.000\n",
      "2008-02 0.001 0.999   0.000\n",
      "2008-03 0.001 0.999   0.000\n",
      "2008-04 0.000 1.000   1.000\n",
      "2008-05 0.030 0.970   1.000\n",
      "2008-06 0.000 1.000   1.000\n",
      "2008-07 0.002 0.998   0.000\n",
      "2008-08 0.010 0.990   0.000\n",
      "2008-09 0.003 0.997   0.000\n",
      "2008-10 0.001 0.999   0.000\n",
      "2008-11 0.000 1.000   0.000\n",
      "2008-12 0.000 1.000   0.000\n",
      "2009-01 0.000 1.000   1.000\n",
      "2009-02 0.000 1.000   1.000\n",
      "2009-03 0.000 1.000   1.000\n",
      "2009-04 0.000 1.000   1.000\n",
      "2009-05 0.000 1.000   1.000\n",
      "2009-06 0.000 1.000   1.000\n",
      "2009-07 0.000 1.000   1.000\n",
      "2009-08 0.000 1.000   1.000\n",
      "2009-09 0.000 1.000   1.000\n",
      "2009-10 0.000 1.000   0.000\n",
      "2009-11 0.019 0.981   0.000\n",
      "2009-12 0.002 0.998   0.000\n",
      "2010-01 0.003 0.997   0.000\n",
      "2010-02 0.001 0.999   0.000\n",
      "2010-03 0.011 0.989   0.000\n",
      "2010-04 0.139 0.861   0.000\n",
      "2010-05 0.034 0.966   0.000\n",
      "2010-06 0.014 0.986   0.000\n",
      "2010-07 0.000 1.000   0.000\n",
      "2010-08 0.000 1.000   0.000\n",
      "2010-09 0.000 1.000   0.000\n",
      "2010-10 0.000 1.000   0.000\n",
      "2010-11 0.000 1.000   0.000\n",
      "2010-12 0.000 1.000   0.000\n",
      "2011-01 0.001 0.999   0.000\n",
      "2011-02 0.000 1.000   0.000\n",
      "2011-03 0.000 1.000   0.000\n",
      "2011-04 0.000 1.000   0.000\n",
      "2011-05 0.000 1.000   0.000\n",
      "2011-06 0.000 1.000   0.000\n",
      "2011-07 0.000 1.000   0.000\n",
      "2011-08 0.000 1.000   0.000\n",
      "2011-09 0.000 1.000   0.000\n",
      "2011-10 0.000 1.000   0.000\n",
      "2011-11 0.000 1.000   0.000\n",
      "2011-12 0.000 1.000   0.000\n",
      "2012-01 0.000 1.000   0.000\n",
      "2012-02 0.000 1.000   0.000\n",
      "2012-03 0.000 1.000   0.000\n",
      "2012-04 0.000 1.000   0.000\n",
      "2012-05 0.000 1.000   0.000\n",
      "2012-06 0.000 1.000   0.000\n",
      "2012-07 0.000 1.000   0.000\n",
      "2012-08 0.000 1.000   0.000\n",
      "2012-09 0.000 1.000   0.000\n",
      "2012-10 0.001 0.999   0.000\n",
      "2012-11 0.000 1.000   0.000\n",
      "2012-12 0.000 1.000   0.000\n",
      "2013-01 0.000 1.000   0.000\n",
      "2013-02 0.000 1.000   0.000\n",
      "2013-03 0.001 0.999   0.000\n",
      "2013-04 0.000 1.000   0.000\n",
      "2013-05 0.000 1.000   0.000\n",
      "2013-06 0.000 1.000   0.000\n",
      "2013-07 0.002 0.998   0.000\n",
      "2013-08 0.001 0.999   0.000\n",
      "2013-09 0.001 0.999   0.000\n",
      "2013-10 0.000 1.000   0.000\n",
      "2013-11 0.000 1.000   0.000\n",
      "2013-12 0.001 0.999   0.000\n",
      "2014-01 0.001 0.999   0.000\n",
      "2014-02 0.000 1.000   0.000\n",
      "2014-03 0.001 0.999   0.000\n",
      "2014-04 0.001 0.999   0.000\n",
      "2014-05 0.000 1.000   0.000\n",
      "2014-06 0.001 0.999   0.000\n",
      "2014-07 0.000 1.000   0.000\n",
      "2014-08 0.000 1.000   0.000\n",
      "2014-09 0.001 0.999   0.000\n",
      "2014-10 0.000 1.000   0.000\n",
      "2014-11 0.003 0.997   0.000\n",
      "2014-12 0.000 1.000   0.000\n",
      "2015-01 0.000 1.000   0.000\n",
      "2015-02 0.000 1.000   0.000\n",
      "2015-03 0.001 0.999   0.000\n"
     ]
    }
   ],
   "source": [
    "results = pd.DataFrame(probs)\n",
    "results['actual'] = y_test.values\n",
    "results.index = y_test.index\n",
    "pd.set_option('display.float_format', lambda x: '%.3f' % x)\n",
    "with pd.option_context('display.max_rows', None, 'display.max_columns', None):\n",
    "    print(results)"
   ]
  },
  {
   "cell_type": "code",
   "execution_count": null,
   "metadata": {},
   "outputs": [],
   "source": []
  },
  {
   "cell_type": "code",
   "execution_count": null,
   "metadata": {},
   "outputs": [],
   "source": []
  },
  {
   "cell_type": "code",
   "execution_count": null,
   "metadata": {},
   "outputs": [],
   "source": []
  }
 ],
 "metadata": {
  "kernelspec": {
   "display_name": "Python 3",
   "language": "python",
   "name": "python3"
  },
  "language_info": {
   "codemirror_mode": {
    "name": "ipython",
    "version": 3
   },
   "file_extension": ".py",
   "mimetype": "text/x-python",
   "name": "python",
   "nbconvert_exporter": "python",
   "pygments_lexer": "ipython3",
   "version": "3.6.8"
  }
 },
 "nbformat": 4,
 "nbformat_minor": 2
}
