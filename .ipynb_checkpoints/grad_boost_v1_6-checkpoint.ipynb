{
 "cells": [
  {
   "cell_type": "code",
   "execution_count": 2,
   "metadata": {},
   "outputs": [],
   "source": [
    "#Imports and API Key\n",
    "#building in offsets\n",
    "\n",
    "#checkout scikit learn timeseries \n",
    "#checkout cross validation - rolling window\n",
    "\n",
    "#Imports and API Key\n",
    "\n",
    "import pandas as pd\n",
    "import quandl\n",
    "from scipy import stats\n",
    "import scipy\n",
    "from sklearn.linear_model import LogisticRegression, LinearRegression\n",
    "from sklearn.model_selection import train_test_split\n",
    "from sklearn.metrics import log_loss\n",
    "import matplotlib.pyplot as plt\n",
    "from sklearn.metrics import roc_auc_score\n",
    "\n",
    "from sklearn.pipeline import Pipeline\n",
    "\n",
    "from basis_expansions.basis_expansions import (\n",
    "    Polynomial, LinearSpline)\n",
    "\n",
    "from regression_tools.dftransformers import (\n",
    "    ColumnSelector, Identity, FeatureUnion, MapFeature, Intercept)\n",
    "\n",
    "from sklearn.preprocessing import StandardScaler\n",
    "\n",
    "from sklearn.linear_model import Ridge\n",
    "from sklearn.linear_model import RidgeClassifier\n",
    "\n",
    "import sys\n",
    "import seaborn as sns\n",
    "\n",
    "from sklearn.model_selection import TimeSeriesSplit\n",
    "\n",
    "import xgboost as xgb\n",
    "from xgboost import plot_importance\n",
    "\n",
    "%aimport dataclean\n",
    "\n",
    "quandl.ApiConfig.api_key = 'm8FYMyoCaJSbTrBASNHh'\n",
    "\n",
    "from xgboost import plot_importance"
   ]
  },
  {
   "cell_type": "code",
   "execution_count": 3,
   "metadata": {},
   "outputs": [],
   "source": [
    "#pulling data from Quandl\n",
    "\n",
    "data = pd.read_csv('datasources2.csv') #staging the QUANDL keys to pull in CSV\n",
    "cols = list(data['Var_name'].astype('str'))\n",
    "dataset = quandl.get([val for val in data['Quandl Key']]) #looping through the QUANDL keys to pull it into one DF\n",
    "dataset.columns = cols"
   ]
  },
  {
   "cell_type": "code",
   "execution_count": 4,
   "metadata": {},
   "outputs": [],
   "source": [
    "#pulling FED Yield Curve data\n",
    "\n",
    "yields = pd.read_csv('Fed10Y_3M.csv')\n",
    "yields['Date'] = pd.to_datetime(yields['Date'])\n",
    "mask = (yields['Date'] > pd.datetime(2058,1,1))\n",
    "yields.loc[mask,'Date'] = yields.loc[mask,'Date'].apply(lambda x: x - pd.DateOffset(years=100))\n",
    "\n",
    "yields['Date'] = yields['Date'].apply(lambda x: x.strftime('%Y-%m'))\n",
    "\n",
    "yields = yields.set_index('Date')\n",
    "yields = yields.drop(['3 Month Treasury Yield', 'Rec_prob', 'NBER_Rec'], axis=1) "
   ]
  },
  {
   "cell_type": "code",
   "execution_count": 5,
   "metadata": {},
   "outputs": [],
   "source": [
    "#need to write in special logic to factor in for 3YRT being a daily\n",
    "\n",
    "treas = dataset['3YRT']\n",
    "dataset = dataset.drop(columns = ['3YRT'])"
   ]
  },
  {
   "cell_type": "code",
   "execution_count": 6,
   "metadata": {},
   "outputs": [],
   "source": [
    "treas = treas.resample('MS').mean()"
   ]
  },
  {
   "cell_type": "code",
   "execution_count": 7,
   "metadata": {},
   "outputs": [],
   "source": [
    "## back to working on the general data\n",
    "dataset.index = dataset.index.strftime('%Y-%m') #converting the datetime index to Y/M so it is collapsable\n",
    "dataset = dataset.groupby(dataset.index, as_index=True).agg(sum) #collapsing by Y/M"
   ]
  },
  {
   "cell_type": "code",
   "execution_count": 8,
   "metadata": {},
   "outputs": [],
   "source": [
    "#readd 3YRT back into data\n",
    "\n",
    "dataset = dataset.join(treas, how='outer')"
   ]
  },
  {
   "cell_type": "code",
   "execution_count": 9,
   "metadata": {},
   "outputs": [],
   "source": [
    "#converting GDP quarterly data into monthly - need to convert it so it fills in the following 3 months\n",
    "\n",
    "dataset = dataclean.convert_q_to_m(dataset, 'GDP')\n",
    "\n",
    "#converting consumer sentiment into monthly\n",
    "\n",
    "dataset = dataclean.convert_q_to_m(dataset, 'CONS_SENT')"
   ]
  },
  {
   "cell_type": "code",
   "execution_count": 10,
   "metadata": {},
   "outputs": [],
   "source": [
    "offset_dict = {'PMI':1, 'UNR':1, 'YUNR':1,'US_NHOME_SALES':1, 'PART_TIME':1, 'CPPR_PRICE':1, 'HOUS_PERMS':1, 'HOUS_STARTS':1, 'CAP_UTIL':1, 'PERS_SAVINGS':3, 'EXPORTS':3, 'IMPORTS':3, 'TRADE_BALANCE':3, 'US_M2':1, 'US_NHOME_SALES':1,'PPI':1,'CPI':1} #positives shift down, negatives shift up. Goal of this dict is to align data to when it gets released"
   ]
  },
  {
   "cell_type": "code",
   "execution_count": 11,
   "metadata": {},
   "outputs": [],
   "source": [
    "for entry in offset_dict:\n",
    "    #print(entry)\n",
    "    #print(offset_dict[entry])\n",
    "    dataset[str(entry)] = dataset[str(entry)].shift(offset_dict[entry])"
   ]
  },
  {
   "cell_type": "code",
   "execution_count": 12,
   "metadata": {},
   "outputs": [],
   "source": [
    "#calculating change in GDP and converting Y into categorical values \n",
    "dataset['Recession'] = ((dataset['GDP'] - dataset['GDP'].shift(3)) < 0).astype(int)\n",
    "dataset = dataset.drop(columns = ['GDP']) #dropping calc column and recession column from dataset, experimenting with taking out fed funds rate"
   ]
  },
  {
   "cell_type": "code",
   "execution_count": 13,
   "metadata": {},
   "outputs": [],
   "source": [
    "#merge fed interest rate data here\n",
    "dataset = dataset.join(yields, how='outer')"
   ]
  },
  {
   "cell_type": "code",
   "execution_count": 14,
   "metadata": {},
   "outputs": [],
   "source": [
    "dataset = dataset[552:]"
   ]
  },
  {
   "cell_type": "code",
   "execution_count": 15,
   "metadata": {},
   "outputs": [],
   "source": [
    "dataset = dataset[:-11]"
   ]
  },
  {
   "cell_type": "code",
   "execution_count": 16,
   "metadata": {},
   "outputs": [],
   "source": [
    "#substituting mean value in for missing values and adding dummy column to indicate where done.\n",
    "\n",
    "#this could be leakage, use backwards looking means\n",
    "\n",
    "for col in dataset.columns:\n",
    "    if str(col)=='Recession':\n",
    "        continue\n",
    "    dataclean.clean_zeros(col, dataset)"
   ]
  },
  {
   "cell_type": "code",
   "execution_count": 17,
   "metadata": {},
   "outputs": [],
   "source": [
    "dataset['3YRT'] = dataset['3YRT'].fillna(dataset['3YRT'].mean())"
   ]
  },
  {
   "cell_type": "code",
   "execution_count": 18,
   "metadata": {},
   "outputs": [],
   "source": [
    "#adding momentum factors\n",
    "\n",
    "momentum_cols = list(dataset.columns[:-6])\n",
    "\n",
    "momentum_cols.remove('PPI') #removing PPI and CPI because they need a different transformation\n",
    "momentum_cols.remove('CPI')\n",
    "momentum_cols.remove('Recession')\n",
    "\n",
    "for i in [1,3,12]:\n",
    "    for col in momentum_cols:\n",
    "        if 'PXY' in str(col): #adding logic so it doesn't create a momentum column out of PXY columns\n",
    "            continue\n",
    "        dataclean.create_momentum(col,dataset,i)"
   ]
  },
  {
   "cell_type": "code",
   "execution_count": 19,
   "metadata": {},
   "outputs": [],
   "source": [
    "#CPI Calcs\n",
    "\n",
    "for i in [1,3,12]:\n",
    "    for col in ['CPI','PPI']:\n",
    "        dataclean.infl_momentum(col,dataset,i)"
   ]
  },
  {
   "cell_type": "code",
   "execution_count": 20,
   "metadata": {},
   "outputs": [],
   "source": [
    "#cutoff most of missing data, Post March 2019, Prior 1959. CPI/PPI missing 2016 onward so need to cut that off\n",
    "#dataset = dataset.iloc[552:]\n",
    "#dataset = dataset.iloc[:-2]\n",
    "\n",
    "#y = y.iloc[552:]\n",
    "y = dataset['Recession']\n",
    "dataset = dataset.drop(columns = ['Recession'])\n",
    "X = dataset"
   ]
  },
  {
   "cell_type": "code",
   "execution_count": 21,
   "metadata": {},
   "outputs": [],
   "source": [
    "### Data Prep Finished Here ###"
   ]
  },
  {
   "cell_type": "code",
   "execution_count": 22,
   "metadata": {},
   "outputs": [],
   "source": [
    "time = [0,-1,-3,-12]\n",
    "result1 = pd.DataFrame(y.iloc[550:723].values)\n",
    "result1.index = y.iloc[550:723].index\n",
    "\n",
    "params = {0:[4,0.005,500],-1:[5,0.005,500],-3:[10,0.01,300],-12:[1,0.005,500]}\n",
    "\n",
    "for point in time:\n",
    "    \n",
    "    model = xgb.XGBClassifier(learning_rate=params[point][1],\n",
    "                                   n_estimators=params[point][2], #bump this and learning rate to make more trees, trees(not exact) = n*learning rate\n",
    "                                   min_samples_leaf=4,\n",
    "                                   max_depth=params[point][0],\n",
    "                                   subsample=0.5)\n",
    "    \n",
    "    X = dataset\n",
    "    \n",
    "    y_shift = y.shift(point) #needs to be negative to look forward\n",
    "    y_shift = y_shift.fillna(0)\n",
    "    \n",
    "    X_train = X.iloc[12:550]\n",
    "    X_test = X.iloc[550:723]\n",
    "    y_train = y_shift.iloc[12:550]\n",
    "    y_test = y_shift.iloc[550:723]\n",
    "    \n",
    "    #model = LogisticRegression(penalty = 'l2', C=2000, max_iter = 100, solver = 'sag') #try throwing in a bigger C than 1\n",
    "    #RidgeClassifier().fit(X, y)\n",
    "    model.fit(X_train, y_train)\n",
    "    \n",
    "    probs = model.predict_proba(X_test)\n",
    "    \n",
    "    result1[str(point)] = probs[:,1]\n",
    "    \n",
    "    #print(probs[:,1])\n",
    "    "
   ]
  },
  {
   "cell_type": "code",
   "execution_count": 23,
   "metadata": {},
   "outputs": [],
   "source": [
    "result1 = result1.drop(columns = 0)"
   ]
  },
  {
   "cell_type": "code",
   "execution_count": 24,
   "metadata": {},
   "outputs": [],
   "source": [
    "result1.columns = ['Current Month','1 Month Horizon','3 Month Horizon','12 Month Horizon']"
   ]
  },
  {
   "cell_type": "code",
   "execution_count": 25,
   "metadata": {
    "scrolled": true
   },
   "outputs": [
    {
     "name": "stderr",
     "output_type": "stream",
     "text": [
      "/anaconda3/lib/python3.6/site-packages/pandas/plotting/_converter.py:129: FutureWarning: Using an implicitly registered datetime converter for a matplotlib plotting method. The converter was registered by pandas on import. Future versions of pandas will require you to explicitly register matplotlib converters.\n",
      "\n",
      "To register the converters:\n",
      "\t>>> from pandas.plotting import register_matplotlib_converters\n",
      "\t>>> register_matplotlib_converters()\n",
      "  warnings.warn(msg, FutureWarning)\n"
     ]
    },
    {
     "data": {
      "text/plain": [
       "Text(0.5, 0, 'Date')"
      ]
     },
     "execution_count": 25,
     "metadata": {},
     "output_type": "execute_result"
    },
    {
     "data": {
      "image/png": "[encoded data removed]",
      "text/plain": [
       "<Figure size 1296x432 with 1 Axes>"
      ]
     },
     "metadata": {
      "needs_background": "light"
     },
     "output_type": "display_data"
    }
   ],
   "source": [
    "x = result1.index\n",
    "a = result1.iloc[:,0]\n",
    "b = result1.iloc[:,1]\n",
    "c = result1.iloc[:,2]\n",
    "d = result1.iloc[:,3]\n",
    "\n",
    "fig, ax = plt.subplots(figsize=(18, 6))\n",
    "#ax.plot(x, a, linewidth=2.5, zorder=2)\n",
    "#ax.plot(x, b, linewidth=2.5, zorder=2)\n",
    "#ax.plot(x, c, linewidth=2.5, zorder=2)\n",
    "ax.plot(x, d, linewidth=2.5, zorder=2)\n",
    "ax.scatter(x, d, s=0, zorder=1, label='_nolegend_')\n",
    "ax.axvspan(x[38],x[56], color=sns.xkcd_rgb['grey'], alpha=0.5)\n",
    "ax.axvspan(x[74],x[77], color=sns.xkcd_rgb['grey'], alpha=0.5)\n",
    "ax.axvspan(x[80],x[83], color=sns.xkcd_rgb['grey'], alpha=0.5)\n",
    "\n",
    "ax.set_title('Recession Prediction With Contractions in Real GDP Shaded in Gray', fontsize=14, fontweight='demi')\n",
    "\n",
    "ax.legend(loc='upper left', fontsize=11, frameon=True).get_frame().set_edgecolor('blue')\n",
    "\n",
    "ax.set_ylabel('% Probability of Q/Q Decrease in Real GDP')\n",
    "ax.set_xlabel('Date')"
   ]
  },
  {
   "cell_type": "code",
   "execution_count": 26,
   "metadata": {},
   "outputs": [
    {
     "data": {
      "text/html": [
       "<div>\n",
       "<style scoped>\n",
       "    .dataframe tbody tr th:only-of-type {\n",
       "        vertical-align: middle;\n",
       "    }\n",
       "\n",
       "    .dataframe tbody tr th {\n",
       "        vertical-align: top;\n",
       "    }\n",
       "\n",
       "    .dataframe thead th {\n",
       "        text-align: right;\n",
       "    }\n",
       "</style>\n",
       "<table border=\"1\" class=\"dataframe\">\n",
       "  <thead>\n",
       "    <tr style=\"text-align: right;\">\n",
       "      <th></th>\n",
       "      <th>Current Month</th>\n",
       "      <th>1 Month Horizon</th>\n",
       "      <th>3 Month Horizon</th>\n",
       "      <th>12 Month Horizon</th>\n",
       "    </tr>\n",
       "  </thead>\n",
       "  <tbody>\n",
       "    <tr>\n",
       "      <th>2004-11-01</th>\n",
       "      <td>0.048269</td>\n",
       "      <td>0.059076</td>\n",
       "      <td>0.067288</td>\n",
       "      <td>0.097290</td>\n",
       "    </tr>\n",
       "    <tr>\n",
       "      <th>2004-12-01</th>\n",
       "      <td>0.061321</td>\n",
       "      <td>0.074639</td>\n",
       "      <td>0.070041</td>\n",
       "      <td>0.096423</td>\n",
       "    </tr>\n",
       "    <tr>\n",
       "      <th>2005-01-01</th>\n",
       "      <td>0.053577</td>\n",
       "      <td>0.097497</td>\n",
       "      <td>0.084445</td>\n",
       "      <td>0.096082</td>\n",
       "    </tr>\n",
       "    <tr>\n",
       "      <th>2005-02-01</th>\n",
       "      <td>0.051860</td>\n",
       "      <td>0.073498</td>\n",
       "      <td>0.067991</td>\n",
       "      <td>0.096648</td>\n",
       "    </tr>\n",
       "    <tr>\n",
       "      <th>2005-03-01</th>\n",
       "      <td>0.062600</td>\n",
       "      <td>0.074146</td>\n",
       "      <td>0.082246</td>\n",
       "      <td>0.096342</td>\n",
       "    </tr>\n",
       "  </tbody>\n",
       "</table>\n",
       "</div>"
      ],
      "text/plain": [
       "            Current Month  1 Month Horizon  3 Month Horizon  12 Month Horizon\n",
       "2004-11-01       0.048269         0.059076         0.067288          0.097290\n",
       "2004-12-01       0.061321         0.074639         0.070041          0.096423\n",
       "2005-01-01       0.053577         0.097497         0.084445          0.096082\n",
       "2005-02-01       0.051860         0.073498         0.067991          0.096648\n",
       "2005-03-01       0.062600         0.074146         0.082246          0.096342"
      ]
     },
     "execution_count": 26,
     "metadata": {},
     "output_type": "execute_result"
    }
   ],
   "source": [
    "result1.head()"
   ]
  },
  {
   "cell_type": "code",
   "execution_count": 77,
   "metadata": {},
   "outputs": [],
   "source": [
    "X = dataset"
   ]
  },
  {
   "cell_type": "code",
   "execution_count": 78,
   "metadata": {},
   "outputs": [],
   "source": [
    "y_shift = y.shift(-12) #needs to be negative to look forward\n",
    "y_shift = y_shift.fillna(0)"
   ]
  },
  {
   "cell_type": "code",
   "execution_count": 79,
   "metadata": {},
   "outputs": [],
   "source": [
    "X_train = X.iloc[12:550]\n",
    "X_test = X.iloc[550:723]\n",
    "y_train = y_shift.iloc[12:550]\n",
    "y_test = y_shift.iloc[550:723]"
   ]
  },
  {
   "cell_type": "code",
   "execution_count": 80,
   "metadata": {},
   "outputs": [
    {
     "data": {
      "text/plain": [
       "XGBClassifier(base_score=0.5, booster='gbtree', colsample_bylevel=1,\n",
       "       colsample_bytree=1, gamma=0, learning_rate=0.001, max_delta_step=0,\n",
       "       max_depth=1, min_child_weight=1, min_samples_leaf=4, missing=None,\n",
       "       n_estimators=1500, n_jobs=1, nthread=None,\n",
       "       objective='binary:logistic', random_state=0, reg_alpha=0,\n",
       "       reg_lambda=1, scale_pos_weight=1, seed=None, silent=True,\n",
       "       subsample=0.5)"
      ]
     },
     "execution_count": 80,
     "metadata": {},
     "output_type": "execute_result"
    }
   ],
   "source": [
    "model = xgb.XGBClassifier(learning_rate=0.001,\n",
    "                                   n_estimators=1500, #bump this and learning rate to make more trees, trees(not exact) = n*learning rate\n",
    "                                   min_samples_leaf=4,\n",
    "                                   max_depth=1,\n",
    "                                   subsample=0.5)\n",
    "\n",
    "model.fit(X_train, y_train)"
   ]
  },
  {
   "cell_type": "code",
   "execution_count": 81,
   "metadata": {},
   "outputs": [],
   "source": [
    "probs = model.predict_proba(X_test)"
   ]
  },
  {
   "cell_type": "code",
   "execution_count": 82,
   "metadata": {},
   "outputs": [
    {
     "data": {
      "text/plain": [
       "0.39334529173167454"
      ]
     },
     "execution_count": 82,
     "metadata": {},
     "output_type": "execute_result"
    }
   ],
   "source": [
    "log_loss(y_test, probs)"
   ]
  },
  {
   "cell_type": "code",
   "execution_count": 83,
   "metadata": {},
   "outputs": [
    {
     "data": {
      "text/plain": [
       "0.7269295302013421"
      ]
     },
     "execution_count": 83,
     "metadata": {},
     "output_type": "execute_result"
    }
   ],
   "source": [
    "roc_auc_score(y_test.values, probs[:,1:])"
   ]
  },
  {
   "cell_type": "code",
   "execution_count": 84,
   "metadata": {
    "scrolled": false
   },
   "outputs": [
    {
     "data": {
      "text/plain": [
       "<matplotlib.axes._subplots.AxesSubplot at 0x1a12f90470>"
      ]
     },
     "execution_count": 84,
     "metadata": {},
     "output_type": "execute_result"
    },
    {
     "data": {
      "image/png": "[encoded data removed]",
      "text/plain": [
       "<Figure size 432x288 with 1 Axes>"
      ]
     },
     "metadata": {
      "needs_background": "light"
     },
     "output_type": "display_data"
    }
   ],
   "source": [
    "plot_importance(model, max_num_features = 10, title='Feature importance 12m Horizon')"
   ]
  },
  {
   "cell_type": "code",
   "execution_count": 76,
   "metadata": {},
   "outputs": [
    {
     "data": {
      "text/plain": [
       "array([[0.9517306 , 0.0482694 ],\n",
       "       [0.93867886, 0.06132117],\n",
       "       [0.9464233 , 0.05357673],\n",
       "       [0.94814026, 0.05185972],\n",
       "       [0.9373999 , 0.06260009],\n",
       "       [0.93269837, 0.0673016 ],\n",
       "       [0.94038403, 0.05961597],\n",
       "       [0.9403086 , 0.05969146],\n",
       "       [0.94836915, 0.05163082],\n",
       "       [0.9308758 , 0.06912424],\n",
       "       [0.90150803, 0.09849194],\n",
       "       [0.67044115, 0.32955888],\n",
       "       [0.9100915 , 0.08990849],\n",
       "       [0.9413132 , 0.0586868 ],\n",
       "       [0.9470229 , 0.0529771 ],\n",
       "       [0.9449107 , 0.05508931],\n",
       "       [0.94567055, 0.05432944],\n",
       "       [0.9474229 , 0.0525771 ],\n",
       "       [0.91994995, 0.08005006],\n",
       "       [0.9462244 , 0.0537756 ],\n",
       "       [0.9380252 , 0.06197483],\n",
       "       [0.88108975, 0.11891028],\n",
       "       [0.8461125 , 0.15388751],\n",
       "       [0.87836385, 0.12163617],\n",
       "       [0.8719909 , 0.12800908],\n",
       "       [0.87767196, 0.12232807],\n",
       "       [0.8959823 , 0.10401769],\n",
       "       [0.775005  , 0.22499502],\n",
       "       [0.8751216 , 0.12487844],\n",
       "       [0.8828873 , 0.11711268],\n",
       "       [0.8865146 , 0.1134854 ],\n",
       "       [0.8781851 , 0.12181489],\n",
       "       [0.8207512 , 0.17924882],\n",
       "       [0.761685  , 0.238315  ],\n",
       "       [0.80758286, 0.19241713],\n",
       "       [0.7710966 , 0.2289034 ],\n",
       "       [0.81919104, 0.18080898],\n",
       "       [0.86552304, 0.13447697],\n",
       "       [0.7138676 , 0.2861324 ],\n",
       "       [0.62638354, 0.37361643],\n",
       "       [0.64013195, 0.35986805],\n",
       "       [0.5253725 , 0.4746275 ],\n",
       "       [0.674175  , 0.325825  ],\n",
       "       [0.504959  , 0.49504098],\n",
       "       [0.82723904, 0.172761  ],\n",
       "       [0.44976503, 0.550235  ],\n",
       "       [0.3564074 , 0.6435926 ],\n",
       "       [0.25152713, 0.74847287],\n",
       "       [0.23901862, 0.7609814 ],\n",
       "       [0.23007548, 0.7699245 ],\n",
       "       [0.2529133 , 0.7470867 ],\n",
       "       [0.32858366, 0.67141634],\n",
       "       [0.40668875, 0.59331125],\n",
       "       [0.40977252, 0.5902275 ],\n",
       "       [0.53092957, 0.46907043],\n",
       "       [0.48386556, 0.51613444],\n",
       "       [0.5558214 , 0.4441786 ],\n",
       "       [0.8663045 , 0.13369548],\n",
       "       [0.9074637 , 0.09253626],\n",
       "       [0.9096417 , 0.09035829],\n",
       "       [0.9009569 , 0.09904305],\n",
       "       [0.9111572 , 0.08884281],\n",
       "       [0.9199818 , 0.0800182 ],\n",
       "       [0.8871787 , 0.11282127],\n",
       "       [0.9220933 , 0.07790676],\n",
       "       [0.91484433, 0.08515567],\n",
       "       [0.93189824, 0.06810179],\n",
       "       [0.9241661 , 0.07583395],\n",
       "       [0.9003202 , 0.09967983],\n",
       "       [0.91926646, 0.08073356],\n",
       "       [0.9174501 , 0.08254994],\n",
       "       [0.9163326 , 0.08366738],\n",
       "       [0.9197714 , 0.08022864],\n",
       "       [0.914336  , 0.08566398],\n",
       "       [0.9239923 , 0.0760077 ],\n",
       "       [0.9135684 , 0.08643164],\n",
       "       [0.87571746, 0.12428252],\n",
       "       [0.89911544, 0.10088457],\n",
       "       [0.89018244, 0.10981756],\n",
       "       [0.89492935, 0.10507063],\n",
       "       [0.8942947 , 0.10570531],\n",
       "       [0.8493037 , 0.15069625],\n",
       "       [0.90346766, 0.09653232],\n",
       "       [0.91813654, 0.08186346],\n",
       "       [0.91854805, 0.08145193],\n",
       "       [0.92143345, 0.07856652],\n",
       "       [0.9281684 , 0.07183155],\n",
       "       [0.92382973, 0.07617027],\n",
       "       [0.9229001 , 0.0770999 ],\n",
       "       [0.9234959 , 0.07650413],\n",
       "       [0.9200948 , 0.07990519],\n",
       "       [0.9190406 , 0.08095939],\n",
       "       [0.9186333 , 0.0813667 ],\n",
       "       [0.92467076, 0.07532923],\n",
       "       [0.91679263, 0.08320735],\n",
       "       [0.9197598 , 0.08024018],\n",
       "       [0.9195821 , 0.08041785],\n",
       "       [0.90277094, 0.09722908],\n",
       "       [0.91770685, 0.08229317],\n",
       "       [0.92621756, 0.07378243],\n",
       "       [0.91886806, 0.08113196],\n",
       "       [0.93958235, 0.06041764],\n",
       "       [0.94006515, 0.05993488],\n",
       "       [0.93472016, 0.06527981],\n",
       "       [0.94048244, 0.05951757],\n",
       "       [0.9235455 , 0.07645449],\n",
       "       [0.9212074 , 0.07879256],\n",
       "       [0.91674954, 0.08325048],\n",
       "       [0.9369484 , 0.06305159],\n",
       "       [0.9431426 , 0.05685738],\n",
       "       [0.9378    , 0.06220002],\n",
       "       [0.9327899 , 0.06721009],\n",
       "       [0.93544877, 0.06455121],\n",
       "       [0.9284214 , 0.07157859],\n",
       "       [0.92503864, 0.07496136],\n",
       "       [0.9421795 , 0.05782049],\n",
       "       [0.9335244 , 0.06647556],\n",
       "       [0.9264406 , 0.0735594 ],\n",
       "       [0.9422884 , 0.05771163],\n",
       "       [0.94261986, 0.05738013],\n",
       "       [0.94303316, 0.05696687],\n",
       "       [0.9413852 , 0.05861481],\n",
       "       [0.9466843 , 0.05331568],\n",
       "       [0.94380724, 0.05619277],\n",
       "       [0.9426818 , 0.05731824],\n",
       "       [0.93309635, 0.06690367],\n",
       "       [0.92755586, 0.07244414],\n",
       "       [0.9409721 , 0.05902791],\n",
       "       [0.93374693, 0.06625307],\n",
       "       [0.94863087, 0.05136914],\n",
       "       [0.9445555 , 0.0554445 ],\n",
       "       [0.9361294 , 0.06387062],\n",
       "       [0.9429951 , 0.05700493],\n",
       "       [0.94138575, 0.05861423],\n",
       "       [0.9268432 , 0.07315677],\n",
       "       [0.9425675 , 0.05743246],\n",
       "       [0.9416263 , 0.05837372],\n",
       "       [0.94105303, 0.05894697],\n",
       "       [0.94572735, 0.05427263],\n",
       "       [0.94219893, 0.05780107],\n",
       "       [0.9468086 , 0.05319143],\n",
       "       [0.94969916, 0.05030084],\n",
       "       [0.9503772 , 0.0496228 ],\n",
       "       [0.94860715, 0.05139285],\n",
       "       [0.9478106 , 0.0521894 ],\n",
       "       [0.9471461 , 0.05285386],\n",
       "       [0.9515344 , 0.04846564],\n",
       "       [0.9484784 , 0.05152161],\n",
       "       [0.95024294, 0.04975704],\n",
       "       [0.9511171 , 0.04888291],\n",
       "       [0.950726  , 0.049274  ],\n",
       "       [0.9509114 , 0.04908862],\n",
       "       [0.9517029 , 0.04829708],\n",
       "       [0.951478  , 0.04852201],\n",
       "       [0.9509156 , 0.04908441],\n",
       "       [0.950739  , 0.04926096],\n",
       "       [0.9513794 , 0.0486206 ],\n",
       "       [0.95107764, 0.04892237],\n",
       "       [0.95118237, 0.04881762],\n",
       "       [0.95119447, 0.04880555],\n",
       "       [0.9514983 , 0.04850164],\n",
       "       [0.9505568 , 0.04944321],\n",
       "       [0.9507597 , 0.0492403 ],\n",
       "       [0.9435254 , 0.05647465],\n",
       "       [0.94963944, 0.05036056],\n",
       "       [0.94935465, 0.05064532],\n",
       "       [0.9510214 , 0.04897862],\n",
       "       [0.949736  , 0.05026399],\n",
       "       [0.94853836, 0.05146163],\n",
       "       [0.9488505 , 0.05114946],\n",
       "       [0.9250108 , 0.07498919],\n",
       "       [0.9455727 , 0.05442733],\n",
       "       [0.9447457 , 0.05525431]], dtype=float32)"
      ]
     },
     "execution_count": 76,
     "metadata": {},
     "output_type": "execute_result"
    }
   ],
   "source": [
    "probs"
   ]
  },
  {
   "cell_type": "code",
   "execution_count": 62,
   "metadata": {},
   "outputs": [
    {
     "name": "stdout",
     "output_type": "stream",
     "text": [
      "               0     1  actual\n",
      "2004-11-01 0.678 0.322   0.000\n",
      "2004-12-01 0.678 0.322   0.000\n",
      "2005-01-01 0.678 0.322   0.000\n",
      "2005-02-01 0.678 0.322   0.000\n",
      "2005-03-01 0.678 0.322   0.000\n",
      "2005-04-01 0.678 0.322   0.000\n",
      "2005-05-01 0.678 0.322   0.000\n",
      "2005-06-01 0.678 0.322   0.000\n",
      "2005-07-01 0.678 0.322   0.000\n",
      "2005-08-01 0.678 0.322   0.000\n",
      "2005-09-01 0.676 0.324   0.000\n",
      "2005-10-01 0.582 0.418   0.000\n",
      "2005-11-01 0.678 0.322   0.000\n",
      "2005-12-01 0.678 0.322   0.000\n",
      "2006-01-01 0.678 0.322   0.000\n",
      "2006-02-01 0.678 0.322   0.000\n",
      "2006-03-01 0.678 0.322   0.000\n",
      "2006-04-01 0.678 0.322   0.000\n",
      "2006-05-01 0.678 0.322   0.000\n",
      "2006-06-01 0.678 0.322   0.000\n",
      "2006-07-01 0.672 0.328   0.000\n",
      "2006-08-01 0.594 0.406   0.000\n",
      "2006-09-01 0.592 0.408   0.000\n",
      "2006-10-01 0.592 0.408   0.000\n",
      "2006-11-01 0.592 0.408   0.000\n",
      "2006-12-01 0.592 0.408   0.000\n",
      "2007-01-01 0.592 0.408   0.000\n",
      "2007-02-01 0.592 0.408   0.000\n",
      "2007-03-01 0.592 0.408   0.000\n",
      "2007-04-01 0.592 0.408   0.000\n",
      "2007-05-01 0.594 0.406   0.000\n",
      "2007-06-01 0.592 0.408   0.000\n",
      "2007-07-01 0.592 0.408   0.000\n",
      "2007-08-01 0.589 0.411   0.000\n",
      "2007-09-01 0.594 0.406   0.000\n",
      "2007-10-01 0.591 0.409   0.000\n",
      "2007-11-01 0.592 0.408   0.000\n",
      "2007-12-01 0.670 0.330   0.000\n",
      "2008-01-01 0.590 0.410   1.000\n",
      "2008-02-01 0.584 0.416   1.000\n",
      "2008-03-01 0.580 0.420   1.000\n",
      "2008-04-01 0.586 0.414   0.000\n",
      "2008-05-01 0.585 0.415   0.000\n",
      "2008-06-01 0.583 0.417   0.000\n",
      "2008-07-01 0.667 0.333   1.000\n",
      "2008-08-01 0.580 0.420   1.000\n",
      "2008-09-01 0.482 0.518   1.000\n",
      "2008-10-01 0.468 0.532   1.000\n",
      "2008-11-01 0.430 0.570   1.000\n",
      "2008-12-01 0.426 0.574   1.000\n",
      "2009-01-01 0.425 0.575   1.000\n",
      "2009-02-01 0.433 0.567   1.000\n",
      "2009-03-01 0.437 0.563   1.000\n",
      "2009-04-01 0.434 0.566   1.000\n",
      "2009-05-01 0.439 0.561   1.000\n",
      "2009-06-01 0.435 0.565   1.000\n",
      "2009-07-01 0.509 0.491   0.000\n",
      "2009-08-01 0.663 0.337   0.000\n",
      "2009-09-01 0.677 0.323   0.000\n",
      "2009-10-01 0.675 0.325   0.000\n",
      "2009-11-01 0.673 0.327   0.000\n",
      "2009-12-01 0.675 0.325   0.000\n",
      "2010-01-01 0.678 0.322   0.000\n",
      "2010-02-01 0.677 0.323   0.000\n",
      "2010-03-01 0.677 0.323   0.000\n",
      "2010-04-01 0.675 0.325   0.000\n",
      "2010-05-01 0.677 0.323   0.000\n",
      "2010-06-01 0.678 0.322   0.000\n",
      "2010-07-01 0.675 0.325   0.000\n",
      "2010-08-01 0.675 0.325   0.000\n",
      "2010-09-01 0.675 0.325   0.000\n",
      "2010-10-01 0.675 0.325   0.000\n",
      "2010-11-01 0.675 0.325   0.000\n",
      "2010-12-01 0.678 0.322   0.000\n",
      "2011-01-01 0.678 0.322   1.000\n",
      "2011-02-01 0.678 0.322   1.000\n",
      "2011-03-01 0.675 0.325   1.000\n",
      "2011-04-01 0.675 0.325   0.000\n",
      "2011-05-01 0.678 0.322   0.000\n",
      "2011-06-01 0.674 0.326   0.000\n",
      "2011-07-01 0.674 0.326   1.000\n",
      "2011-08-01 0.668 0.332   1.000\n",
      "2011-09-01 0.674 0.326   1.000\n",
      "2011-10-01 0.674 0.326   0.000\n",
      "2011-11-01 0.674 0.326   0.000\n",
      "2011-12-01 0.675 0.325   0.000\n",
      "2012-01-01 0.678 0.322   0.000\n",
      "2012-02-01 0.678 0.322   0.000\n",
      "2012-03-01 0.678 0.322   0.000\n",
      "2012-04-01 0.678 0.322   0.000\n",
      "2012-05-01 0.678 0.322   0.000\n",
      "2012-06-01 0.677 0.323   0.000\n",
      "2012-07-01 0.675 0.325   0.000\n",
      "2012-08-01 0.678 0.322   0.000\n",
      "2012-09-01 0.678 0.322   0.000\n",
      "2012-10-01 0.678 0.322   0.000\n",
      "2012-11-01 0.678 0.322   0.000\n",
      "2012-12-01 0.677 0.323   0.000\n",
      "2013-01-01 0.678 0.322   0.000\n",
      "2013-02-01 0.678 0.322   0.000\n",
      "2013-03-01 0.678 0.322   0.000\n",
      "2013-04-01 0.678 0.322   0.000\n",
      "2013-05-01 0.678 0.322   0.000\n",
      "2013-06-01 0.678 0.322   0.000\n",
      "2013-07-01 0.678 0.322   0.000\n",
      "2013-08-01 0.678 0.322   0.000\n",
      "2013-09-01 0.678 0.322   0.000\n",
      "2013-10-01 0.677 0.323   0.000\n",
      "2013-11-01 0.678 0.322   0.000\n",
      "2013-12-01 0.678 0.322   0.000\n",
      "2014-01-01 0.678 0.322   1.000\n",
      "2014-02-01 0.678 0.322   1.000\n",
      "2014-03-01 0.678 0.322   1.000\n",
      "2014-04-01 0.678 0.322   0.000\n",
      "2014-05-01 0.678 0.322   0.000\n",
      "2014-06-01 0.678 0.322   0.000\n",
      "2014-07-01 0.678 0.322   0.000\n",
      "2014-08-01 0.678 0.322   0.000\n",
      "2014-09-01 0.678 0.322   0.000\n",
      "2014-10-01 0.678 0.322   0.000\n",
      "2014-11-01 0.678 0.322   0.000\n",
      "2014-12-01 0.678 0.322   0.000\n",
      "2015-01-01 0.678 0.322   0.000\n",
      "2015-02-01 0.678 0.322   0.000\n",
      "2015-03-01 0.675 0.325   0.000\n",
      "2015-04-01 0.666 0.334   0.000\n",
      "2015-05-01 0.658 0.342   0.000\n",
      "2015-06-01 0.667 0.333   0.000\n",
      "2015-07-01 0.666 0.334   0.000\n",
      "2015-08-01 0.678 0.322   0.000\n",
      "2015-09-01 0.678 0.322   0.000\n",
      "2015-10-01 0.678 0.322   0.000\n",
      "2015-11-01 0.678 0.322   0.000\n",
      "2015-12-01 0.676 0.324   0.000\n",
      "2016-01-01 0.651 0.349   0.000\n",
      "2016-02-01 0.678 0.322   0.000\n",
      "2016-03-01 0.678 0.322   0.000\n",
      "2016-04-01 0.678 0.322   0.000\n",
      "2016-05-01 0.677 0.323   0.000\n",
      "2016-06-01 0.678 0.322   0.000\n",
      "2016-07-01 0.678 0.322   0.000\n",
      "2016-08-01 0.678 0.322   0.000\n",
      "2016-09-01 0.678 0.322   0.000\n",
      "2016-10-01 0.678 0.322   0.000\n",
      "2016-11-01 0.678 0.322   0.000\n",
      "2016-12-01 0.678 0.322   0.000\n",
      "2017-01-01 0.678 0.322   0.000\n",
      "2017-02-01 0.678 0.322   0.000\n",
      "2017-03-01 0.678 0.322   0.000\n",
      "2017-04-01 0.678 0.322   0.000\n",
      "2017-05-01 0.678 0.322   0.000\n",
      "2017-06-01 0.678 0.322   0.000\n",
      "2017-07-01 0.678 0.322   0.000\n",
      "2017-08-01 0.678 0.322   0.000\n",
      "2017-09-01 0.678 0.322   0.000\n",
      "2017-10-01 0.678 0.322   0.000\n",
      "2017-11-01 0.678 0.322   0.000\n",
      "2017-12-01 0.678 0.322   0.000\n",
      "2018-01-01 0.678 0.322   0.000\n",
      "2018-02-01 0.678 0.322   0.000\n",
      "2018-03-01 0.678 0.322   0.000\n",
      "2018-04-01 0.678 0.322   0.000\n",
      "2018-05-01 0.678 0.322   0.000\n",
      "2018-06-01 0.674 0.326   0.000\n",
      "2018-07-01 0.678 0.322   0.000\n",
      "2018-08-01 0.678 0.322   0.000\n",
      "2018-09-01 0.678 0.322   0.000\n",
      "2018-10-01 0.678 0.322   0.000\n",
      "2018-11-01 0.678 0.322   0.000\n",
      "2018-12-01 0.678 0.322   0.000\n",
      "2019-01-01 0.678 0.322   0.000\n",
      "2019-02-01 0.678 0.322   0.000\n",
      "2019-03-01 0.678 0.322   0.000\n"
     ]
    }
   ],
   "source": [
    "results = pd.DataFrame(probs)\n",
    "results['actual'] = y_test.values\n",
    "results.index = y_test.index\n",
    "pd.set_option('display.float_format', lambda x: '%.3f' % x)\n",
    "with pd.option_context('display.max_rows', None, 'display.max_columns', None):\n",
    "    print(results)"
   ]
  },
  {
   "cell_type": "code",
   "execution_count": 67,
   "metadata": {},
   "outputs": [
    {
     "name": "stdout",
     "output_type": "stream",
     "text": [
      "Testing max depth 1, learning rate 0.001 and n_est of 100, yielding log loss of 0.6327811934355366 and AUC of 0.8150167785234899\n",
      "Testing max depth 1, learning rate 0.005 and n_est of 100, yielding log loss of 0.47209659511643337 and AUC of 0.8102628635346755\n",
      "Testing max depth 1, learning rate 0.01 and n_est of 100, yielding log loss of 0.3693050452739517 and AUC of 0.8101230425055927\n",
      "Testing max depth 1, learning rate 0.001 and n_est of 200, yielding log loss of 0.582551495532769 and AUC of 0.8087248322147651\n",
      "Testing max depth 1, learning rate 0.005 and n_est of 200, yielding log loss of 0.3706780633313118 and AUC of 0.8517897091722596\n",
      "Testing max depth 1, learning rate 0.01 and n_est of 200, yielding log loss of 0.2943647614965549 and AUC of 0.8506711409395974\n",
      "Testing max depth 1, learning rate 0.001 and n_est of 300, yielding log loss of 0.5402752626148951 and AUC of 0.8084451901565995\n",
      "Testing max depth 1, learning rate 0.005 and n_est of 300, yielding log loss of 0.32022716776828547 and AUC of 0.8468959731543624\n",
      "Testing max depth 1, learning rate 0.01 and n_est of 300, yielding log loss of 0.27979242683232175 and AUC of 0.826761744966443\n",
      "Testing max depth 1, learning rate 0.001 and n_est of 500, yielding log loss of 0.47254079442492797 and AUC of 0.8088646532438479\n",
      "Testing max depth 1, learning rate 0.005 and n_est of 500, yielding log loss of 0.28252632592971616 and AUC of 0.8392058165548099\n",
      "Testing max depth 1, learning rate 0.01 and n_est of 500, yielding log loss of 0.2907229664794713 and AUC of 0.8224272930648769\n",
      "Testing max depth 1, learning rate 0.001 and n_est of 1000, yielding log loss of 0.37118077760486934 and AUC of 0.8510906040268456\n",
      "Testing max depth 1, learning rate 0.005 and n_est of 1000, yielding log loss of 0.2886197263471825 and AUC of 0.8210290827740492\n",
      "Testing max depth 1, learning rate 0.01 and n_est of 1000, yielding log loss of 0.3371039430605452 and AUC of 0.8260626398210291\n",
      "Testing max depth 1, learning rate 0.001 and n_est of 1500, yielding log loss of 0.3211825225566853 and AUC of 0.8524888143176733\n",
      "Testing max depth 1, learning rate 0.005 and n_est of 1500, yielding log loss of 0.3115762989009822 and AUC of 0.8277404921700224\n",
      "Testing max depth 1, learning rate 0.01 and n_est of 1500, yielding log loss of 0.36254125374983026 and AUC of 0.840324384787472\n",
      "Testing max depth 1, learning rate 0.001 and n_est of 2000, yielding log loss of 0.29683074419725836 and AUC of 0.8453579418344519\n",
      "Testing max depth 1, learning rate 0.005 and n_est of 2000, yielding log loss of 0.3328578186509431 and AUC of 0.8316554809843401\n",
      "Testing max depth 1, learning rate 0.01 and n_est of 2000, yielding log loss of 0.3821573058872368 and AUC of 0.8420022371364654\n",
      "Testing max depth 2, learning rate 0.001 and n_est of 100, yielding log loss of 0.6301921685307013 and AUC of 0.8703859060402683\n",
      "Testing max depth 2, learning rate 0.005 and n_est of 100, yielding log loss of 0.46335074546709226 and AUC of 0.8474552572706936\n",
      "Testing max depth 2, learning rate 0.01 and n_est of 100, yielding log loss of 0.3604217503284443 and AUC of 0.851510067114094\n",
      "Testing max depth 2, learning rate 0.001 and n_est of 200, yielding log loss of 0.5776740739800338 and AUC of 0.8555648769574944\n",
      "Testing max depth 2, learning rate 0.005 and n_est of 200, yielding log loss of 0.35856469147811737 and AUC of 0.856403803131991\n",
      "Testing max depth 2, learning rate 0.01 and n_est of 200, yielding log loss of 0.28468369451389147 and AUC of 0.8545861297539149\n",
      "Testing max depth 2, learning rate 0.001 and n_est of 300, yielding log loss of 0.5339708054341332 and AUC of 0.8621364653243848\n",
      "Testing max depth 2, learning rate 0.005 and n_est of 300, yielding log loss of 0.30747342979632364 and AUC of 0.8631152125279642\n",
      "Testing max depth 2, learning rate 0.01 and n_est of 300, yielding log loss of 0.27547330135813336 and AUC of 0.8593400447427294\n",
      "Testing max depth 2, learning rate 0.001 and n_est of 500, yielding log loss of 0.46328998025442136 and AUC of 0.8590604026845637\n",
      "Testing max depth 2, learning rate 0.005 and n_est of 500, yielding log loss of 0.27201231108235485 and AUC of 0.8592002237136466\n",
      "Testing max depth 2, learning rate 0.01 and n_est of 500, yielding log loss of 0.29964587668689086 and AUC of 0.8685682326621924\n",
      "Testing max depth 2, learning rate 0.001 and n_est of 1000, yielding log loss of 0.3591437954778616 and AUC of 0.8557046979865771\n",
      "Testing max depth 2, learning rate 0.005 and n_est of 1000, yielding log loss of 0.29912966305680705 and AUC of 0.8590604026845637\n",
      "Testing max depth 2, learning rate 0.01 and n_est of 1000, yielding log loss of 0.35602878740143484 and AUC of 0.8727628635346756\n",
      "Testing max depth 2, learning rate 0.001 and n_est of 1500, yielding log loss of 0.3088636298400129 and AUC of 0.8565436241610738\n",
      "Testing max depth 2, learning rate 0.005 and n_est of 1500, yielding log loss of 0.33408721396026625 and AUC of 0.8654921700223714\n",
      "Testing max depth 2, learning rate 0.01 and n_est of 1500, yielding log loss of 0.38694636033786695 and AUC of 0.8736017897091722\n",
      "Testing max depth 2, learning rate 0.001 and n_est of 2000, yielding log loss of 0.2856492178374632 and AUC of 0.8579418344519016\n",
      "Testing max depth 2, learning rate 0.005 and n_est of 2000, yielding log loss of 0.3584642783840284 and AUC of 0.8635346756152126\n",
      "Testing max depth 2, learning rate 0.01 and n_est of 2000, yielding log loss of 0.4074316026589169 and AUC of 0.8772371364653244\n",
      "Testing max depth 3, learning rate 0.001 and n_est of 100, yielding log loss of 0.6309426585373851 and AUC of 0.8747203579418344\n",
      "Testing max depth 3, learning rate 0.005 and n_est of 100, yielding log loss of 0.4642000353405241 and AUC of 0.8694071588366891\n",
      "Testing max depth 3, learning rate 0.01 and n_est of 100, yielding log loss of 0.3588515753518639 and AUC of 0.8692673378076063\n",
      "Testing max depth 3, learning rate 0.001 and n_est of 200, yielding log loss of 0.5777940674324256 and AUC of 0.8659116331096197\n",
      "Testing max depth 3, learning rate 0.005 and n_est of 200, yielding log loss of 0.35827048338217543 and AUC of 0.8660514541387024\n",
      "Testing max depth 3, learning rate 0.01 and n_est of 200, yielding log loss of 0.28174613067352705 and AUC of 0.8680089485458613\n",
      "Testing max depth 3, learning rate 0.001 and n_est of 300, yielding log loss of 0.5339047851934599 and AUC of 0.8639541387024608\n",
      "Testing max depth 3, learning rate 0.005 and n_est of 300, yielding log loss of 0.3049743323656865 and AUC of 0.8741610738255033\n",
      "Testing max depth 3, learning rate 0.01 and n_est of 300, yielding log loss of 0.2714459765379484 and AUC of 0.8632550335570469\n",
      "Testing max depth 3, learning rate 0.001 and n_est of 500, yielding log loss of 0.46256264182873547 and AUC of 0.866331096196868\n",
      "Testing max depth 3, learning rate 0.005 and n_est of 500, yielding log loss of 0.26860741108139125 and AUC of 0.8741610738255033\n",
      "Testing max depth 3, learning rate 0.01 and n_est of 500, yielding log loss of 0.29809276991109285 and AUC of 0.8719239373601789\n",
      "Testing max depth 3, learning rate 0.001 and n_est of 1000, yielding log loss of 0.35706493740825984 and AUC of 0.868847874720358\n",
      "Testing max depth 3, learning rate 0.005 and n_est of 1000, yielding log loss of 0.2971163004922083 and AUC of 0.87248322147651\n",
      "Testing max depth 3, learning rate 0.01 and n_est of 1000, yielding log loss of 0.35327993584440137 and AUC of 0.8741610738255033\n",
      "Testing max depth 3, learning rate 0.001 and n_est of 1500, yielding log loss of 0.30532399173072305 and AUC of 0.8668903803131991\n",
      "Testing max depth 3, learning rate 0.005 and n_est of 1500, yielding log loss of 0.3328823405210295 and AUC of 0.8741610738255033\n",
      "Testing max depth 3, learning rate 0.01 and n_est of 1500, yielding log loss of 0.37809350204955505 and AUC of 0.8783557046979865\n",
      "Testing max depth 3, learning rate 0.001 and n_est of 2000, yielding log loss of 0.2823461446200492 and AUC of 0.8643736017897092\n",
      "Testing max depth 3, learning rate 0.005 and n_est of 2000, yielding log loss of 0.3533034456720188 and AUC of 0.8741610738255033\n",
      "Testing max depth 3, learning rate 0.01 and n_est of 2000, yielding log loss of 0.39496954088721753 and AUC of 0.875\n",
      "Testing max depth 4, learning rate 0.001 and n_est of 100, yielding log loss of 0.6319989131365208 and AUC of 0.8814317673378076\n"
     ]
    },
    {
     "name": "stdout",
     "output_type": "stream",
     "text": [
      "Testing max depth 4, learning rate 0.005 and n_est of 100, yielding log loss of 0.4679906840269276 and AUC of 0.8808724832214765\n",
      "Testing max depth 4, learning rate 0.01 and n_est of 100, yielding log loss of 0.3609443624756929 and AUC of 0.8719239373601789\n",
      "Testing max depth 4, learning rate 0.001 and n_est of 200, yielding log loss of 0.5801900639010302 and AUC of 0.8777964205816555\n",
      "Testing max depth 4, learning rate 0.005 and n_est of 200, yielding log loss of 0.3616398391179267 and AUC of 0.8738814317673378\n",
      "Testing max depth 4, learning rate 0.01 and n_est of 200, yielding log loss of 0.2810982568674005 and AUC of 0.8713646532438479\n",
      "Testing max depth 4, learning rate 0.001 and n_est of 300, yielding log loss of 0.5362103519412135 and AUC of 0.8766778523489933\n",
      "Testing max depth 4, learning rate 0.005 and n_est of 300, yielding log loss of 0.3071235909713486 and AUC of 0.8766778523489932\n",
      "Testing max depth 4, learning rate 0.01 and n_est of 300, yielding log loss of 0.26913350103476835 and AUC of 0.8671700223713646\n",
      "Testing max depth 4, learning rate 0.001 and n_est of 500, yielding log loss of 0.46532714280778964 and AUC of 0.8772371364653244\n",
      "Testing max depth 4, learning rate 0.005 and n_est of 500, yielding log loss of 0.2669007710767964 and AUC of 0.8780760626398211\n",
      "Testing max depth 4, learning rate 0.01 and n_est of 500, yielding log loss of 0.2957385804967126 and AUC of 0.8699664429530201\n",
      "Testing max depth 4, learning rate 0.001 and n_est of 1000, yielding log loss of 0.35867243789868547 and AUC of 0.87751677852349\n",
      "Testing max depth 4, learning rate 0.005 and n_est of 1000, yielding log loss of 0.29226592176383887 and AUC of 0.8769574944071589\n",
      "Testing max depth 4, learning rate 0.01 and n_est of 1000, yielding log loss of 0.34839563609256996 and AUC of 0.8780760626398211\n",
      "Testing max depth 4, learning rate 0.001 and n_est of 1500, yielding log loss of 0.3048737805358247 and AUC of 0.8738814317673378\n",
      "Testing max depth 4, learning rate 0.005 and n_est of 1500, yielding log loss of 0.32492543956348297 and AUC of 0.8786353467561521\n",
      "Testing max depth 4, learning rate 0.01 and n_est of 1500, yielding log loss of 0.3748583552268444 and AUC of 0.8769574944071589\n",
      "Testing max depth 4, learning rate 0.001 and n_est of 2000, yielding log loss of 0.27980765252444095 and AUC of 0.8705257270693513\n",
      "Testing max depth 4, learning rate 0.005 and n_est of 2000, yielding log loss of 0.3452374699802779 and AUC of 0.8817114093959731\n",
      "Testing max depth 4, learning rate 0.01 and n_est of 2000, yielding log loss of 0.3897475650838699 and AUC of 0.87751677852349\n",
      "Testing max depth 5, learning rate 0.001 and n_est of 100, yielding log loss of 0.6327763633920968 and AUC of 0.8831096196868008\n",
      "Testing max depth 5, learning rate 0.005 and n_est of 100, yielding log loss of 0.4700556300968104 and AUC of 0.8791946308724832\n",
      "Testing max depth 5, learning rate 0.01 and n_est of 100, yielding log loss of 0.36248381651205824 and AUC of 0.8744407158836689\n",
      "Testing max depth 5, learning rate 0.001 and n_est of 200, yielding log loss of 0.5817530182744727 and AUC of 0.8800335570469799\n",
      "Testing max depth 5, learning rate 0.005 and n_est of 200, yielding log loss of 0.36227270909127474 and AUC of 0.8719239373601789\n",
      "Testing max depth 5, learning rate 0.01 and n_est of 200, yielding log loss of 0.2817064496134058 and AUC of 0.8696868008948545\n",
      "Testing max depth 5, learning rate 0.001 and n_est of 300, yielding log loss of 0.5384537358849035 and AUC of 0.8803131991051454\n",
      "Testing max depth 5, learning rate 0.005 and n_est of 300, yielding log loss of 0.3069248555626483 and AUC of 0.8766778523489933\n",
      "Testing max depth 5, learning rate 0.01 and n_est of 300, yielding log loss of 0.26694545097046163 and AUC of 0.8710850111856824\n",
      "Testing max depth 5, learning rate 0.001 and n_est of 500, yielding log loss of 0.4678684102662037 and AUC of 0.8797539149888143\n",
      "Testing max depth 5, learning rate 0.005 and n_est of 500, yielding log loss of 0.266114112743408 and AUC of 0.87751677852349\n",
      "Testing max depth 5, learning rate 0.01 and n_est of 500, yielding log loss of 0.29119015068375653 and AUC of 0.8744407158836689\n",
      "Testing max depth 5, learning rate 0.001 and n_est of 1000, yielding log loss of 0.3602519120611896 and AUC of 0.8777964205816554\n",
      "Testing max depth 5, learning rate 0.005 and n_est of 1000, yielding log loss of 0.29212885300192787 and AUC of 0.8730425055928411\n",
      "Testing max depth 5, learning rate 0.01 and n_est of 1000, yielding log loss of 0.34260215649160564 and AUC of 0.8769574944071589\n",
      "Testing max depth 5, learning rate 0.001 and n_est of 1500, yielding log loss of 0.3049546138658 and AUC of 0.8733221476510067\n",
      "Testing max depth 5, learning rate 0.005 and n_est of 1500, yielding log loss of 0.3252493701868481 and AUC of 0.875\n",
      "Testing max depth 5, learning rate 0.01 and n_est of 1500, yielding log loss of 0.3693199404363919 and AUC of 0.880592841163311\n",
      "Testing max depth 5, learning rate 0.001 and n_est of 2000, yielding log loss of 0.27915813760950386 and AUC of 0.8696868008948545\n",
      "Testing max depth 5, learning rate 0.005 and n_est of 2000, yielding log loss of 0.3457574609574873 and AUC of 0.8814317673378076\n",
      "Testing max depth 5, learning rate 0.01 and n_est of 2000, yielding log loss of 0.38465520589855684 and AUC of 0.8791946308724832\n",
      "Testing max depth 7, learning rate 0.001 and n_est of 100, yielding log loss of 0.6327869351199596 and AUC of 0.8828299776286354\n",
      "Testing max depth 7, learning rate 0.005 and n_est of 100, yielding log loss of 0.4700382095196344 and AUC of 0.8797539149888143\n",
      "Testing max depth 7, learning rate 0.01 and n_est of 100, yielding log loss of 0.3622885923509653 and AUC of 0.8709451901565997\n",
      "Testing max depth 7, learning rate 0.001 and n_est of 200, yielding log loss of 0.5817402646031683 and AUC of 0.8800335570469799\n",
      "Testing max depth 7, learning rate 0.005 and n_est of 200, yielding log loss of 0.36243084736297587 and AUC of 0.8716442953020135\n",
      "Testing max depth 7, learning rate 0.01 and n_est of 200, yielding log loss of 0.2815282555415451 and AUC of 0.8708053691275168\n",
      "Testing max depth 7, learning rate 0.001 and n_est of 300, yielding log loss of 0.5385971563744407 and AUC of 0.8800335570469798\n",
      "Testing max depth 7, learning rate 0.005 and n_est of 300, yielding log loss of 0.3075907363454041 and AUC of 0.8752796420581654\n",
      "Testing max depth 7, learning rate 0.01 and n_est of 300, yielding log loss of 0.266701458323467 and AUC of 0.8696868008948545\n",
      "Testing max depth 7, learning rate 0.001 and n_est of 500, yielding log loss of 0.46841775836972144 and AUC of 0.8814317673378076\n",
      "Testing max depth 7, learning rate 0.005 and n_est of 500, yielding log loss of 0.2660710751536609 and AUC of 0.8763982102908278\n",
      "Testing max depth 7, learning rate 0.01 and n_est of 500, yielding log loss of 0.29039933639874604 and AUC of 0.8727628635346757\n",
      "Testing max depth 7, learning rate 0.001 and n_est of 1000, yielding log loss of 0.36055146381689634 and AUC of 0.8789149888143176\n",
      "Testing max depth 7, learning rate 0.005 and n_est of 1000, yielding log loss of 0.29050651726695154 and AUC of 0.8738814317673378\n",
      "Testing max depth 7, learning rate 0.01 and n_est of 1000, yielding log loss of 0.3420768575810133 and AUC of 0.8783557046979866\n",
      "Testing max depth 7, learning rate 0.001 and n_est of 1500, yielding log loss of 0.30515998270298017 and AUC of 0.8741610738255033\n",
      "Testing max depth 7, learning rate 0.005 and n_est of 1500, yielding log loss of 0.32409645384379443 and AUC of 0.8747203579418344\n",
      "Testing max depth 7, learning rate 0.01 and n_est of 1500, yielding log loss of 0.36890683673433905 and AUC of 0.8833892617449665\n",
      "Testing max depth 7, learning rate 0.001 and n_est of 2000, yielding log loss of 0.27931713528199004 and AUC of 0.869407158836689\n",
      "Testing max depth 7, learning rate 0.005 and n_est of 2000, yielding log loss of 0.34397265708983765 and AUC of 0.881152125279642\n",
      "Testing max depth 7, learning rate 0.01 and n_est of 2000, yielding log loss of 0.38477563046670427 and AUC of 0.8817114093959731\n",
      "Testing max depth 10, learning rate 0.001 and n_est of 100, yielding log loss of 0.6327869351199596 and AUC of 0.8828299776286354\n",
      "Testing max depth 10, learning rate 0.005 and n_est of 100, yielding log loss of 0.4700382095196344 and AUC of 0.8797539149888143\n"
     ]
    },
    {
     "name": "stdout",
     "output_type": "stream",
     "text": [
      "Testing max depth 10, learning rate 0.01 and n_est of 100, yielding log loss of 0.3622873606364851 and AUC of 0.8709451901565997\n",
      "Testing max depth 10, learning rate 0.001 and n_est of 200, yielding log loss of 0.5817402646031683 and AUC of 0.8800335570469799\n",
      "Testing max depth 10, learning rate 0.005 and n_est of 200, yielding log loss of 0.36243084736297587 and AUC of 0.8716442953020135\n",
      "Testing max depth 10, learning rate 0.01 and n_est of 200, yielding log loss of 0.281429003127393 and AUC of 0.8696868008948545\n",
      "Testing max depth 10, learning rate 0.001 and n_est of 300, yielding log loss of 0.5385971563744407 and AUC of 0.8800335570469798\n",
      "Testing max depth 10, learning rate 0.005 and n_est of 300, yielding log loss of 0.3075907363454041 and AUC of 0.8752796420581654\n",
      "Testing max depth 10, learning rate 0.01 and n_est of 300, yielding log loss of 0.26709641447301546 and AUC of 0.8671700223713646\n",
      "Testing max depth 10, learning rate 0.001 and n_est of 500, yielding log loss of 0.46841775836972144 and AUC of 0.8814317673378076\n",
      "Testing max depth 10, learning rate 0.005 and n_est of 500, yielding log loss of 0.2660710751536609 and AUC of 0.8763982102908278\n",
      "Testing max depth 10, learning rate 0.01 and n_est of 500, yielding log loss of 0.2919445786964299 and AUC of 0.8694071588366891\n",
      "Testing max depth 10, learning rate 0.001 and n_est of 1000, yielding log loss of 0.3605500895508452 and AUC of 0.8789149888143176\n",
      "Testing max depth 10, learning rate 0.005 and n_est of 1000, yielding log loss of 0.29050651726695154 and AUC of 0.8738814317673378\n",
      "Testing max depth 10, learning rate 0.01 and n_est of 1000, yielding log loss of 0.34554223031057263 and AUC of 0.8761185682326622\n",
      "Testing max depth 10, learning rate 0.001 and n_est of 1500, yielding log loss of 0.3051615103734711 and AUC of 0.8741610738255033\n",
      "Testing max depth 10, learning rate 0.005 and n_est of 1500, yielding log loss of 0.32409645384379443 and AUC of 0.8747203579418344\n",
      "Testing max depth 10, learning rate 0.01 and n_est of 1500, yielding log loss of 0.37043709381274215 and AUC of 0.8819910514541387\n",
      "Testing max depth 10, learning rate 0.001 and n_est of 2000, yielding log loss of 0.279328316450119 and AUC of 0.869407158836689\n",
      "Testing max depth 10, learning rate 0.005 and n_est of 2000, yielding log loss of 0.34397265708983765 and AUC of 0.881152125279642\n",
      "Testing max depth 10, learning rate 0.01 and n_est of 2000, yielding log loss of 0.38510167265060724 and AUC of 0.8800335570469799\n"
     ]
    }
   ],
   "source": [
    "#Grid Search\n",
    "\n",
    "max_depth = [1,2,3,4,5,7,10]\n",
    "n_est = [100, 200, 300,500, 1000,1500,2000]\n",
    "learning_rate = [0.001,0.005,0.010]\n",
    "\n",
    "for depth in max_depth:\n",
    "    for n in n_est:\n",
    "        for r in learning_rate:\n",
    "\n",
    "            model = xgb.XGBClassifier(learning_rate=r,\n",
    "                                       n_estimators=n, #bump this and learning rate to make more trees, trees(not exact) = n*learning rate\n",
    "                                       min_samples_leaf=4,\n",
    "                                       max_depth=depth,\n",
    "                                       subsample=0.5)\n",
    "            model.fit(X_train, y_train) #fitting model\n",
    "            probs = model.predict_proba(X_test)\n",
    "            ll = log_loss(y_test, probs)\n",
    "            auc = roc_auc_score(y_test.values, probs[:,1:])\n",
    "            print(\"Testing max depth {}, learning rate {} and n_est of {}, yielding log loss of {} and AUC of {}\".format(depth,r, n, ll, auc))"
   ]
  },
  {
   "cell_type": "code",
   "execution_count": null,
   "metadata": {},
   "outputs": [],
   "source": [
    "with pd.option_context('display.max_rows', None, 'display.max_columns', None):\n",
    "    print(y)"
   ]
  },
  {
   "cell_type": "code",
   "execution_count": null,
   "metadata": {},
   "outputs": [],
   "source": [
    "print(sum(y))"
   ]
  },
  {
   "cell_type": "code",
   "execution_count": null,
   "metadata": {},
   "outputs": [],
   "source": [
    "X_train"
   ]
  },
  {
   "cell_type": "code",
   "execution_count": null,
   "metadata": {},
   "outputs": [],
   "source": [
    "model.feature_importances_"
   ]
  },
  {
   "cell_type": "code",
   "execution_count": null,
   "metadata": {},
   "outputs": [],
   "source": [
    "plot_importance(model, max_num_features = 10, title = 'Feature Importance for Predicting Contractions in Real GDP 12 Months Out')"
   ]
  },
  {
   "cell_type": "code",
   "execution_count": null,
   "metadata": {},
   "outputs": [],
   "source": [
    "for combo in zip(X_train.columns,model.feature_importances_):\n",
    "    print(combo)"
   ]
  },
  {
   "cell_type": "code",
   "execution_count": null,
   "metadata": {},
   "outputs": [],
   "source": [
    "importance = pd.DataFrame(zip(X_train.columns,model.feature_importances_), columns = ['Indicator','Importance'])"
   ]
  },
  {
   "cell_type": "code",
   "execution_count": null,
   "metadata": {},
   "outputs": [],
   "source": [
    "with pd.option_context('display.max_rows', None, 'display.max_columns', None):\n",
    "    print(importance.sort_values(['Importance'], ascending = False))"
   ]
  },
  {
   "cell_type": "code",
   "execution_count": null,
   "metadata": {},
   "outputs": [],
   "source": [
    "X_train.head(100)"
   ]
  },
  {
   "cell_type": "code",
   "execution_count": null,
   "metadata": {},
   "outputs": [],
   "source": [
    "X = X.iloc[12:]\n",
    "y = y.iloc[12:]"
   ]
  },
  {
   "cell_type": "code",
   "execution_count": null,
   "metadata": {},
   "outputs": [],
   "source": [
    "tscv = TimeSeriesSplit(n_splits=4)"
   ]
  },
  {
   "cell_type": "code",
   "execution_count": null,
   "metadata": {},
   "outputs": [],
   "source": [
    "TimeSeriesSplit(max_train_size=None, n_splits=4)"
   ]
  },
  {
   "cell_type": "code",
   "execution_count": null,
   "metadata": {},
   "outputs": [],
   "source": []
  },
  {
   "cell_type": "code",
   "execution_count": null,
   "metadata": {},
   "outputs": [],
   "source": [
    "for train_index, test_index in tscv.split(X):\n",
    "    #print(\"TRAIN:\", train_index, \"TEST:\", test_index)\n",
    "    X_train, X_test = X.iloc[train_index], X.iloc[test_index]\n",
    "    y_train, y_test = y.iloc[train_index], y.iloc[test_index]\n",
    "    \n",
    "    #print(X_train, y_train)\n",
    "    \n",
    "    \n",
    "    model = xgb.XGBClassifier(learning_rate=0.005,\n",
    "                                   n_estimators=1000, #bump this and learning rate to make more trees, trees(not exact) = n*learning rate\n",
    "                                   min_samples_leaf=4,\n",
    "                                   max_depth=1,\n",
    "                                   subsample=0.5)\n",
    "\n",
    "    model.fit(X_train, y_train)\n",
    "    \n",
    "    probs = model.predict_proba(X_test)\n",
    "    \n",
    "    #print(probs)\n",
    "    \n",
    "    print(log_loss(y_test, probs))\n",
    "    \n",
    "    print(roc_auc_score(y_test.values, probs[:,1:]))\n",
    "    \n",
    "    results = pd.DataFrame(probs)\n",
    "    results['actual'] = y_test.values\n",
    "    results.index = y_test.index\n",
    "    pd.set_option('display.float_format', lambda x: '%.3f' % x)\n",
    "    with pd.option_context('display.max_rows', None, 'display.max_columns', None):\n",
    "        print(results)\n",
    "    "
   ]
  },
  {
   "cell_type": "code",
   "execution_count": null,
   "metadata": {},
   "outputs": [],
   "source": [
    "with pd.option_context('display.max_rows', None, 'display.max_columns', None):\n",
    "    print(y)"
   ]
  },
  {
   "cell_type": "code",
   "execution_count": null,
   "metadata": {},
   "outputs": [],
   "source": [
    "#Grid Search\n",
    "\n",
    "max_depth = [1,2,3,4,5,7,10]\n",
    "n_est = [100, 200, 300,500, 1000,1500,2000]\n",
    "learning_rate = [0.001,0.005,0.010]\n",
    "\n",
    "for depth in max_depth:\n",
    "    for n in n_est:\n",
    "        for r in learning_rate:\n",
    "\n",
    "            model = xgb.XGBClassifier(learning_rate=r,\n",
    "                                       n_estimators=n, #bump this and learning rate to make more trees, trees(not exact) = n*learning rate\n",
    "                                       min_samples_leaf=4,\n",
    "                                       max_depth=depth,\n",
    "                                       subsample=0.5)\n",
    "            model.fit(X_train, y_train) #fitting model\n",
    "            probs = model.predict_proba(X_test)\n",
    "            ll = log_loss(y_test, probs)\n",
    "            auc = roc_auc_score(y_test.values, probs[:,1:])\n",
    "            print(\"Testing max depth {}, learning rate {} and n_est of {}, yielding log loss of {} and AUC of {}\".format(depth,r, n, ll, auc))"
   ]
  },
  {
   "cell_type": "code",
   "execution_count": null,
   "metadata": {},
   "outputs": [],
   "source": []
  }
 ],
 "metadata": {
  "kernelspec": {
   "display_name": "Python 3",
   "language": "python",
   "name": "python3"
  },
  "language_info": {
   "codemirror_mode": {
    "name": "ipython",
    "version": 3
   },
   "file_extension": ".py",
   "mimetype": "text/x-python",
   "name": "python",
   "nbconvert_exporter": "python",
   "pygments_lexer": "ipython3",
   "version": "3.6.8"
  }
 },
 "nbformat": 4,
 "nbformat_minor": 2
}
