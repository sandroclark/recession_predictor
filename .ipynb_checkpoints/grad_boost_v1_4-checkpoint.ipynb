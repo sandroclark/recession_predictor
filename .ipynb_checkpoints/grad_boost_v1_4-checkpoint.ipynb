{
 "cells": [
  {
   "cell_type": "code",
   "execution_count": 4,
   "metadata": {},
   "outputs": [
    {
     "ename": "ModuleNotFoundError",
     "evalue": "No module named 'xgboost'",
     "output_type": "error",
     "traceback": [
      "\u001b[0;31m---------------------------------------------------------------------------\u001b[0m",
      "\u001b[0;31mModuleNotFoundError\u001b[0m                       Traceback (most recent call last)",
      "\u001b[0;32m<ipython-input-4-58aa1070f4e9>\u001b[0m in \u001b[0;36m<module>\u001b[0;34m\u001b[0m\n\u001b[1;32m     18\u001b[0m \u001b[0;32mfrom\u001b[0m \u001b[0msklearn\u001b[0m\u001b[0;34m.\u001b[0m\u001b[0mensemble\u001b[0m\u001b[0;34m.\u001b[0m\u001b[0mpartial_dependence\u001b[0m \u001b[0;32mimport\u001b[0m \u001b[0mpartial_dependence\u001b[0m\u001b[0;34m\u001b[0m\u001b[0;34m\u001b[0m\u001b[0m\n\u001b[1;32m     19\u001b[0m \u001b[0;34m\u001b[0m\u001b[0m\n\u001b[0;32m---> 20\u001b[0;31m \u001b[0;32mimport\u001b[0m \u001b[0mxgboost\u001b[0m \u001b[0;32mas\u001b[0m \u001b[0mxgb\u001b[0m\u001b[0;34m\u001b[0m\u001b[0;34m\u001b[0m\u001b[0m\n\u001b[0m\u001b[1;32m     21\u001b[0m \u001b[0;34m\u001b[0m\u001b[0m\n\u001b[1;32m     22\u001b[0m \u001b[0mget_ipython\u001b[0m\u001b[0;34m(\u001b[0m\u001b[0;34m)\u001b[0m\u001b[0;34m.\u001b[0m\u001b[0mrun_line_magic\u001b[0m\u001b[0;34m(\u001b[0m\u001b[0;34m'aimport'\u001b[0m\u001b[0;34m,\u001b[0m \u001b[0;34m'dataclean'\u001b[0m\u001b[0;34m)\u001b[0m\u001b[0;34m\u001b[0m\u001b[0;34m\u001b[0m\u001b[0m\n",
      "\u001b[0;31mModuleNotFoundError\u001b[0m: No module named 'xgboost'"
     ]
    }
   ],
   "source": [
    "#Imports and API Key\n",
    "#V1.4 implementing XGBoost\n",
    "\n",
    "import pandas as pd\n",
    "import quandl\n",
    "from scipy import stats\n",
    "import scipy\n",
    "from sklearn.linear_model import LogisticRegression, LinearRegression\n",
    "from sklearn.model_selection import train_test_split\n",
    "from sklearn.metrics import log_loss\n",
    "import matplotlib.pyplot as plt\n",
    "\n",
    "from sklearn.ensemble import GradientBoostingClassifier\n",
    "\n",
    "from sklearn.metrics import roc_auc_score\n",
    "\n",
    "from sklearn.ensemble.partial_dependence import plot_partial_dependence\n",
    "from sklearn.ensemble.partial_dependence import partial_dependence\n",
    "\n",
    "import xgboost as xgb\n",
    "\n",
    "%aimport dataclean\n",
    "\n",
    "quandl.ApiConfig.api_key = 'm8FYMyoCaJSbTrBASNHh'"
   ]
  },
  {
   "cell_type": "code",
   "execution_count": 2,
   "metadata": {},
   "outputs": [
    {
     "ename": "ForbiddenError",
     "evalue": "(Status 403) (Quandl Error QEPx05) You have attempted to view a premium database in anonymous mode, i.e., without providing a Quandl key. Please register for a free Quandl account, and then include your API key with your requests.",
     "output_type": "error",
     "traceback": [
      "\u001b[0;31m---------------------------------------------------------------------------\u001b[0m",
      "\u001b[0;31mForbiddenError\u001b[0m                            Traceback (most recent call last)",
      "\u001b[0;32m<ipython-input-2-c53774f300d9>\u001b[0m in \u001b[0;36m<module>\u001b[0;34m\u001b[0m\n\u001b[1;32m      3\u001b[0m \u001b[0mdata\u001b[0m \u001b[0;34m=\u001b[0m \u001b[0mpd\u001b[0m\u001b[0;34m.\u001b[0m\u001b[0mread_csv\u001b[0m\u001b[0;34m(\u001b[0m\u001b[0;34m'data_for_pull.csv'\u001b[0m\u001b[0;34m)\u001b[0m \u001b[0;31m#staging the QUANDL keys to pull in CSV\u001b[0m\u001b[0;34m\u001b[0m\u001b[0;34m\u001b[0m\u001b[0m\n\u001b[1;32m      4\u001b[0m \u001b[0mcols\u001b[0m \u001b[0;34m=\u001b[0m \u001b[0mlist\u001b[0m\u001b[0;34m(\u001b[0m\u001b[0mdata\u001b[0m\u001b[0;34m[\u001b[0m\u001b[0;34m'Var_name'\u001b[0m\u001b[0;34m]\u001b[0m\u001b[0;34m.\u001b[0m\u001b[0mastype\u001b[0m\u001b[0;34m(\u001b[0m\u001b[0;34m'str'\u001b[0m\u001b[0;34m)\u001b[0m\u001b[0;34m)\u001b[0m\u001b[0;34m\u001b[0m\u001b[0;34m\u001b[0m\u001b[0m\n\u001b[0;32m----> 5\u001b[0;31m \u001b[0mdataset\u001b[0m \u001b[0;34m=\u001b[0m \u001b[0mquandl\u001b[0m\u001b[0;34m.\u001b[0m\u001b[0mget\u001b[0m\u001b[0;34m(\u001b[0m\u001b[0;34m[\u001b[0m\u001b[0mval\u001b[0m \u001b[0;32mfor\u001b[0m \u001b[0mval\u001b[0m \u001b[0;32min\u001b[0m \u001b[0mdata\u001b[0m\u001b[0;34m[\u001b[0m\u001b[0;34m'Quandl Key'\u001b[0m\u001b[0;34m]\u001b[0m\u001b[0;34m]\u001b[0m\u001b[0;34m)\u001b[0m \u001b[0;31m#looping through the QUANDL keys to pull it into one DF\u001b[0m\u001b[0;34m\u001b[0m\u001b[0;34m\u001b[0m\u001b[0m\n\u001b[0m\u001b[1;32m      6\u001b[0m \u001b[0mdataset\u001b[0m\u001b[0;34m.\u001b[0m\u001b[0mcolumns\u001b[0m \u001b[0;34m=\u001b[0m \u001b[0mcols\u001b[0m\u001b[0;34m\u001b[0m\u001b[0;34m\u001b[0m\u001b[0m\n",
      "\u001b[0;32m/anaconda3/lib/python3.6/site-packages/quandl/get.py\u001b[0m in \u001b[0;36mget\u001b[0;34m(dataset, **kwargs)\u001b[0m\n\u001b[1;32m     54\u001b[0m         data = MergedDataset(args).data(params=kwargs,\n\u001b[1;32m     55\u001b[0m                                         \u001b[0mhandle_not_found_error\u001b[0m\u001b[0;34m=\u001b[0m\u001b[0;32mTrue\u001b[0m\u001b[0;34m,\u001b[0m\u001b[0;34m\u001b[0m\u001b[0;34m\u001b[0m\u001b[0m\n\u001b[0;32m---> 56\u001b[0;31m                                         handle_column_not_found=True)\n\u001b[0m\u001b[1;32m     57\u001b[0m     \u001b[0;31m# If wrong format\u001b[0m\u001b[0;34m\u001b[0m\u001b[0;34m\u001b[0m\u001b[0;34m\u001b[0m\u001b[0m\n\u001b[1;32m     58\u001b[0m     \u001b[0;32melse\u001b[0m\u001b[0;34m:\u001b[0m\u001b[0;34m\u001b[0m\u001b[0;34m\u001b[0m\u001b[0m\n",
      "\u001b[0;32m/anaconda3/lib/python3.6/site-packages/quandl/model/merged_dataset.py\u001b[0m in \u001b[0;36mdata\u001b[0;34m(self, **options)\u001b[0m\n\u001b[1;32m     34\u001b[0m         \u001b[0;31m# else fetch all the data and filter column indexes requested locally\u001b[0m\u001b[0;34m\u001b[0m\u001b[0;34m\u001b[0m\u001b[0;34m\u001b[0m\u001b[0m\n\u001b[1;32m     35\u001b[0m         dataset_data_list = [self._get_dataset_data(dataset, **options)\n\u001b[0;32m---> 36\u001b[0;31m                              for dataset in self.__dataset_objects__()]\n\u001b[0m\u001b[1;32m     37\u001b[0m \u001b[0;34m\u001b[0m\u001b[0m\n\u001b[1;32m     38\u001b[0m         \u001b[0;31m# build data frames and filter locally when necessary\u001b[0m\u001b[0;34m\u001b[0m\u001b[0;34m\u001b[0m\u001b[0;34m\u001b[0m\u001b[0m\n",
      "\u001b[0;32m/anaconda3/lib/python3.6/site-packages/quandl/model/merged_dataset.py\u001b[0m in \u001b[0;36m<listcomp>\u001b[0;34m(.0)\u001b[0m\n\u001b[1;32m     34\u001b[0m         \u001b[0;31m# else fetch all the data and filter column indexes requested locally\u001b[0m\u001b[0;34m\u001b[0m\u001b[0;34m\u001b[0m\u001b[0;34m\u001b[0m\u001b[0m\n\u001b[1;32m     35\u001b[0m         dataset_data_list = [self._get_dataset_data(dataset, **options)\n\u001b[0;32m---> 36\u001b[0;31m                              for dataset in self.__dataset_objects__()]\n\u001b[0m\u001b[1;32m     37\u001b[0m \u001b[0;34m\u001b[0m\u001b[0m\n\u001b[1;32m     38\u001b[0m         \u001b[0;31m# build data frames and filter locally when necessary\u001b[0m\u001b[0;34m\u001b[0m\u001b[0;34m\u001b[0m\u001b[0;34m\u001b[0m\u001b[0m\n",
      "\u001b[0;32m/anaconda3/lib/python3.6/site-packages/quandl/model/merged_dataset.py\u001b[0m in \u001b[0;36m_get_dataset_data\u001b[0;34m(self, dataset, **options)\u001b[0m\n\u001b[1;32m     71\u001b[0m             \u001b[0mupdated_options\u001b[0m \u001b[0;34m=\u001b[0m \u001b[0moptions\u001b[0m\u001b[0;34m.\u001b[0m\u001b[0mcopy\u001b[0m\u001b[0;34m(\u001b[0m\u001b[0;34m)\u001b[0m\u001b[0;34m\u001b[0m\u001b[0;34m\u001b[0m\u001b[0m\n\u001b[1;32m     72\u001b[0m             \u001b[0mupdated_options\u001b[0m \u001b[0;34m=\u001b[0m \u001b[0mUtil\u001b[0m\u001b[0;34m.\u001b[0m\u001b[0mmerge_options\u001b[0m\u001b[0;34m(\u001b[0m\u001b[0;34m'params'\u001b[0m\u001b[0;34m,\u001b[0m \u001b[0mparams\u001b[0m\u001b[0;34m,\u001b[0m \u001b[0;34m**\u001b[0m\u001b[0mupdated_options\u001b[0m\u001b[0;34m)\u001b[0m\u001b[0;34m\u001b[0m\u001b[0;34m\u001b[0m\u001b[0m\n\u001b[0;32m---> 73\u001b[0;31m         \u001b[0;32mreturn\u001b[0m \u001b[0mdataset\u001b[0m\u001b[0;34m.\u001b[0m\u001b[0mdata\u001b[0m\u001b[0;34m(\u001b[0m\u001b[0;34m**\u001b[0m\u001b[0mupdated_options\u001b[0m\u001b[0;34m)\u001b[0m\u001b[0;34m\u001b[0m\u001b[0;34m\u001b[0m\u001b[0m\n\u001b[0m\u001b[1;32m     74\u001b[0m \u001b[0;34m\u001b[0m\u001b[0m\n\u001b[1;32m     75\u001b[0m     \u001b[0;32mdef\u001b[0m \u001b[0m_build_data_meta\u001b[0m\u001b[0;34m(\u001b[0m\u001b[0mself\u001b[0m\u001b[0;34m,\u001b[0m \u001b[0mdataset_data_list\u001b[0m\u001b[0;34m,\u001b[0m \u001b[0mdf\u001b[0m\u001b[0;34m)\u001b[0m\u001b[0;34m:\u001b[0m\u001b[0;34m\u001b[0m\u001b[0;34m\u001b[0m\u001b[0m\n",
      "\u001b[0;32m/anaconda3/lib/python3.6/site-packages/quandl/model/dataset.py\u001b[0m in \u001b[0;36mdata\u001b[0;34m(self, **options)\u001b[0m\n\u001b[1;32m     45\u001b[0m         \u001b[0mupdated_options\u001b[0m \u001b[0;34m=\u001b[0m \u001b[0mUtil\u001b[0m\u001b[0;34m.\u001b[0m\u001b[0mmerge_options\u001b[0m\u001b[0;34m(\u001b[0m\u001b[0;34m'params'\u001b[0m\u001b[0;34m,\u001b[0m \u001b[0mparams\u001b[0m\u001b[0;34m,\u001b[0m \u001b[0;34m**\u001b[0m\u001b[0moptions\u001b[0m\u001b[0;34m)\u001b[0m\u001b[0;34m\u001b[0m\u001b[0;34m\u001b[0m\u001b[0m\n\u001b[1;32m     46\u001b[0m         \u001b[0;32mtry\u001b[0m\u001b[0;34m:\u001b[0m\u001b[0;34m\u001b[0m\u001b[0;34m\u001b[0m\u001b[0m\n\u001b[0;32m---> 47\u001b[0;31m             \u001b[0;32mreturn\u001b[0m \u001b[0mData\u001b[0m\u001b[0;34m.\u001b[0m\u001b[0mall\u001b[0m\u001b[0;34m(\u001b[0m\u001b[0;34m**\u001b[0m\u001b[0mupdated_options\u001b[0m\u001b[0;34m)\u001b[0m\u001b[0;34m\u001b[0m\u001b[0;34m\u001b[0m\u001b[0m\n\u001b[0m\u001b[1;32m     48\u001b[0m         \u001b[0;32mexcept\u001b[0m \u001b[0mNotFoundError\u001b[0m\u001b[0;34m:\u001b[0m\u001b[0;34m\u001b[0m\u001b[0;34m\u001b[0m\u001b[0m\n\u001b[1;32m     49\u001b[0m             \u001b[0;32mif\u001b[0m \u001b[0mhandle_not_found_error\u001b[0m\u001b[0;34m:\u001b[0m\u001b[0;34m\u001b[0m\u001b[0;34m\u001b[0m\u001b[0m\n",
      "\u001b[0;32m/anaconda3/lib/python3.6/site-packages/quandl/operations/list.py\u001b[0m in \u001b[0;36mall\u001b[0;34m(cls, **options)\u001b[0m\n\u001b[1;32m     13\u001b[0m             \u001b[0moptions\u001b[0m\u001b[0;34m[\u001b[0m\u001b[0;34m'params'\u001b[0m\u001b[0;34m]\u001b[0m \u001b[0;34m=\u001b[0m \u001b[0;34m{\u001b[0m\u001b[0;34m}\u001b[0m\u001b[0;34m\u001b[0m\u001b[0;34m\u001b[0m\u001b[0m\n\u001b[1;32m     14\u001b[0m         \u001b[0mpath\u001b[0m \u001b[0;34m=\u001b[0m \u001b[0mUtil\u001b[0m\u001b[0;34m.\u001b[0m\u001b[0mconstructed_path\u001b[0m\u001b[0;34m(\u001b[0m\u001b[0mcls\u001b[0m\u001b[0;34m.\u001b[0m\u001b[0mlist_path\u001b[0m\u001b[0;34m(\u001b[0m\u001b[0;34m)\u001b[0m\u001b[0;34m,\u001b[0m \u001b[0moptions\u001b[0m\u001b[0;34m[\u001b[0m\u001b[0;34m'params'\u001b[0m\u001b[0;34m]\u001b[0m\u001b[0;34m)\u001b[0m\u001b[0;34m\u001b[0m\u001b[0;34m\u001b[0m\u001b[0m\n\u001b[0;32m---> 15\u001b[0;31m         \u001b[0mr\u001b[0m \u001b[0;34m=\u001b[0m \u001b[0mConnection\u001b[0m\u001b[0;34m.\u001b[0m\u001b[0mrequest\u001b[0m\u001b[0;34m(\u001b[0m\u001b[0;34m'get'\u001b[0m\u001b[0;34m,\u001b[0m \u001b[0mpath\u001b[0m\u001b[0;34m,\u001b[0m \u001b[0;34m**\u001b[0m\u001b[0moptions\u001b[0m\u001b[0;34m)\u001b[0m\u001b[0;34m\u001b[0m\u001b[0;34m\u001b[0m\u001b[0m\n\u001b[0m\u001b[1;32m     16\u001b[0m         \u001b[0mresponse_data\u001b[0m \u001b[0;34m=\u001b[0m \u001b[0mr\u001b[0m\u001b[0;34m.\u001b[0m\u001b[0mjson\u001b[0m\u001b[0;34m(\u001b[0m\u001b[0;34m)\u001b[0m\u001b[0;34m\u001b[0m\u001b[0;34m\u001b[0m\u001b[0m\n\u001b[1;32m     17\u001b[0m         \u001b[0mUtil\u001b[0m\u001b[0;34m.\u001b[0m\u001b[0mconvert_to_dates\u001b[0m\u001b[0;34m(\u001b[0m\u001b[0mresponse_data\u001b[0m\u001b[0;34m)\u001b[0m\u001b[0;34m\u001b[0m\u001b[0;34m\u001b[0m\u001b[0m\n",
      "\u001b[0;32m/anaconda3/lib/python3.6/site-packages/quandl/connection.py\u001b[0m in \u001b[0;36mrequest\u001b[0;34m(cls, http_verb, url, **options)\u001b[0m\n\u001b[1;32m     36\u001b[0m         \u001b[0mabs_url\u001b[0m \u001b[0;34m=\u001b[0m \u001b[0;34m'%s/%s'\u001b[0m \u001b[0;34m%\u001b[0m \u001b[0;34m(\u001b[0m\u001b[0mApiConfig\u001b[0m\u001b[0;34m.\u001b[0m\u001b[0mapi_base\u001b[0m\u001b[0;34m,\u001b[0m \u001b[0murl\u001b[0m\u001b[0;34m)\u001b[0m\u001b[0;34m\u001b[0m\u001b[0;34m\u001b[0m\u001b[0m\n\u001b[1;32m     37\u001b[0m \u001b[0;34m\u001b[0m\u001b[0m\n\u001b[0;32m---> 38\u001b[0;31m         \u001b[0;32mreturn\u001b[0m \u001b[0mcls\u001b[0m\u001b[0;34m.\u001b[0m\u001b[0mexecute_request\u001b[0m\u001b[0;34m(\u001b[0m\u001b[0mhttp_verb\u001b[0m\u001b[0;34m,\u001b[0m \u001b[0mabs_url\u001b[0m\u001b[0;34m,\u001b[0m \u001b[0;34m**\u001b[0m\u001b[0moptions\u001b[0m\u001b[0;34m)\u001b[0m\u001b[0;34m\u001b[0m\u001b[0;34m\u001b[0m\u001b[0m\n\u001b[0m\u001b[1;32m     39\u001b[0m \u001b[0;34m\u001b[0m\u001b[0m\n\u001b[1;32m     40\u001b[0m     \u001b[0;34m@\u001b[0m\u001b[0mclassmethod\u001b[0m\u001b[0;34m\u001b[0m\u001b[0;34m\u001b[0m\u001b[0m\n",
      "\u001b[0;32m/anaconda3/lib/python3.6/site-packages/quandl/connection.py\u001b[0m in \u001b[0;36mexecute_request\u001b[0;34m(cls, http_verb, url, **options)\u001b[0m\n\u001b[1;32m     45\u001b[0m             \u001b[0mresponse\u001b[0m \u001b[0;34m=\u001b[0m \u001b[0msession\u001b[0m\u001b[0;34m.\u001b[0m\u001b[0mrequest\u001b[0m\u001b[0;34m(\u001b[0m\u001b[0mmethod\u001b[0m\u001b[0;34m=\u001b[0m\u001b[0mhttp_verb\u001b[0m\u001b[0;34m,\u001b[0m \u001b[0murl\u001b[0m\u001b[0;34m=\u001b[0m\u001b[0murl\u001b[0m\u001b[0;34m,\u001b[0m \u001b[0;34m**\u001b[0m\u001b[0moptions\u001b[0m\u001b[0;34m)\u001b[0m\u001b[0;34m\u001b[0m\u001b[0;34m\u001b[0m\u001b[0m\n\u001b[1;32m     46\u001b[0m             \u001b[0;32mif\u001b[0m \u001b[0mresponse\u001b[0m\u001b[0;34m.\u001b[0m\u001b[0mstatus_code\u001b[0m \u001b[0;34m<\u001b[0m \u001b[0;36m200\u001b[0m \u001b[0;32mor\u001b[0m \u001b[0mresponse\u001b[0m\u001b[0;34m.\u001b[0m\u001b[0mstatus_code\u001b[0m \u001b[0;34m>=\u001b[0m \u001b[0;36m300\u001b[0m\u001b[0;34m:\u001b[0m\u001b[0;34m\u001b[0m\u001b[0;34m\u001b[0m\u001b[0m\n\u001b[0;32m---> 47\u001b[0;31m                 \u001b[0mcls\u001b[0m\u001b[0;34m.\u001b[0m\u001b[0mhandle_api_error\u001b[0m\u001b[0;34m(\u001b[0m\u001b[0mresponse\u001b[0m\u001b[0;34m)\u001b[0m\u001b[0;34m\u001b[0m\u001b[0;34m\u001b[0m\u001b[0m\n\u001b[0m\u001b[1;32m     48\u001b[0m             \u001b[0;32melse\u001b[0m\u001b[0;34m:\u001b[0m\u001b[0;34m\u001b[0m\u001b[0;34m\u001b[0m\u001b[0m\n\u001b[1;32m     49\u001b[0m                 \u001b[0;32mreturn\u001b[0m \u001b[0mresponse\u001b[0m\u001b[0;34m\u001b[0m\u001b[0;34m\u001b[0m\u001b[0m\n",
      "\u001b[0;32m/anaconda3/lib/python3.6/site-packages/quandl/connection.py\u001b[0m in \u001b[0;36mhandle_api_error\u001b[0;34m(cls, resp)\u001b[0m\n\u001b[1;32m    109\u001b[0m         \u001b[0mklass\u001b[0m \u001b[0;34m=\u001b[0m \u001b[0md_klass\u001b[0m\u001b[0;34m.\u001b[0m\u001b[0mget\u001b[0m\u001b[0;34m(\u001b[0m\u001b[0mcode_letter\u001b[0m\u001b[0;34m,\u001b[0m \u001b[0mQuandlError\u001b[0m\u001b[0;34m)\u001b[0m\u001b[0;34m\u001b[0m\u001b[0;34m\u001b[0m\u001b[0m\n\u001b[1;32m    110\u001b[0m \u001b[0;34m\u001b[0m\u001b[0m\n\u001b[0;32m--> 111\u001b[0;31m         \u001b[0;32mraise\u001b[0m \u001b[0mklass\u001b[0m\u001b[0;34m(\u001b[0m\u001b[0mmessage\u001b[0m\u001b[0;34m,\u001b[0m \u001b[0mresp\u001b[0m\u001b[0;34m.\u001b[0m\u001b[0mstatus_code\u001b[0m\u001b[0;34m,\u001b[0m \u001b[0mresp\u001b[0m\u001b[0;34m.\u001b[0m\u001b[0mtext\u001b[0m\u001b[0;34m,\u001b[0m \u001b[0mresp\u001b[0m\u001b[0;34m.\u001b[0m\u001b[0mheaders\u001b[0m\u001b[0;34m,\u001b[0m \u001b[0mcode\u001b[0m\u001b[0;34m)\u001b[0m\u001b[0;34m\u001b[0m\u001b[0;34m\u001b[0m\u001b[0m\n\u001b[0m",
      "\u001b[0;31mForbiddenError\u001b[0m: (Status 403) (Quandl Error QEPx05) You have attempted to view a premium database in anonymous mode, i.e., without providing a Quandl key. Please register for a free Quandl account, and then include your API key with your requests."
     ]
    }
   ],
   "source": [
    "#pulling data from Quandl\n",
    "\n",
    "data = pd.read_csv('data_for_pull.csv') #staging the QUANDL keys to pull in CSV\n",
    "cols = list(data['Var_name'].astype('str'))\n",
    "dataset = quandl.get([val for val in data['Quandl Key']]) #looping through the QUANDL keys to pull it into one DF\n",
    "dataset.columns = cols"
   ]
  },
  {
   "cell_type": "code",
   "execution_count": 5,
   "metadata": {},
   "outputs": [],
   "source": [
    "#pulling FED Yield Curve data\n",
    "\n",
    "yields = pd.read_csv('Fed10Y_3M.csv')\n",
    "yields['Date'] = pd.to_datetime(yields['Date'])\n",
    "yields['Date'] = yields['Date'].apply(lambda x: x.strftime('%Y-%m'))\n",
    "yields = yields.set_index('Date')\n",
    "yields = yields.drop(['3 Month Treasury Yield', 'Rec_prob', 'NBER_Rec','Unnamed: 7'], axis=1) "
   ]
  },
  {
   "cell_type": "code",
   "execution_count": 6,
   "metadata": {},
   "outputs": [],
   "source": [
    "## back to working on the general data\n",
    "dataset.index = dataset.index.strftime('%Y-%m') #converting the datetime index to Y/M so it is collapsable\n",
    "dataset = dataset.groupby(dataset.index, as_index=True).agg(sum) #collapsing by Y/M"
   ]
  },
  {
   "cell_type": "code",
   "execution_count": 7,
   "metadata": {},
   "outputs": [],
   "source": [
    "#converting GDP quarterly data into monthly\n",
    "\n",
    "dataset = dataclean.convert_q_to_m(dataset, 'GDP')\n",
    "\n",
    "#converting consumer sentiment into monthly\n",
    "\n",
    "dataset = dataclean.convert_q_to_m(dataset, 'CONS_SENT')"
   ]
  },
  {
   "cell_type": "code",
   "execution_count": 8,
   "metadata": {},
   "outputs": [],
   "source": [
    "#calculating change in GDP and converting Y into categorical values \n",
    "dataset['Recession'] = ((dataset['GDP'] - dataset['GDP'].shift(3)) < 0).astype(int)"
   ]
  },
  {
   "cell_type": "code",
   "execution_count": 9,
   "metadata": {},
   "outputs": [],
   "source": [
    "#merge fed interest rate data here\n",
    "dataset = dataset.join(yields, how='outer')"
   ]
  },
  {
   "cell_type": "code",
   "execution_count": 10,
   "metadata": {},
   "outputs": [],
   "source": [
    "#cutoff most of missing data, Post March 2019, Prior 1959. CPI/PPI missing 2016 onward so need to cut that off\n",
    "dataset = dataset.iloc[552:]\n",
    "dataset = dataset.iloc[:-59]"
   ]
  },
  {
   "cell_type": "code",
   "execution_count": 11,
   "metadata": {},
   "outputs": [],
   "source": [
    "y = dataset['Recession'] #splitting off Y"
   ]
  },
  {
   "cell_type": "code",
   "execution_count": 14,
   "metadata": {},
   "outputs": [],
   "source": [
    "dataset = dataset.drop(columns = ['GDP','Recession']) #dropping calc column and recession column from dataset, experimenting with taking out fed funds rate"
   ]
  },
  {
   "cell_type": "code",
   "execution_count": 15,
   "metadata": {},
   "outputs": [],
   "source": [
    "#substituting mean value in for missing values and adding dummy column to indicate where done\n",
    "\n",
    "for col in dataset.columns:\n",
    "    dataclean.clean_zeros(col, dataset)"
   ]
  },
  {
   "cell_type": "code",
   "execution_count": 16,
   "metadata": {},
   "outputs": [],
   "source": [
    "#adding momentum factors\n",
    "\n",
    "momentum_cols = list(dataset.columns[:-6])\n",
    "\n",
    "momentum_cols.remove('PPI') #removing PPI and CPI because they need a different transformation\n",
    "momentum_cols.remove('CPI')\n",
    "\n",
    "for i in [1,3,12]:\n",
    "    for col in momentum_cols:\n",
    "        dataclean.create_momentum(col,dataset,i)"
   ]
  },
  {
   "cell_type": "code",
   "execution_count": 17,
   "metadata": {},
   "outputs": [],
   "source": [
    "#CPI Calcs\n",
    "\n",
    "for i in [1,3,12]:\n",
    "    for col in ['CPI','PPI']:\n",
    "        dataclean.infl_momentum(col,dataset,i)"
   ]
  },
  {
   "cell_type": "code",
   "execution_count": 30,
   "metadata": {},
   "outputs": [],
   "source": [
    "X = dataset"
   ]
  },
  {
   "cell_type": "code",
   "execution_count": 127,
   "metadata": {},
   "outputs": [
    {
     "data": {
      "text/html": [
       "<div>\n",
       "<style scoped>\n",
       "    .dataframe tbody tr th:only-of-type {\n",
       "        vertical-align: middle;\n",
       "    }\n",
       "\n",
       "    .dataframe tbody tr th {\n",
       "        vertical-align: top;\n",
       "    }\n",
       "\n",
       "    .dataframe thead th {\n",
       "        text-align: right;\n",
       "    }\n",
       "</style>\n",
       "<table border=\"1\" class=\"dataframe\">\n",
       "  <thead>\n",
       "    <tr style=\"text-align: right;\">\n",
       "      <th></th>\n",
       "      <th>PMI</th>\n",
       "      <th>UNR</th>\n",
       "      <th>YUNR</th>\n",
       "      <th>CONS_SENT</th>\n",
       "      <th>HOME_SALES</th>\n",
       "      <th>PART_TIME</th>\n",
       "      <th>CPPR_PRICE</th>\n",
       "      <th>HOUS_PERMS</th>\n",
       "      <th>HOUS_STARTS</th>\n",
       "      <th>CAP_UTIL</th>\n",
       "      <th>...</th>\n",
       "      <th>3YRT_12m_shift</th>\n",
       "      <th>10 Year Treasury Yield_12m_shift</th>\n",
       "      <th>3 Month Treasury Yield (Bond Equivalent Basis)_12m_shift</th>\n",
       "      <th>Spread_12m_shift</th>\n",
       "      <th>CPI_1m_shift</th>\n",
       "      <th>PPI_1m_shift</th>\n",
       "      <th>CPI_3m_shift</th>\n",
       "      <th>PPI_3m_shift</th>\n",
       "      <th>CPI_12m_shift</th>\n",
       "      <th>PPI_12m_shift</th>\n",
       "    </tr>\n",
       "  </thead>\n",
       "  <tbody>\n",
       "    <tr>\n",
       "      <th>1959-01</th>\n",
       "      <td>64.400</td>\n",
       "      <td>6.000</td>\n",
       "      <td>11.600</td>\n",
       "      <td>90.800</td>\n",
       "      <td>3219.348</td>\n",
       "      <td>1022.000</td>\n",
       "      <td>152.022</td>\n",
       "      <td>1338.216</td>\n",
       "      <td>1657.000</td>\n",
       "      <td>69.088</td>\n",
       "      <td>...</td>\n",
       "      <td>nan</td>\n",
       "      <td>nan</td>\n",
       "      <td>nan</td>\n",
       "      <td>nan</td>\n",
       "      <td>nan</td>\n",
       "      <td>nan</td>\n",
       "      <td>nan</td>\n",
       "      <td>nan</td>\n",
       "      <td>nan</td>\n",
       "      <td>nan</td>\n",
       "    </tr>\n",
       "    <tr>\n",
       "      <th>1959-02</th>\n",
       "      <td>66.900</td>\n",
       "      <td>5.900</td>\n",
       "      <td>11.100</td>\n",
       "      <td>90.800</td>\n",
       "      <td>3219.348</td>\n",
       "      <td>973.000</td>\n",
       "      <td>152.022</td>\n",
       "      <td>1338.216</td>\n",
       "      <td>1667.000</td>\n",
       "      <td>69.088</td>\n",
       "      <td>...</td>\n",
       "      <td>nan</td>\n",
       "      <td>nan</td>\n",
       "      <td>nan</td>\n",
       "      <td>nan</td>\n",
       "      <td>-0.345</td>\n",
       "      <td>0.000</td>\n",
       "      <td>nan</td>\n",
       "      <td>nan</td>\n",
       "      <td>nan</td>\n",
       "      <td>nan</td>\n",
       "    </tr>\n",
       "    <tr>\n",
       "      <th>1959-03</th>\n",
       "      <td>67.100</td>\n",
       "      <td>5.600</td>\n",
       "      <td>11.100</td>\n",
       "      <td>90.800</td>\n",
       "      <td>3219.348</td>\n",
       "      <td>1102.000</td>\n",
       "      <td>152.022</td>\n",
       "      <td>1338.216</td>\n",
       "      <td>1620.000</td>\n",
       "      <td>69.088</td>\n",
       "      <td>...</td>\n",
       "      <td>nan</td>\n",
       "      <td>nan</td>\n",
       "      <td>nan</td>\n",
       "      <td>nan</td>\n",
       "      <td>0.000</td>\n",
       "      <td>0.000</td>\n",
       "      <td>nan</td>\n",
       "      <td>nan</td>\n",
       "      <td>nan</td>\n",
       "      <td>nan</td>\n",
       "    </tr>\n",
       "    <tr>\n",
       "      <th>1959-04</th>\n",
       "      <td>66.900</td>\n",
       "      <td>5.200</td>\n",
       "      <td>10.800</td>\n",
       "      <td>90.800</td>\n",
       "      <td>3219.348</td>\n",
       "      <td>1086.000</td>\n",
       "      <td>152.022</td>\n",
       "      <td>1338.216</td>\n",
       "      <td>1590.000</td>\n",
       "      <td>69.088</td>\n",
       "      <td>...</td>\n",
       "      <td>nan</td>\n",
       "      <td>nan</td>\n",
       "      <td>nan</td>\n",
       "      <td>nan</td>\n",
       "      <td>0.346</td>\n",
       "      <td>0.315</td>\n",
       "      <td>0.000</td>\n",
       "      <td>0.315</td>\n",
       "      <td>nan</td>\n",
       "      <td>nan</td>\n",
       "    </tr>\n",
       "    <tr>\n",
       "      <th>1959-05</th>\n",
       "      <td>68.200</td>\n",
       "      <td>5.100</td>\n",
       "      <td>10.000</td>\n",
       "      <td>95.300</td>\n",
       "      <td>3219.348</td>\n",
       "      <td>968.000</td>\n",
       "      <td>152.022</td>\n",
       "      <td>1338.216</td>\n",
       "      <td>1498.000</td>\n",
       "      <td>69.088</td>\n",
       "      <td>...</td>\n",
       "      <td>nan</td>\n",
       "      <td>nan</td>\n",
       "      <td>nan</td>\n",
       "      <td>nan</td>\n",
       "      <td>0.000</td>\n",
       "      <td>0.000</td>\n",
       "      <td>0.346</td>\n",
       "      <td>0.315</td>\n",
       "      <td>nan</td>\n",
       "      <td>nan</td>\n",
       "    </tr>\n",
       "  </tbody>\n",
       "</table>\n",
       "<p>5 rows × 98 columns</p>\n",
       "</div>"
      ],
      "text/plain": [
       "           PMI   UNR   YUNR  CONS_SENT  HOME_SALES  PART_TIME  CPPR_PRICE  \\\n",
       "1959-01 64.400 6.000 11.600     90.800    3219.348   1022.000     152.022   \n",
       "1959-02 66.900 5.900 11.100     90.800    3219.348    973.000     152.022   \n",
       "1959-03 67.100 5.600 11.100     90.800    3219.348   1102.000     152.022   \n",
       "1959-04 66.900 5.200 10.800     90.800    3219.348   1086.000     152.022   \n",
       "1959-05 68.200 5.100 10.000     95.300    3219.348    968.000     152.022   \n",
       "\n",
       "         HOUS_PERMS  HOUS_STARTS  CAP_UTIL  ...  3YRT_12m_shift  \\\n",
       "1959-01    1338.216     1657.000    69.088  ...             nan   \n",
       "1959-02    1338.216     1667.000    69.088  ...             nan   \n",
       "1959-03    1338.216     1620.000    69.088  ...             nan   \n",
       "1959-04    1338.216     1590.000    69.088  ...             nan   \n",
       "1959-05    1338.216     1498.000    69.088  ...             nan   \n",
       "\n",
       "         10 Year Treasury Yield_12m_shift  \\\n",
       "1959-01                               nan   \n",
       "1959-02                               nan   \n",
       "1959-03                               nan   \n",
       "1959-04                               nan   \n",
       "1959-05                               nan   \n",
       "\n",
       "         3 Month Treasury Yield (Bond Equivalent Basis)_12m_shift  \\\n",
       "1959-01                                                nan          \n",
       "1959-02                                                nan          \n",
       "1959-03                                                nan          \n",
       "1959-04                                                nan          \n",
       "1959-05                                                nan          \n",
       "\n",
       "         Spread_12m_shift  CPI_1m_shift  PPI_1m_shift  CPI_3m_shift  \\\n",
       "1959-01               nan           nan           nan           nan   \n",
       "1959-02               nan        -0.345         0.000           nan   \n",
       "1959-03               nan         0.000         0.000           nan   \n",
       "1959-04               nan         0.346         0.315         0.000   \n",
       "1959-05               nan         0.000         0.000         0.346   \n",
       "\n",
       "         PPI_3m_shift  CPI_12m_shift  PPI_12m_shift  \n",
       "1959-01           nan            nan            nan  \n",
       "1959-02           nan            nan            nan  \n",
       "1959-03           nan            nan            nan  \n",
       "1959-04         0.315            nan            nan  \n",
       "1959-05         0.315            nan            nan  \n",
       "\n",
       "[5 rows x 98 columns]"
      ]
     },
     "execution_count": 127,
     "metadata": {},
     "output_type": "execute_result"
    }
   ],
   "source": [
    "dataset.head()"
   ]
  },
  {
   "cell_type": "code",
   "execution_count": 31,
   "metadata": {},
   "outputs": [],
   "source": [
    "### Data Prep Finished Here ###"
   ]
  },
  {
   "cell_type": "code",
   "execution_count": 155,
   "metadata": {},
   "outputs": [],
   "source": [
    "y_shift = y.shift(-12) #shifting y to forecast 3 months out. Shifting out should be negative\n",
    "y_shift = y_shift.fillna(0)"
   ]
  },
  {
   "cell_type": "code",
   "execution_count": 156,
   "metadata": {},
   "outputs": [],
   "source": [
    "X_train = X.iloc[12:550]\n",
    "X_test = X.iloc[550:]\n",
    "y_train = y_shift.iloc[12:550]\n",
    "y_test = y_shift.iloc[550:]"
   ]
  },
  {
   "cell_type": "code",
   "execution_count": 157,
   "metadata": {},
   "outputs": [
    {
     "data": {
      "text/plain": [
       "GradientBoostingClassifier(criterion='friedman_mse', init=None,\n",
       "              learning_rate=0.005, loss='deviance', max_depth=1,\n",
       "              max_features=None, max_leaf_nodes=None,\n",
       "              min_impurity_decrease=0.0, min_impurity_split=None,\n",
       "              min_samples_leaf=4, min_samples_split=2,\n",
       "              min_weight_fraction_leaf=0.0, n_estimators=1000,\n",
       "              n_iter_no_change=None, presort='auto', random_state=None,\n",
       "              subsample=0.5, tol=0.0001, validation_fraction=0.1,\n",
       "              verbose=0, warm_start=False)"
      ]
     },
     "execution_count": 157,
     "metadata": {},
     "output_type": "execute_result"
    }
   ],
   "source": [
    "model = GradientBoostingClassifier(learning_rate=0.005,\n",
    "                                   n_estimators=1000, #bump this and learning rate to make more trees, trees(not exact) = n*learning rate\n",
    "                                   min_samples_leaf=4,\n",
    "                                   max_depth=1,\n",
    "                                   subsample=0.5)\n",
    "model.fit(X_train, y_train)"
   ]
  },
  {
   "cell_type": "code",
   "execution_count": 158,
   "metadata": {},
   "outputs": [],
   "source": [
    "probs = model.predict_proba(X_test)"
   ]
  },
  {
   "cell_type": "code",
   "execution_count": 159,
   "metadata": {},
   "outputs": [
    {
     "data": {
      "text/plain": [
       "0.37547478989231337"
      ]
     },
     "execution_count": 159,
     "metadata": {},
     "output_type": "execute_result"
    }
   ],
   "source": [
    "log_loss(y_test, probs)"
   ]
  },
  {
   "cell_type": "code",
   "execution_count": 160,
   "metadata": {},
   "outputs": [
    {
     "data": {
      "text/plain": [
       "0.6991150442477876"
      ]
     },
     "execution_count": 160,
     "metadata": {},
     "output_type": "execute_result"
    }
   ],
   "source": [
    "roc_auc_score(y_test.values, probs[:,1:])"
   ]
  },
  {
   "cell_type": "code",
   "execution_count": 136,
   "metadata": {},
   "outputs": [
    {
     "name": "stdout",
     "output_type": "stream",
     "text": [
      "Testing max depth 1, learning rate 0.001 and n_est of 100, yielding log loss of 0.34971043965048965 and AUC of 0.8053097345132744\n",
      "Testing max depth 1, learning rate 0.005 and n_est of 100, yielding log loss of 0.3133363957301914 and AUC of 0.8314896755162242\n",
      "Testing max depth 1, learning rate 0.01 and n_est of 100, yielding log loss of 0.29692698490639663 and AUC of 0.8348082595870207\n",
      "Testing max depth 1, learning rate 0.001 and n_est of 200, yielding log loss of 0.3365238982230302 and AUC of 0.8399705014749262\n",
      "Testing max depth 1, learning rate 0.005 and n_est of 200, yielding log loss of 0.2799944762916731 and AUC of 0.8241150442477876\n",
      "Testing max depth 1, learning rate 0.01 and n_est of 200, yielding log loss of 0.2472731880635507 and AUC of 0.8285398230088495\n",
      "Testing max depth 1, learning rate 0.001 and n_est of 300, yielding log loss of 0.3313566692766402 and AUC of 0.8296460176991151\n",
      "Testing max depth 1, learning rate 0.005 and n_est of 300, yielding log loss of 0.26269247359951786 and AUC of 0.8255899705014749\n",
      "Testing max depth 1, learning rate 0.01 and n_est of 300, yielding log loss of 0.2305882463067023 and AUC of 0.836283185840708\n",
      "Testing max depth 1, learning rate 0.001 and n_est of 500, yielding log loss of 0.30812663631096315 and AUC of 0.8252212389380531\n",
      "Testing max depth 1, learning rate 0.005 and n_est of 500, yielding log loss of 0.23875769907337743 and AUC of 0.8333333333333334\n",
      "Testing max depth 1, learning rate 0.01 and n_est of 500, yielding log loss of 0.21001110347326443 and AUC of 0.8458702064896755\n",
      "Testing max depth 1, learning rate 0.001 and n_est of 1000, yielding log loss of 0.2781797055436032 and AUC of 0.827433628318584\n",
      "Testing max depth 1, learning rate 0.005 and n_est of 1000, yielding log loss of 0.20406461287329347 and AUC of 0.8355457227138642\n",
      "Testing max depth 1, learning rate 0.01 and n_est of 1000, yielding log loss of 0.20724638574134782 and AUC of 0.8451327433628318\n",
      "Testing max depth 1, learning rate 0.001 and n_est of 1500, yielding log loss of 0.24846483214844176 and AUC of 0.8466076696165192\n",
      "Testing max depth 1, learning rate 0.005 and n_est of 1500, yielding log loss of 0.208768988379226 and AUC of 0.8407079646017699\n",
      "Testing max depth 1, learning rate 0.01 and n_est of 1500, yielding log loss of 0.23428376773643592 and AUC of 0.8185840707964602\n",
      "Testing max depth 1, learning rate 0.001 and n_est of 2000, yielding log loss of 0.24033795695669039 and AUC of 0.8370206489675517\n",
      "Testing max depth 1, learning rate 0.005 and n_est of 2000, yielding log loss of 0.21118534385554516 and AUC of 0.8384955752212389\n",
      "Testing max depth 1, learning rate 0.01 and n_est of 2000, yielding log loss of 0.26163771941243863 and AUC of 0.7927728613569321\n",
      "Testing max depth 2, learning rate 0.001 and n_est of 100, yielding log loss of 0.335809979234807 and AUC of 0.793141592920354\n",
      "Testing max depth 2, learning rate 0.005 and n_est of 100, yielding log loss of 0.26063237562953134 and AUC of 0.8266961651917404\n",
      "Testing max depth 2, learning rate 0.01 and n_est of 100, yielding log loss of 0.2393639840075531 and AUC of 0.8189528023598821\n",
      "Testing max depth 2, learning rate 0.001 and n_est of 200, yielding log loss of 0.3208117821747495 and AUC of 0.8156342182890857\n",
      "Testing max depth 2, learning rate 0.005 and n_est of 200, yielding log loss of 0.23881987842584362 and AUC of 0.8281710914454277\n",
      "Testing max depth 2, learning rate 0.01 and n_est of 200, yielding log loss of 0.21412744392767474 and AUC of 0.8436578171091444\n",
      "Testing max depth 2, learning rate 0.001 and n_est of 300, yielding log loss of 0.2987115882185813 and AUC of 0.8193215339233039\n",
      "Testing max depth 2, learning rate 0.005 and n_est of 300, yielding log loss of 0.23083938137607496 and AUC of 0.8178466076696165\n",
      "Testing max depth 2, learning rate 0.01 and n_est of 300, yielding log loss of 0.22515974074097725 and AUC of 0.8281710914454278\n",
      "Testing max depth 2, learning rate 0.001 and n_est of 500, yielding log loss of 0.26862512782903264 and AUC of 0.8281710914454278\n",
      "Testing max depth 2, learning rate 0.005 and n_est of 500, yielding log loss of 0.22222632126010883 and AUC of 0.8266961651917405\n",
      "Testing max depth 2, learning rate 0.01 and n_est of 500, yielding log loss of 0.22699608700615323 and AUC of 0.8215339233038348\n",
      "Testing max depth 2, learning rate 0.001 and n_est of 1000, yielding log loss of 0.24721704362943422 and AUC of 0.8266961651917404\n",
      "Testing max depth 2, learning rate 0.005 and n_est of 1000, yielding log loss of 0.21867539973055863 and AUC of 0.8333333333333333\n",
      "Testing max depth 2, learning rate 0.01 and n_est of 1000, yielding log loss of 0.24958349179578845 and AUC of 0.8370206489675517\n",
      "Testing max depth 2, learning rate 0.001 and n_est of 1500, yielding log loss of 0.23149510880884183 and AUC of 0.8311209439528024\n",
      "Testing max depth 2, learning rate 0.005 and n_est of 1500, yielding log loss of 0.2285519559928578 and AUC of 0.8266961651917405\n",
      "Testing max depth 2, learning rate 0.01 and n_est of 1500, yielding log loss of 0.27862172376227606 and AUC of 0.8178466076696166\n",
      "Testing max depth 2, learning rate 0.001 and n_est of 2000, yielding log loss of 0.22304823403004065 and AUC of 0.8289085545722714\n",
      "Testing max depth 2, learning rate 0.005 and n_est of 2000, yielding log loss of 0.2549081944639282 and AUC of 0.8244837758112095\n",
      "Testing max depth 2, learning rate 0.01 and n_est of 2000, yielding log loss of 0.32711534845648765 and AUC of 0.8104719764011798\n",
      "Testing max depth 3, learning rate 0.001 and n_est of 100, yielding log loss of 0.3323957694530272 and AUC of 0.8178466076696165\n",
      "Testing max depth 3, learning rate 0.005 and n_est of 100, yielding log loss of 0.2742052818901358 and AUC of 0.7912979351032448\n",
      "Testing max depth 3, learning rate 0.01 and n_est of 100, yielding log loss of 0.26369055698211397 and AUC of 0.8182153392330384\n",
      "Testing max depth 3, learning rate 0.001 and n_est of 200, yielding log loss of 0.3120453380113921 and AUC of 0.7920353982300885\n",
      "Testing max depth 3, learning rate 0.005 and n_est of 200, yielding log loss of 0.24172332737255225 and AUC of 0.8053097345132744\n",
      "Testing max depth 3, learning rate 0.01 and n_est of 200, yielding log loss of 0.21851411728988215 and AUC of 0.8333333333333334\n",
      "Testing max depth 3, learning rate 0.001 and n_est of 300, yielding log loss of 0.28794141020873115 and AUC of 0.8252212389380531\n",
      "Testing max depth 3, learning rate 0.005 and n_est of 300, yielding log loss of 0.23556368763941044 and AUC of 0.8193215339233038\n",
      "Testing max depth 3, learning rate 0.01 and n_est of 300, yielding log loss of 0.21966035554358262 and AUC of 0.8311209439528023\n",
      "Testing max depth 3, learning rate 0.001 and n_est of 500, yielding log loss of 0.2705944493568071 and AUC of 0.8193215339233039\n",
      "Testing max depth 3, learning rate 0.005 and n_est of 500, yielding log loss of 0.23037783898809577 and AUC of 0.8097345132743362\n",
      "Testing max depth 3, learning rate 0.01 and n_est of 500, yielding log loss of 0.2522963771175685 and AUC of 0.8207964601769911\n",
      "Testing max depth 3, learning rate 0.001 and n_est of 1000, yielding log loss of 0.2452234707198218 and AUC of 0.8237463126843658\n",
      "Testing max depth 3, learning rate 0.005 and n_est of 1000, yielding log loss of 0.25139973232497176 and AUC of 0.8134218289085546\n",
      "Testing max depth 3, learning rate 0.01 and n_est of 1000, yielding log loss of 0.28947311628549305 and AUC of 0.8141592920353983\n",
      "Testing max depth 3, learning rate 0.001 and n_est of 1500, yielding log loss of 0.2338080541075634 and AUC of 0.8259587020648967\n",
      "Testing max depth 3, learning rate 0.005 and n_est of 1500, yielding log loss of 0.2689478930101396 and AUC of 0.8148967551622419\n",
      "Testing max depth 3, learning rate 0.01 and n_est of 1500, yielding log loss of 0.3457252390285505 and AUC of 0.8163716814159292\n",
      "Testing max depth 3, learning rate 0.001 and n_est of 2000, yielding log loss of 0.22777414504957993 and AUC of 0.8237463126843658\n",
      "Testing max depth 3, learning rate 0.005 and n_est of 2000, yielding log loss of 0.2851779123762054 and AUC of 0.8230088495575222\n",
      "Testing max depth 3, learning rate 0.01 and n_est of 2000, yielding log loss of 0.395028680357603 and AUC of 0.8163716814159292\n",
      "Testing max depth 4, learning rate 0.001 and n_est of 100, yielding log loss of 0.3285638001116065 and AUC of 0.8053097345132744\n"
     ]
    },
    {
     "name": "stdout",
     "output_type": "stream",
     "text": [
      "Testing max depth 4, learning rate 0.005 and n_est of 100, yielding log loss of 0.26536130147613024 and AUC of 0.8215339233038348\n",
      "Testing max depth 4, learning rate 0.01 and n_est of 100, yielding log loss of 0.24472235972177703 and AUC of 0.8001474926253687\n",
      "Testing max depth 4, learning rate 0.001 and n_est of 200, yielding log loss of 0.3052523860457806 and AUC of 0.8230088495575221\n",
      "Testing max depth 4, learning rate 0.005 and n_est of 200, yielding log loss of 0.26015771622721984 and AUC of 0.7831858407079645\n",
      "Testing max depth 4, learning rate 0.01 and n_est of 200, yielding log loss of 0.2535095618375244 and AUC of 0.8237463126843657\n",
      "Testing max depth 4, learning rate 0.001 and n_est of 300, yielding log loss of 0.28370052198116436 and AUC of 0.8289085545722714\n",
      "Testing max depth 4, learning rate 0.005 and n_est of 300, yielding log loss of 0.24059926421246536 and AUC of 0.8119469026548672\n",
      "Testing max depth 4, learning rate 0.01 and n_est of 300, yielding log loss of 0.24068328899372582 and AUC of 0.7964601769911503\n",
      "Testing max depth 4, learning rate 0.001 and n_est of 500, yielding log loss of 0.27284652722345326 and AUC of 0.8030973451327433\n",
      "Testing max depth 4, learning rate 0.005 and n_est of 500, yielding log loss of 0.22701719792469177 and AUC of 0.8392330383480826\n",
      "Testing max depth 4, learning rate 0.01 and n_est of 500, yielding log loss of 0.25759905621551593 and AUC of 0.8274336283185841\n",
      "Testing max depth 4, learning rate 0.001 and n_est of 1000, yielding log loss of 0.24733674363681657 and AUC of 0.8163716814159293\n",
      "Testing max depth 4, learning rate 0.005 and n_est of 1000, yielding log loss of 0.2535647185050663 and AUC of 0.8392330383480825\n",
      "Testing max depth 4, learning rate 0.01 and n_est of 1000, yielding log loss of 0.3251269099380936 and AUC of 0.8207964601769911\n",
      "Testing max depth 4, learning rate 0.001 and n_est of 1500, yielding log loss of 0.23423181579025554 and AUC of 0.8252212389380531\n",
      "Testing max depth 4, learning rate 0.005 and n_est of 1500, yielding log loss of 0.275364072651651 and AUC of 0.8266961651917405\n",
      "Testing max depth 4, learning rate 0.01 and n_est of 1500, yielding log loss of 0.3781584636791105 and AUC of 0.8274336283185841\n",
      "Testing max depth 4, learning rate 0.001 and n_est of 2000, yielding log loss of 0.23729249169563013 and AUC of 0.8252212389380531\n",
      "Testing max depth 4, learning rate 0.005 and n_est of 2000, yielding log loss of 0.31631305638737717 and AUC of 0.8303834808259588\n",
      "Testing max depth 4, learning rate 0.01 and n_est of 2000, yielding log loss of 0.43338175907400295 and AUC of 0.8215339233038348\n",
      "Testing max depth 5, learning rate 0.001 and n_est of 100, yielding log loss of 0.3327268780259752 and AUC of 0.8193215339233039\n",
      "Testing max depth 5, learning rate 0.005 and n_est of 100, yielding log loss of 0.2633779767086473 and AUC of 0.8215339233038349\n",
      "Testing max depth 5, learning rate 0.01 and n_est of 100, yielding log loss of 0.23838466156668675 and AUC of 0.8259587020648967\n",
      "Testing max depth 5, learning rate 0.001 and n_est of 200, yielding log loss of 0.3003884711336196 and AUC of 0.8252212389380531\n",
      "Testing max depth 5, learning rate 0.005 and n_est of 200, yielding log loss of 0.24007963158542991 and AUC of 0.8222713864306785\n",
      "Testing max depth 5, learning rate 0.01 and n_est of 200, yielding log loss of 0.23474057818965222 and AUC of 0.8200589970501475\n",
      "Testing max depth 5, learning rate 0.001 and n_est of 300, yielding log loss of 0.2857190380159913 and AUC of 0.8318584070796461\n",
      "Testing max depth 5, learning rate 0.005 and n_est of 300, yielding log loss of 0.2461027727247301 and AUC of 0.8126843657817109\n",
      "Testing max depth 5, learning rate 0.01 and n_est of 300, yielding log loss of 0.22430568212226623 and AUC of 0.8414454277286135\n",
      "Testing max depth 5, learning rate 0.001 and n_est of 500, yielding log loss of 0.26160980125107636 and AUC of 0.8296460176991151\n",
      "Testing max depth 5, learning rate 0.005 and n_est of 500, yielding log loss of 0.2405616604665653 and AUC of 0.8230088495575221\n",
      "Testing max depth 5, learning rate 0.01 and n_est of 500, yielding log loss of 0.2728784586008295 and AUC of 0.8148967551622419\n",
      "Testing max depth 5, learning rate 0.001 and n_est of 1000, yielding log loss of 0.2496049680218237 and AUC of 0.8134218289085545\n",
      "Testing max depth 5, learning rate 0.005 and n_est of 1000, yielding log loss of 0.2570862329016476 and AUC of 0.8281710914454278\n",
      "Testing max depth 5, learning rate 0.01 and n_est of 1000, yielding log loss of 0.36299459270558265 and AUC of 0.8082595870206489\n",
      "Testing max depth 5, learning rate 0.001 and n_est of 1500, yielding log loss of 0.23926204428322975 and AUC of 0.8178466076696165\n",
      "Testing max depth 5, learning rate 0.005 and n_est of 1500, yielding log loss of 0.3033867395524708 and AUC of 0.834070796460177\n",
      "Testing max depth 5, learning rate 0.01 and n_est of 1500, yielding log loss of 0.45372256532963834 and AUC of 0.8171091445427728\n",
      "Testing max depth 5, learning rate 0.001 and n_est of 2000, yielding log loss of 0.23529286080806694 and AUC of 0.8237463126843658\n",
      "Testing max depth 5, learning rate 0.005 and n_est of 2000, yielding log loss of 0.36140907318050264 and AUC of 0.8289085545722714\n",
      "Testing max depth 5, learning rate 0.01 and n_est of 2000, yielding log loss of 0.4525374885996519 and AUC of 0.8252212389380531\n",
      "Testing max depth 7, learning rate 0.001 and n_est of 100, yielding log loss of 0.32565286743063654 and AUC of 0.8030973451327433\n",
      "Testing max depth 7, learning rate 0.005 and n_est of 100, yielding log loss of 0.28419837569972034 and AUC of 0.7846607669616519\n",
      "Testing max depth 7, learning rate 0.01 and n_est of 100, yielding log loss of 0.24577232702777765 and AUC of 0.784660766961652\n",
      "Testing max depth 7, learning rate 0.001 and n_est of 200, yielding log loss of 0.3056521627983182 and AUC of 0.8067846607669615\n",
      "Testing max depth 7, learning rate 0.005 and n_est of 200, yielding log loss of 0.2536257888993044 and AUC of 0.8156342182890856\n",
      "Testing max depth 7, learning rate 0.01 and n_est of 200, yielding log loss of 0.23325052120924836 and AUC of 0.8259587020648967\n",
      "Testing max depth 7, learning rate 0.001 and n_est of 300, yielding log loss of 0.2858337988706184 and AUC of 0.8215339233038348\n",
      "Testing max depth 7, learning rate 0.005 and n_est of 300, yielding log loss of 0.2250310522742738 and AUC of 0.834070796460177\n",
      "Testing max depth 7, learning rate 0.01 and n_est of 300, yielding log loss of 0.2407223491520025 and AUC of 0.8030973451327433\n",
      "Testing max depth 7, learning rate 0.001 and n_est of 500, yielding log loss of 0.27163477986133194 and AUC of 0.808259587020649\n",
      "Testing max depth 7, learning rate 0.005 and n_est of 500, yielding log loss of 0.22984838817576975 and AUC of 0.8207964601769911\n",
      "Testing max depth 7, learning rate 0.01 and n_est of 500, yielding log loss of 0.26410041368008025 and AUC of 0.8355457227138643\n",
      "Testing max depth 7, learning rate 0.001 and n_est of 1000, yielding log loss of 0.24360434415823634 and AUC of 0.8207964601769911\n",
      "Testing max depth 7, learning rate 0.005 and n_est of 1000, yielding log loss of 0.25871647733899583 and AUC of 0.8303834808259588\n",
      "Testing max depth 7, learning rate 0.01 and n_est of 1000, yielding log loss of 0.38131922644646066 and AUC of 0.8259587020648967\n",
      "Testing max depth 7, learning rate 0.001 and n_est of 1500, yielding log loss of 0.23747213704259582 and AUC of 0.8259587020648967\n",
      "Testing max depth 7, learning rate 0.005 and n_est of 1500, yielding log loss of 0.3170138088117903 and AUC of 0.8311209439528024\n",
      "Testing max depth 7, learning rate 0.01 and n_est of 1500, yielding log loss of 0.5011381516365155 and AUC of 0.817109144542773\n",
      "Testing max depth 7, learning rate 0.001 and n_est of 2000, yielding log loss of 0.2323358654817645 and AUC of 0.8222713864306785\n",
      "Testing max depth 7, learning rate 0.005 and n_est of 2000, yielding log loss of 0.3701523972647119 and AUC of 0.8230088495575221\n",
      "Testing max depth 7, learning rate 0.01 and n_est of 2000, yielding log loss of 0.5041560147703235 and AUC of 0.8244837758112095\n",
      "Testing max depth 10, learning rate 0.001 and n_est of 100, yielding log loss of 0.32431446914774475 and AUC of 0.8193215339233039\n",
      "Testing max depth 10, learning rate 0.005 and n_est of 100, yielding log loss of 0.2672145496076872 and AUC of 0.84070796460177\n"
     ]
    },
    {
     "name": "stdout",
     "output_type": "stream",
     "text": [
      "Testing max depth 10, learning rate 0.01 and n_est of 100, yielding log loss of 0.23015712586521575 and AUC of 0.8244837758112095\n",
      "Testing max depth 10, learning rate 0.001 and n_est of 200, yielding log loss of 0.30703332145121487 and AUC of 0.7957227138643068\n",
      "Testing max depth 10, learning rate 0.005 and n_est of 200, yielding log loss of 0.2405114260480786 and AUC of 0.8274336283185841\n",
      "Testing max depth 10, learning rate 0.01 and n_est of 200, yielding log loss of 0.2344313563841961 and AUC of 0.8215339233038349\n",
      "Testing max depth 10, learning rate 0.001 and n_est of 300, yielding log loss of 0.28462176029220737 and AUC of 0.8171091445427728\n",
      "Testing max depth 10, learning rate 0.005 and n_est of 300, yielding log loss of 0.23604740845553057 and AUC of 0.8281710914454278\n",
      "Testing max depth 10, learning rate 0.01 and n_est of 300, yielding log loss of 0.2418333986145133 and AUC of 0.8348082595870205\n",
      "Testing max depth 10, learning rate 0.001 and n_est of 500, yielding log loss of 0.2644339703318917 and AUC of 0.8193215339233038\n",
      "Testing max depth 10, learning rate 0.005 and n_est of 500, yielding log loss of 0.2351056361629825 and AUC of 0.8207964601769911\n",
      "Testing max depth 10, learning rate 0.01 and n_est of 500, yielding log loss of 0.2686617623690285 and AUC of 0.8274336283185841\n",
      "Testing max depth 10, learning rate 0.001 and n_est of 1000, yielding log loss of 0.2464690354527157 and AUC of 0.8171091445427727\n",
      "Testing max depth 10, learning rate 0.005 and n_est of 1000, yielding log loss of 0.264314295473708 and AUC of 0.836283185840708\n",
      "Testing max depth 10, learning rate 0.01 and n_est of 1000, yielding log loss of 0.38100937908961807 and AUC of 0.8193215339233038\n",
      "Testing max depth 10, learning rate 0.001 and n_est of 1500, yielding log loss of 0.23418307903072322 and AUC of 0.8178466076696165\n",
      "Testing max depth 10, learning rate 0.005 and n_est of 1500, yielding log loss of 0.3222697513075846 and AUC of 0.8178466076696165\n",
      "Testing max depth 10, learning rate 0.01 and n_est of 1500, yielding log loss of 0.4686405050288696 and AUC of 0.8370206489675517\n",
      "Testing max depth 10, learning rate 0.001 and n_est of 2000, yielding log loss of 0.23273421063991534 and AUC of 0.8222713864306784\n",
      "Testing max depth 10, learning rate 0.005 and n_est of 2000, yielding log loss of 0.3821856463797575 and AUC of 0.8355457227138643\n",
      "Testing max depth 10, learning rate 0.01 and n_est of 2000, yielding log loss of 0.549703852924972 and AUC of 0.8215339233038348\n"
     ]
    }
   ],
   "source": [
    "#Grid Search\n",
    "\n",
    "max_depth = [1,2,3,4,5,7,10]\n",
    "n_est = [100, 200, 300,500, 1000,1500,2000]\n",
    "learning_rate = [0.001,0.005,0.010]\n",
    "\n",
    "for depth in max_depth:\n",
    "    for n in n_est:\n",
    "        for r in learning_rate:\n",
    "\n",
    "            model = GradientBoostingClassifier(learning_rate=r,\n",
    "                                       n_estimators=n, #bump this and learning rate to make more trees, trees(not exact) = n*learning rate\n",
    "                                       min_samples_leaf=4,\n",
    "                                       max_depth=depth,\n",
    "                                       subsample=0.5)\n",
    "            model.fit(X_train, y_train) #fitting model\n",
    "            probs = model.predict_proba(X_test)\n",
    "            ll = log_loss(y_test, probs)\n",
    "            auc = roc_auc_score(y_test.values, probs[:,1:])\n",
    "            print(\"Testing max depth {}, learning rate {} and n_est of {}, yielding log loss of {} and AUC of {}\".format(depth,r, n, ll, auc))"
   ]
  },
  {
   "cell_type": "code",
   "execution_count": 121,
   "metadata": {},
   "outputs": [
    {
     "name": "stdout",
     "output_type": "stream",
     "text": [
      "            0     1  actual\n",
      "2004-11 0.998 0.002   0.000\n",
      "2004-12 0.993 0.007   0.000\n",
      "2005-01 0.998 0.002   0.000\n",
      "2005-02 0.998 0.002   0.000\n",
      "2005-03 0.996 0.004   0.000\n",
      "2005-04 0.998 0.002   0.000\n",
      "2005-05 0.998 0.002   0.000\n",
      "2005-06 0.998 0.002   0.000\n",
      "2005-07 0.998 0.002   0.000\n",
      "2005-08 0.998 0.002   0.000\n",
      "2005-09 0.995 0.005   0.000\n",
      "2005-10 0.998 0.002   0.000\n",
      "2005-11 0.997 0.003   0.000\n",
      "2005-12 0.998 0.002   0.000\n",
      "2006-01 0.998 0.002   0.000\n",
      "2006-02 0.996 0.004   0.000\n",
      "2006-03 0.998 0.002   0.000\n",
      "2006-04 0.998 0.002   0.000\n",
      "2006-05 0.998 0.002   0.000\n",
      "2006-06 0.998 0.002   0.000\n",
      "2006-07 0.996 0.004   0.000\n",
      "2006-08 0.998 0.002   0.000\n",
      "2006-09 0.997 0.003   0.000\n",
      "2006-10 0.994 0.006   0.000\n",
      "2006-11 0.998 0.002   0.000\n",
      "2006-12 0.998 0.002   0.000\n",
      "2007-01 0.998 0.002   0.000\n",
      "2007-02 0.998 0.002   0.000\n",
      "2007-03 0.998 0.002   0.000\n",
      "2007-04 0.998 0.002   0.000\n",
      "2007-05 0.998 0.002   0.000\n",
      "2007-06 0.998 0.002   0.000\n",
      "2007-07 0.998 0.002   0.000\n",
      "2007-08 0.996 0.004   0.000\n",
      "2007-09 0.998 0.002   0.000\n",
      "2007-10 0.997 0.003   0.000\n",
      "2007-11 0.997 0.003   0.000\n",
      "2007-12 0.997 0.003   0.000\n",
      "2008-01 0.997 0.003   1.000\n",
      "2008-02 0.997 0.003   1.000\n",
      "2008-03 0.994 0.006   1.000\n",
      "2008-04 0.812 0.188   0.000\n",
      "2008-05 0.591 0.409   0.000\n",
      "2008-06 0.819 0.181   0.000\n",
      "2008-07 0.751 0.249   0.000\n",
      "2008-08 0.908 0.092   0.000\n",
      "2008-09 0.688 0.312   0.000\n",
      "2008-10 0.425 0.575   1.000\n",
      "2008-11 0.177 0.823   1.000\n",
      "2008-12 0.183 0.817   1.000\n",
      "2009-01 0.133 0.867   1.000\n",
      "2009-02 0.177 0.823   1.000\n",
      "2009-03 0.288 0.712   1.000\n",
      "2009-04 0.735 0.265   1.000\n",
      "2009-05 0.762 0.238   1.000\n",
      "2009-06 0.955 0.045   1.000\n",
      "2009-07 0.966 0.034   0.000\n",
      "2009-08 0.975 0.025   0.000\n",
      "2009-09 0.974 0.026   0.000\n",
      "2009-10 0.966 0.034   0.000\n",
      "2009-11 0.987 0.013   0.000\n",
      "2009-12 0.984 0.016   0.000\n",
      "2010-01 0.988 0.012   0.000\n",
      "2010-02 0.984 0.016   0.000\n",
      "2010-03 0.993 0.007   0.000\n",
      "2010-04 0.996 0.004   0.000\n",
      "2010-05 0.983 0.017   0.000\n",
      "2010-06 0.985 0.015   0.000\n",
      "2010-07 0.981 0.019   0.000\n",
      "2010-08 0.984 0.016   0.000\n",
      "2010-09 0.984 0.016   0.000\n",
      "2010-10 0.981 0.019   0.000\n",
      "2010-11 0.983 0.017   0.000\n",
      "2010-12 0.984 0.016   0.000\n",
      "2011-01 0.986 0.014   0.000\n",
      "2011-02 0.979 0.021   0.000\n",
      "2011-03 0.976 0.024   0.000\n",
      "2011-04 0.985 0.015   0.000\n",
      "2011-05 0.981 0.019   0.000\n",
      "2011-06 0.975 0.025   0.000\n",
      "2011-07 0.976 0.024   0.000\n",
      "2011-08 0.977 0.023   0.000\n",
      "2011-09 0.979 0.021   0.000\n",
      "2011-10 0.975 0.025   0.000\n",
      "2011-11 0.965 0.035   0.000\n",
      "2011-12 0.980 0.020   0.000\n",
      "2012-01 0.984 0.016   0.000\n",
      "2012-02 0.973 0.027   0.000\n",
      "2012-03 0.983 0.017   0.000\n",
      "2012-04 0.975 0.025   0.000\n",
      "2012-05 0.986 0.014   0.000\n",
      "2012-06 0.984 0.016   0.000\n",
      "2012-07 0.985 0.015   0.000\n",
      "2012-08 0.992 0.008   0.000\n",
      "2012-09 0.992 0.008   0.000\n",
      "2012-10 0.979 0.021   0.000\n",
      "2012-11 0.992 0.008   0.000\n",
      "2012-12 0.973 0.027   0.000\n",
      "2013-01 0.995 0.005   0.000\n",
      "2013-02 0.996 0.004   0.000\n",
      "2013-03 0.973 0.027   0.000\n",
      "2013-04 0.994 0.006   0.000\n",
      "2013-05 0.996 0.004   0.000\n",
      "2013-06 0.991 0.009   0.000\n",
      "2013-07 0.995 0.005   0.000\n",
      "2013-08 0.996 0.004   0.000\n",
      "2013-09 0.996 0.004   0.000\n",
      "2013-10 0.996 0.004   0.000\n",
      "2013-11 0.998 0.002   0.000\n",
      "2013-12 0.997 0.003   0.000\n",
      "2014-01 0.997 0.003   0.000\n",
      "2014-02 0.997 0.003   0.000\n",
      "2014-03 0.996 0.004   0.000\n",
      "2014-04 0.998 0.002   0.000\n",
      "2014-05 0.998 0.002   0.000\n",
      "2014-06 0.997 0.003   0.000\n",
      "2014-07 0.998 0.002   0.000\n",
      "2014-08 0.997 0.003   0.000\n",
      "2014-09 0.994 0.006   0.000\n",
      "2014-10 0.996 0.004   0.000\n",
      "2014-11 0.984 0.016   0.000\n",
      "2014-12 0.996 0.004   0.000\n",
      "2015-01 0.922 0.078   0.000\n",
      "2015-02 0.931 0.069   0.000\n",
      "2015-03 0.974 0.026   0.000\n"
     ]
    }
   ],
   "source": [
    "results = pd.DataFrame(probs)\n",
    "results['actual'] = y_test.values\n",
    "results.index = y_test.index\n",
    "pd.set_option('display.float_format', lambda x: '%.3f' % x)\n",
    "with pd.option_context('display.max_rows', None, 'display.max_columns', None):\n",
    "    print(results)"
   ]
  },
  {
   "cell_type": "code",
   "execution_count": 161,
   "metadata": {},
   "outputs": [
    {
     "data": {
      "text/plain": [
       "98"
      ]
     },
     "execution_count": 161,
     "metadata": {},
     "output_type": "execute_result"
    }
   ],
   "source": [
    "len(list(names))"
   ]
  },
  {
   "cell_type": "code",
   "execution_count": 170,
   "metadata": {},
   "outputs": [
    {
     "data": {
      "image/png": "[encoded data removed]",
      "text/plain": [
       "<Figure size 1440x1440 with 12 Axes>"
      ]
     },
     "metadata": {
      "needs_background": "light"
     },
     "output_type": "display_data"
    }
   ],
   "source": [
    "features = range(86,98)\n",
    "names = list(X_train.columns)\n",
    "\n",
    "fig, axs = plot_partial_dependence(model, X_train, features,\n",
    "                                       feature_names=names,\n",
    "                                       grid_resolution=100,\n",
    "                                       figsize =(20,20))\n",
    "\n",
    "plt.savefig('Partial_plots.png')"
   ]
  },
  {
   "cell_type": "code",
   "execution_count": null,
   "metadata": {},
   "outputs": [],
   "source": []
  }
 ],
 "metadata": {
  "kernelspec": {
   "display_name": "Python 3",
   "language": "python",
   "name": "python3"
  },
  "language_info": {
   "codemirror_mode": {
    "name": "ipython",
    "version": 3
   },
   "file_extension": ".py",
   "mimetype": "text/x-python",
   "name": "python",
   "nbconvert_exporter": "python",
   "pygments_lexer": "ipython3",
   "version": "3.6.8"
  }
 },
 "nbformat": 4,
 "nbformat_minor": 2
}
