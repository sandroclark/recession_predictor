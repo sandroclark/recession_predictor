{
 "cells": [
  {
   "cell_type": "code",
   "execution_count": 2,
   "metadata": {},
   "outputs": [],
   "source": [
    "#1.1 Initial datapoints. log loss 0.64\n",
    "#1.2 Momentum factors, CPI/PPI Calculations, modified timeframe. LL: 1yr - 10.64 3M - 1.64"
   ]
  },
  {
   "cell_type": "code",
   "execution_count": 25,
   "metadata": {},
   "outputs": [],
   "source": [
    "#Imports and API Key\n",
    "\n",
    "import pandas as pd\n",
    "import quandl\n",
    "from scipy import stats\n",
    "import scipy\n",
    "from sklearn.linear_model import LogisticRegression, LinearRegression\n",
    "from sklearn.model_selection import train_test_split\n",
    "from sklearn.metrics import log_loss\n",
    "import matplotlib.pyplot as plt\n",
    "from sklearn.metrics import roc_auc_score\n",
    "\n",
    "%aimport dataclean\n",
    "\n",
    "quandl.ApiConfig.api_key = 'm8FYMyoCaJSbTrBASNHh'"
   ]
  },
  {
   "cell_type": "code",
   "execution_count": 26,
   "metadata": {},
   "outputs": [],
   "source": [
    "#pulling data from Quandl\n",
    "\n",
    "data = pd.read_csv('data_for_pull.csv') #staging the QUANDL keys to pull in CSV\n",
    "cols = list(data['Var_name'].astype('str'))\n",
    "dataset = quandl.get([val for val in data['Quandl Key']]) #looping through the QUANDL keys to pull it into one DF\n",
    "dataset.columns = cols"
   ]
  },
  {
   "cell_type": "code",
   "execution_count": 27,
   "metadata": {},
   "outputs": [],
   "source": [
    "#pulling FED Yield Curve data\n",
    "\n",
    "yields = pd.read_csv('Fed10Y_3M.csv')\n",
    "yields['Date'] = pd.to_datetime(yields['Date'])\n",
    "yields['Date'] = yields['Date'].apply(lambda x: x.strftime('%Y-%m'))\n",
    "yields = yields.set_index('Date')\n",
    "yields = yields.drop(['3 Month Treasury Yield', 'Rec_prob', 'NBER_Rec','Unnamed: 7'], axis=1) "
   ]
  },
  {
   "cell_type": "code",
   "execution_count": 28,
   "metadata": {},
   "outputs": [],
   "source": [
    "## back to working on the general data\n",
    "dataset.index = dataset.index.strftime('%Y-%m') #converting the datetime index to Y/M so it is collapsable\n",
    "dataset = dataset.groupby(dataset.index, as_index=True).agg(sum) #collapsing by Y/M"
   ]
  },
  {
   "cell_type": "code",
   "execution_count": 29,
   "metadata": {},
   "outputs": [],
   "source": [
    "#converting GDP quarterly data into monthly\n",
    "\n",
    "dataset = dataclean.convert_q_to_m(dataset, 'GDP')\n",
    "\n",
    "#converting consumer sentiment into monthly\n",
    "\n",
    "dataset = dataclean.convert_q_to_m(dataset, 'CONS_SENT')"
   ]
  },
  {
   "cell_type": "code",
   "execution_count": 30,
   "metadata": {},
   "outputs": [],
   "source": [
    "#calculating change in GDP and converting Y into categorical values \n",
    "dataset['Recession'] = ((dataset['GDP'] - dataset['GDP'].shift(3)) < 0).astype(int)"
   ]
  },
  {
   "cell_type": "code",
   "execution_count": 31,
   "metadata": {},
   "outputs": [],
   "source": [
    "#merge fed interest rate data here\n",
    "dataset = dataset.join(yields, how='outer')"
   ]
  },
  {
   "cell_type": "code",
   "execution_count": 32,
   "metadata": {},
   "outputs": [],
   "source": [
    "#cutoff most of missing data, Post March 2019, Prior 1959. CPI/PPI missing 2016 onward so need to cut that off\n",
    "dataset = dataset.iloc[552:]\n",
    "dataset = dataset.iloc[:-59]"
   ]
  },
  {
   "cell_type": "code",
   "execution_count": 33,
   "metadata": {},
   "outputs": [],
   "source": [
    "y = dataset['Recession'] #splitting off Y"
   ]
  },
  {
   "cell_type": "code",
   "execution_count": 34,
   "metadata": {},
   "outputs": [],
   "source": [
    "y_shift = y.shift(3) #shifting y to forecast 3 months out"
   ]
  },
  {
   "cell_type": "code",
   "execution_count": 35,
   "metadata": {},
   "outputs": [],
   "source": [
    "y_shift = y_shift.fillna(0)"
   ]
  },
  {
   "cell_type": "code",
   "execution_count": 36,
   "metadata": {},
   "outputs": [],
   "source": [
    "dataset = dataset.drop(columns = ['GDP','Recession']) #dropping calc column and recession column from dataset, experimenting with taking out fed funds rate"
   ]
  },
  {
   "cell_type": "code",
   "execution_count": 37,
   "metadata": {},
   "outputs": [],
   "source": [
    "#substituting mean value in for missing values and adding dummy column to indicate where done\n",
    "\n",
    "for col in dataset.columns:\n",
    "    dataclean.clean_zeros(col, dataset)"
   ]
  },
  {
   "cell_type": "code",
   "execution_count": 38,
   "metadata": {},
   "outputs": [],
   "source": [
    "#adding momentum factors\n",
    "\n",
    "momentum_cols = list(dataset.columns[:-6])\n",
    "\n",
    "momentum_cols.remove('PPI') #removing PPI and CPI because they need a different transformation\n",
    "momentum_cols.remove('CPI')\n",
    "\n",
    "for i in [1,3,12]:\n",
    "    for col in momentum_cols:\n",
    "        dataclean.create_momentum(col,dataset,i)"
   ]
  },
  {
   "cell_type": "code",
   "execution_count": 39,
   "metadata": {},
   "outputs": [],
   "source": [
    "#CPI Calcs\n",
    "\n",
    "for i in [1,3,12]:\n",
    "    for col in ['CPI','PPI']:\n",
    "        dataclean.infl_momentum(col,dataset,i)"
   ]
  },
  {
   "cell_type": "code",
   "execution_count": 40,
   "metadata": {},
   "outputs": [],
   "source": [
    "X = dataset"
   ]
  },
  {
   "cell_type": "code",
   "execution_count": 41,
   "metadata": {},
   "outputs": [],
   "source": [
    "### Data Prep Finished Here ###"
   ]
  },
  {
   "cell_type": "code",
   "execution_count": 42,
   "metadata": {},
   "outputs": [],
   "source": [
    "X_train = X.iloc[12:550]\n",
    "X_test = X.iloc[550:]\n",
    "y_train = y_shift.iloc[12:550]\n",
    "y_test = y_shift.iloc[550:]"
   ]
  },
  {
   "cell_type": "code",
   "execution_count": 43,
   "metadata": {},
   "outputs": [
    {
     "data": {
      "text/plain": [
       "Index(['PMI', 'UNR', 'YUNR', 'CONS_SENT', 'HOME_SALES', 'PART_TIME',\n",
       "       'CPPR_PRICE', 'HOUS_PERMS', 'HOUS_STARTS', 'CAP_UTIL', 'PERS_SAVINGS',\n",
       "       'EXPORTS', 'IMPORTS', 'TRADE_BALANCE', 'INT_RATE', 'US_M2',\n",
       "       'US_NHOME_SALES', 'PPI', 'CPI', '3YRT', '10 Year Treasury Yield',\n",
       "       '3 Month Treasury Yield (Bond Equivalent Basis)', 'Spread',\n",
       "       'HOME_SALES_PXY', 'CPPR_PRICE_PXY', 'HOUS_PERMS_PXY', 'CAP_UTIL_PXY',\n",
       "       'US_NHOME_SALES_PXY', '3YRT_PXY', 'PMI_1m_shift', 'UNR_1m_shift',\n",
       "       'YUNR_1m_shift', 'CONS_SENT_1m_shift', 'HOME_SALES_1m_shift',\n",
       "       'PART_TIME_1m_shift', 'CPPR_PRICE_1m_shift', 'HOUS_PERMS_1m_shift',\n",
       "       'HOUS_STARTS_1m_shift', 'CAP_UTIL_1m_shift', 'PERS_SAVINGS_1m_shift',\n",
       "       'EXPORTS_1m_shift', 'IMPORTS_1m_shift', 'TRADE_BALANCE_1m_shift',\n",
       "       'INT_RATE_1m_shift', 'US_M2_1m_shift', 'US_NHOME_SALES_1m_shift',\n",
       "       '3YRT_1m_shift', '10 Year Treasury Yield_1m_shift',\n",
       "       '3 Month Treasury Yield (Bond Equivalent Basis)_1m_shift',\n",
       "       'Spread_1m_shift', 'PMI_3m_shift', 'UNR_3m_shift', 'YUNR_3m_shift',\n",
       "       'CONS_SENT_3m_shift', 'HOME_SALES_3m_shift', 'PART_TIME_3m_shift',\n",
       "       'CPPR_PRICE_3m_shift', 'HOUS_PERMS_3m_shift', 'HOUS_STARTS_3m_shift',\n",
       "       'CAP_UTIL_3m_shift', 'PERS_SAVINGS_3m_shift', 'EXPORTS_3m_shift',\n",
       "       'IMPORTS_3m_shift', 'TRADE_BALANCE_3m_shift', 'INT_RATE_3m_shift',\n",
       "       'US_M2_3m_shift', 'US_NHOME_SALES_3m_shift', '3YRT_3m_shift',\n",
       "       '10 Year Treasury Yield_3m_shift',\n",
       "       '3 Month Treasury Yield (Bond Equivalent Basis)_3m_shift',\n",
       "       'Spread_3m_shift', 'PMI_12m_shift', 'UNR_12m_shift', 'YUNR_12m_shift',\n",
       "       'CONS_SENT_12m_shift', 'HOME_SALES_12m_shift', 'PART_TIME_12m_shift',\n",
       "       'CPPR_PRICE_12m_shift', 'HOUS_PERMS_12m_shift', 'HOUS_STARTS_12m_shift',\n",
       "       'CAP_UTIL_12m_shift', 'PERS_SAVINGS_12m_shift', 'EXPORTS_12m_shift',\n",
       "       'IMPORTS_12m_shift', 'TRADE_BALANCE_12m_shift', 'INT_RATE_12m_shift',\n",
       "       'US_M2_12m_shift', 'US_NHOME_SALES_12m_shift', '3YRT_12m_shift',\n",
       "       '10 Year Treasury Yield_12m_shift',\n",
       "       '3 Month Treasury Yield (Bond Equivalent Basis)_12m_shift',\n",
       "       'Spread_12m_shift', 'CPI_1m_shift', 'PPI_1m_shift', 'CPI_3m_shift',\n",
       "       'PPI_3m_shift', 'CPI_12m_shift', 'PPI_12m_shift'],\n",
       "      dtype='object')"
      ]
     },
     "execution_count": 43,
     "metadata": {},
     "output_type": "execute_result"
    }
   ],
   "source": [
    "X_train.columns"
   ]
  },
  {
   "cell_type": "code",
   "execution_count": 44,
   "metadata": {},
   "outputs": [
    {
     "name": "stderr",
     "output_type": "stream",
     "text": [
      "/anaconda3/lib/python3.6/site-packages/sklearn/linear_model/logistic.py:433: FutureWarning: Default solver will be changed to 'lbfgs' in 0.22. Specify a solver to silence this warning.\n",
      "  FutureWarning)\n"
     ]
    },
    {
     "data": {
      "text/plain": [
       "LogisticRegression(C=1.0, class_weight=None, dual=False, fit_intercept=True,\n",
       "          intercept_scaling=1, max_iter=100, multi_class='warn',\n",
       "          n_jobs=None, penalty='l2', random_state=None, solver='warn',\n",
       "          tol=0.0001, verbose=0, warm_start=False)"
      ]
     },
     "execution_count": 44,
     "metadata": {},
     "output_type": "execute_result"
    }
   ],
   "source": [
    "model = LogisticRegression()\n",
    "model.fit(X_train, y_train) #fitting model"
   ]
  },
  {
   "cell_type": "code",
   "execution_count": 45,
   "metadata": {},
   "outputs": [],
   "source": [
    "probs = model.predict_proba(X_test)"
   ]
  },
  {
   "cell_type": "code",
   "execution_count": 46,
   "metadata": {},
   "outputs": [
    {
     "data": {
      "text/plain": [
       "1.6581475734545759"
      ]
     },
     "execution_count": 46,
     "metadata": {},
     "output_type": "execute_result"
    }
   ],
   "source": [
    "log_loss(y_test, probs)"
   ]
  },
  {
   "cell_type": "code",
   "execution_count": 61,
   "metadata": {},
   "outputs": [
    {
     "data": {
      "text/plain": [
       "0.7599557522123894"
      ]
     },
     "execution_count": 61,
     "metadata": {},
     "output_type": "execute_result"
    }
   ],
   "source": [
    "roc_auc_score(y_test.values, probs[:,1:])"
   ]
  },
  {
   "cell_type": "code",
   "execution_count": 48,
   "metadata": {},
   "outputs": [
    {
     "name": "stdout",
     "output_type": "stream",
     "text": [
      "            0     1  actual\n",
      "2004-11 1.000 0.000   0.000\n",
      "2004-12 1.000 0.000   0.000\n",
      "2005-01 1.000 0.000   0.000\n",
      "2005-02 1.000 0.000   0.000\n",
      "2005-03 1.000 0.000   0.000\n",
      "2005-04 1.000 0.000   0.000\n",
      "2005-05 1.000 0.000   0.000\n",
      "2005-06 1.000 0.000   0.000\n",
      "2005-07 1.000 0.000   0.000\n",
      "2005-08 1.000 0.000   0.000\n",
      "2005-09 1.000 0.000   0.000\n",
      "2005-10 1.000 0.000   0.000\n",
      "2005-11 1.000 0.000   0.000\n",
      "2005-12 1.000 0.000   0.000\n",
      "2006-01 1.000 0.000   0.000\n",
      "2006-02 1.000 0.000   0.000\n",
      "2006-03 1.000 0.000   0.000\n",
      "2006-04 1.000 0.000   0.000\n",
      "2006-05 1.000 0.000   0.000\n",
      "2006-06 1.000 0.000   0.000\n",
      "2006-07 1.000 0.000   0.000\n",
      "2006-08 1.000 0.000   0.000\n",
      "2006-09 1.000 0.000   0.000\n",
      "2006-10 1.000 0.000   0.000\n",
      "2006-11 1.000 0.000   0.000\n",
      "2006-12 1.000 0.000   0.000\n",
      "2007-01 1.000 0.000   0.000\n",
      "2007-02 1.000 0.000   0.000\n",
      "2007-03 1.000 0.000   0.000\n",
      "2007-04 1.000 0.000   0.000\n",
      "2007-05 1.000 0.000   0.000\n",
      "2007-06 1.000 0.000   0.000\n",
      "2007-07 1.000 0.000   0.000\n",
      "2007-08 1.000 0.000   0.000\n",
      "2007-09 1.000 0.000   0.000\n",
      "2007-10 1.000 0.000   0.000\n",
      "2007-11 1.000 0.000   0.000\n",
      "2007-12 1.000 0.000   0.000\n",
      "2008-01 1.000 0.000   0.000\n",
      "2008-02 1.000 0.000   0.000\n",
      "2008-03 1.000 0.000   0.000\n",
      "2008-04 1.000 0.000   1.000\n",
      "2008-05 1.000 0.000   1.000\n",
      "2008-06 1.000 0.000   1.000\n",
      "2008-07 1.000 0.000   0.000\n",
      "2008-08 1.000 0.000   0.000\n",
      "2008-09 1.000 0.000   0.000\n",
      "2008-10 1.000 0.000   0.000\n",
      "2008-11 0.000 1.000   0.000\n",
      "2008-12 0.000 1.000   0.000\n",
      "2009-01 0.000 1.000   1.000\n",
      "2009-02 0.000 1.000   1.000\n",
      "2009-03 0.000 1.000   1.000\n",
      "2009-04 0.000 1.000   1.000\n",
      "2009-05 0.000 1.000   1.000\n",
      "2009-06 0.000 1.000   1.000\n",
      "2009-07 0.000 1.000   1.000\n",
      "2009-08 0.000 1.000   1.000\n",
      "2009-09 0.000 1.000   1.000\n",
      "2009-10 0.000 1.000   0.000\n",
      "2009-11 1.000 0.000   0.000\n",
      "2009-12 1.000 0.000   0.000\n",
      "2010-01 1.000 0.000   0.000\n",
      "2010-02 1.000 0.000   0.000\n",
      "2010-03 1.000 0.000   0.000\n",
      "2010-04 1.000 0.000   0.000\n",
      "2010-05 1.000 0.000   0.000\n",
      "2010-06 1.000 0.000   0.000\n",
      "2010-07 1.000 0.000   0.000\n",
      "2010-08 1.000 0.000   0.000\n",
      "2010-09 1.000 0.000   0.000\n",
      "2010-10 1.000 0.000   0.000\n",
      "2010-11 1.000 0.000   0.000\n",
      "2010-12 1.000 0.000   0.000\n",
      "2011-01 1.000 0.000   0.000\n",
      "2011-02 1.000 0.000   0.000\n",
      "2011-03 1.000 0.000   0.000\n",
      "2011-04 1.000 0.000   0.000\n",
      "2011-05 1.000 0.000   0.000\n",
      "2011-06 1.000 0.000   0.000\n",
      "2011-07 1.000 0.000   0.000\n",
      "2011-08 1.000 0.000   0.000\n",
      "2011-09 1.000 0.000   0.000\n",
      "2011-10 1.000 0.000   0.000\n",
      "2011-11 1.000 0.000   0.000\n",
      "2011-12 1.000 0.000   0.000\n",
      "2012-01 1.000 0.000   0.000\n",
      "2012-02 1.000 0.000   0.000\n",
      "2012-03 1.000 0.000   0.000\n",
      "2012-04 1.000 0.000   0.000\n",
      "2012-05 1.000 0.000   0.000\n",
      "2012-06 1.000 0.000   0.000\n",
      "2012-07 1.000 0.000   0.000\n",
      "2012-08 1.000 0.000   0.000\n",
      "2012-09 1.000 0.000   0.000\n",
      "2012-10 1.000 0.000   0.000\n",
      "2012-11 1.000 0.000   0.000\n",
      "2012-12 1.000 0.000   0.000\n",
      "2013-01 1.000 0.000   0.000\n",
      "2013-02 1.000 0.000   0.000\n",
      "2013-03 1.000 0.000   0.000\n",
      "2013-04 1.000 0.000   0.000\n",
      "2013-05 1.000 0.000   0.000\n",
      "2013-06 1.000 0.000   0.000\n",
      "2013-07 1.000 0.000   0.000\n",
      "2013-08 1.000 0.000   0.000\n",
      "2013-09 1.000 0.000   0.000\n",
      "2013-10 1.000 0.000   0.000\n",
      "2013-11 1.000 0.000   0.000\n",
      "2013-12 1.000 0.000   0.000\n",
      "2014-01 1.000 0.000   0.000\n",
      "2014-02 1.000 0.000   0.000\n",
      "2014-03 1.000 0.000   0.000\n",
      "2014-04 1.000 0.000   0.000\n",
      "2014-05 1.000 0.000   0.000\n",
      "2014-06 1.000 0.000   0.000\n",
      "2014-07 1.000 0.000   0.000\n",
      "2014-08 1.000 0.000   0.000\n",
      "2014-09 1.000 0.000   0.000\n",
      "2014-10 1.000 0.000   0.000\n",
      "2014-11 1.000 0.000   0.000\n",
      "2014-12 1.000 0.000   0.000\n",
      "2015-01 1.000 0.000   0.000\n",
      "2015-02 0.997 0.003   0.000\n",
      "2015-03 0.967 0.033   0.000\n"
     ]
    }
   ],
   "source": [
    "results = pd.DataFrame(probs)\n",
    "results['actual'] = y_test.values\n",
    "results.index = y_test.index\n",
    "pd.set_option('display.float_format', lambda x: '%.3f' % x)\n",
    "with pd.option_context('display.max_rows', None, 'display.max_columns', None):\n",
    "    print(results)"
   ]
  },
  {
   "cell_type": "code",
   "execution_count": null,
   "metadata": {},
   "outputs": [],
   "source": []
  },
  {
   "cell_type": "code",
   "execution_count": null,
   "metadata": {},
   "outputs": [],
   "source": []
  },
  {
   "cell_type": "code",
   "execution_count": null,
   "metadata": {},
   "outputs": [],
   "source": []
  }
 ],
 "metadata": {
  "kernelspec": {
   "display_name": "Python 3",
   "language": "python",
   "name": "python3"
  },
  "language_info": {
   "codemirror_mode": {
    "name": "ipython",
    "version": 3
   },
   "file_extension": ".py",
   "mimetype": "text/x-python",
   "name": "python",
   "nbconvert_exporter": "python",
   "pygments_lexer": "ipython3",
   "version": "3.6.8"
  }
 },
 "nbformat": 4,
 "nbformat_minor": 2
}
