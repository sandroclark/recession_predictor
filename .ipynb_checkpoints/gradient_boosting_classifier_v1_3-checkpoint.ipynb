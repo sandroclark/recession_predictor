{
 "cells": [
  {
   "cell_type": "code",
   "execution_count": 55,
   "metadata": {},
   "outputs": [],
   "source": [
    "#Imports and API Key\n",
    "\n",
    "import pandas as pd\n",
    "import quandl\n",
    "from scipy import stats\n",
    "import scipy\n",
    "from sklearn.linear_model import LogisticRegression, LinearRegression\n",
    "from sklearn.model_selection import train_test_split\n",
    "from sklearn.metrics import log_loss\n",
    "import matplotlib.pyplot as plt\n",
    "\n",
    "from sklearn.ensemble import GradientBoostingClassifier\n",
    "\n",
    "from sklearn.metrics import roc_auc_score\n",
    "\n",
    "from sklearn.ensemble.partial_dependence import plot_partial_dependence\n",
    "from sklearn.ensemble.partial_dependence import partial_dependence\n",
    "\n",
    "%aimport dataclean\n",
    "\n",
    "quandl.ApiConfig.api_key = 'm8FYMyoCaJSbTrBASNHh'"
   ]
  },
  {
   "cell_type": "code",
   "execution_count": 4,
   "metadata": {},
   "outputs": [],
   "source": [
    "#pulling data from Quandl\n",
    "\n",
    "data = pd.read_csv('data_for_pull.csv') #staging the QUANDL keys to pull in CSV\n",
    "cols = list(data['Var_name'].astype('str'))\n",
    "dataset = quandl.get([val for val in data['Quandl Key']]) #looping through the QUANDL keys to pull it into one DF\n",
    "dataset.columns = cols"
   ]
  },
  {
   "cell_type": "code",
   "execution_count": 5,
   "metadata": {},
   "outputs": [],
   "source": [
    "#pulling FED Yield Curve data\n",
    "\n",
    "yields = pd.read_csv('Fed10Y_3M.csv')\n",
    "yields['Date'] = pd.to_datetime(yields['Date'])\n",
    "yields['Date'] = yields['Date'].apply(lambda x: x.strftime('%Y-%m'))\n",
    "yields = yields.set_index('Date')\n",
    "yields = yields.drop(['3 Month Treasury Yield', 'Rec_prob', 'NBER_Rec','Unnamed: 7'], axis=1) "
   ]
  },
  {
   "cell_type": "code",
   "execution_count": 6,
   "metadata": {},
   "outputs": [],
   "source": [
    "## back to working on the general data\n",
    "dataset.index = dataset.index.strftime('%Y-%m') #converting the datetime index to Y/M so it is collapsable\n",
    "dataset = dataset.groupby(dataset.index, as_index=True).agg(sum) #collapsing by Y/M"
   ]
  },
  {
   "cell_type": "code",
   "execution_count": 7,
   "metadata": {},
   "outputs": [],
   "source": [
    "#converting GDP quarterly data into monthly\n",
    "\n",
    "dataset = dataclean.convert_q_to_m(dataset, 'GDP')\n",
    "\n",
    "#converting consumer sentiment into monthly\n",
    "\n",
    "dataset = dataclean.convert_q_to_m(dataset, 'CONS_SENT')"
   ]
  },
  {
   "cell_type": "code",
   "execution_count": 8,
   "metadata": {},
   "outputs": [],
   "source": [
    "#calculating change in GDP and converting Y into categorical values \n",
    "dataset['Recession'] = ((dataset['GDP'] - dataset['GDP'].shift(3)) < 0).astype(int)"
   ]
  },
  {
   "cell_type": "code",
   "execution_count": 9,
   "metadata": {},
   "outputs": [],
   "source": [
    "#merge fed interest rate data here\n",
    "dataset = dataset.join(yields, how='outer')"
   ]
  },
  {
   "cell_type": "code",
   "execution_count": 10,
   "metadata": {},
   "outputs": [],
   "source": [
    "#cutoff most of missing data, Post March 2019, Prior 1959. CPI/PPI missing 2016 onward so need to cut that off\n",
    "dataset = dataset.iloc[552:]\n",
    "dataset = dataset.iloc[:-59]"
   ]
  },
  {
   "cell_type": "code",
   "execution_count": 11,
   "metadata": {},
   "outputs": [],
   "source": [
    "y = dataset['Recession'] #splitting off Y"
   ]
  },
  {
   "cell_type": "code",
   "execution_count": 47,
   "metadata": {},
   "outputs": [],
   "source": [
    "y_shift = y.shift(0) #shifting y to forecast 3 months out. Shifting out should be negative"
   ]
  },
  {
   "cell_type": "code",
   "execution_count": 48,
   "metadata": {},
   "outputs": [],
   "source": [
    "y_shift = y_shift.fillna(0)"
   ]
  },
  {
   "cell_type": "code",
   "execution_count": 14,
   "metadata": {},
   "outputs": [],
   "source": [
    "dataset = dataset.drop(columns = ['GDP','Recession']) #dropping calc column and recession column from dataset, experimenting with taking out fed funds rate"
   ]
  },
  {
   "cell_type": "code",
   "execution_count": 15,
   "metadata": {},
   "outputs": [],
   "source": [
    "#substituting mean value in for missing values and adding dummy column to indicate where done\n",
    "\n",
    "for col in dataset.columns:\n",
    "    dataclean.clean_zeros(col, dataset)"
   ]
  },
  {
   "cell_type": "code",
   "execution_count": 16,
   "metadata": {},
   "outputs": [],
   "source": [
    "#adding momentum factors\n",
    "\n",
    "momentum_cols = list(dataset.columns[:-6])\n",
    "\n",
    "momentum_cols.remove('PPI') #removing PPI and CPI because they need a different transformation\n",
    "momentum_cols.remove('CPI')\n",
    "\n",
    "for i in [1,3,12]:\n",
    "    for col in momentum_cols:\n",
    "        dataclean.create_momentum(col,dataset,i)"
   ]
  },
  {
   "cell_type": "code",
   "execution_count": 17,
   "metadata": {},
   "outputs": [],
   "source": [
    "#CPI Calcs\n",
    "\n",
    "for i in [1,3,12]:\n",
    "    for col in ['CPI','PPI']:\n",
    "        dataclean.infl_momentum(col,dataset,i)"
   ]
  },
  {
   "cell_type": "code",
   "execution_count": 30,
   "metadata": {},
   "outputs": [],
   "source": [
    "X = dataset"
   ]
  },
  {
   "cell_type": "code",
   "execution_count": 31,
   "metadata": {},
   "outputs": [],
   "source": [
    "### Data Prep Finished Here ###"
   ]
  },
  {
   "cell_type": "code",
   "execution_count": 49,
   "metadata": {},
   "outputs": [],
   "source": [
    "X_train = X.iloc[12:550]\n",
    "X_test = X.iloc[550:]\n",
    "y_train = y_shift.iloc[12:550]\n",
    "y_test = y_shift.iloc[550:]"
   ]
  },
  {
   "cell_type": "code",
   "execution_count": 50,
   "metadata": {},
   "outputs": [
    {
     "data": {
      "text/plain": [
       "GradientBoostingClassifier(criterion='friedman_mse', init=None,\n",
       "              learning_rate=0.005, loss='deviance', max_depth=2,\n",
       "              max_features=None, max_leaf_nodes=None,\n",
       "              min_impurity_decrease=0.0, min_impurity_split=None,\n",
       "              min_samples_leaf=5, min_samples_split=2,\n",
       "              min_weight_fraction_leaf=0.0, n_estimators=500,\n",
       "              n_iter_no_change=None, presort='auto', random_state=None,\n",
       "              subsample=0.5, tol=0.0001, validation_fraction=0.1,\n",
       "              verbose=0, warm_start=False)"
      ]
     },
     "execution_count": 50,
     "metadata": {},
     "output_type": "execute_result"
    }
   ],
   "source": [
    "model = GradientBoostingClassifier(learning_rate=0.005,\n",
    "                                   n_estimators=500,\n",
    "                                   min_samples_leaf=5,\n",
    "                                   max_depth=2,\n",
    "                                   subsample=0.5)\n",
    "model.fit(X_train, y_train)"
   ]
  },
  {
   "cell_type": "code",
   "execution_count": 51,
   "metadata": {},
   "outputs": [],
   "source": [
    "probs = model.predict_proba(X_test)"
   ]
  },
  {
   "cell_type": "code",
   "execution_count": 52,
   "metadata": {},
   "outputs": [
    {
     "data": {
      "text/plain": [
       "0.20207797890809642"
      ]
     },
     "execution_count": 52,
     "metadata": {},
     "output_type": "execute_result"
    }
   ],
   "source": [
    "log_loss(y_test, probs)"
   ]
  },
  {
   "cell_type": "code",
   "execution_count": 53,
   "metadata": {},
   "outputs": [
    {
     "data": {
      "text/plain": [
       "0.8407079646017699"
      ]
     },
     "execution_count": 53,
     "metadata": {},
     "output_type": "execute_result"
    }
   ],
   "source": [
    "roc_auc_score(y_test.values, probs[:,1:])"
   ]
  },
  {
   "cell_type": "code",
   "execution_count": 54,
   "metadata": {},
   "outputs": [
    {
     "name": "stdout",
     "output_type": "stream",
     "text": [
      "            0     1  actual\n",
      "2004-11 0.996 0.004   0.000\n",
      "2004-12 0.991 0.009   0.000\n",
      "2005-01 0.996 0.004   0.000\n",
      "2005-02 0.996 0.004   0.000\n",
      "2005-03 0.992 0.008   0.000\n",
      "2005-04 0.996 0.004   0.000\n",
      "2005-05 0.996 0.004   0.000\n",
      "2005-06 0.995 0.005   0.000\n",
      "2005-07 0.995 0.005   0.000\n",
      "2005-08 0.995 0.005   0.000\n",
      "2005-09 0.992 0.008   0.000\n",
      "2005-10 0.994 0.006   0.000\n",
      "2005-11 0.995 0.005   0.000\n",
      "2005-12 0.995 0.005   0.000\n",
      "2006-01 0.996 0.004   0.000\n",
      "2006-02 0.991 0.009   0.000\n",
      "2006-03 0.996 0.004   0.000\n",
      "2006-04 0.996 0.004   0.000\n",
      "2006-05 0.995 0.005   0.000\n",
      "2006-06 0.995 0.005   0.000\n",
      "2006-07 0.993 0.007   0.000\n",
      "2006-08 0.995 0.005   0.000\n",
      "2006-09 0.994 0.006   0.000\n",
      "2006-10 0.987 0.013   0.000\n",
      "2006-11 0.993 0.007   0.000\n",
      "2006-12 0.995 0.005   0.000\n",
      "2007-01 0.994 0.006   0.000\n",
      "2007-02 0.994 0.006   0.000\n",
      "2007-03 0.995 0.005   0.000\n",
      "2007-04 0.995 0.005   0.000\n",
      "2007-05 0.995 0.005   0.000\n",
      "2007-06 0.994 0.006   0.000\n",
      "2007-07 0.994 0.006   0.000\n",
      "2007-08 0.991 0.009   0.000\n",
      "2007-09 0.995 0.005   0.000\n",
      "2007-10 0.994 0.006   0.000\n",
      "2007-11 0.994 0.006   0.000\n",
      "2007-12 0.992 0.008   0.000\n",
      "2008-01 0.993 0.007   1.000\n",
      "2008-02 0.993 0.007   1.000\n",
      "2008-03 0.985 0.015   1.000\n",
      "2008-04 0.919 0.081   0.000\n",
      "2008-05 0.822 0.178   0.000\n",
      "2008-06 0.922 0.078   0.000\n",
      "2008-07 0.813 0.187   0.000\n",
      "2008-08 0.884 0.116   0.000\n",
      "2008-09 0.741 0.259   0.000\n",
      "2008-10 0.563 0.437   1.000\n",
      "2008-11 0.476 0.524   1.000\n",
      "2008-12 0.433 0.567   1.000\n",
      "2009-01 0.301 0.699   1.000\n",
      "2009-02 0.430 0.570   1.000\n",
      "2009-03 0.423 0.577   1.000\n",
      "2009-04 0.669 0.331   1.000\n",
      "2009-05 0.658 0.342   1.000\n",
      "2009-06 0.903 0.097   1.000\n",
      "2009-07 0.937 0.063   0.000\n",
      "2009-08 0.953 0.047   0.000\n",
      "2009-09 0.956 0.044   0.000\n",
      "2009-10 0.940 0.060   0.000\n",
      "2009-11 0.973 0.027   0.000\n",
      "2009-12 0.975 0.025   0.000\n",
      "2010-01 0.977 0.023   0.000\n",
      "2010-02 0.973 0.027   0.000\n",
      "2010-03 0.984 0.016   0.000\n",
      "2010-04 0.988 0.012   0.000\n",
      "2010-05 0.973 0.027   0.000\n",
      "2010-06 0.975 0.025   0.000\n",
      "2010-07 0.968 0.032   0.000\n",
      "2010-08 0.976 0.024   0.000\n",
      "2010-09 0.973 0.027   0.000\n",
      "2010-10 0.972 0.028   0.000\n",
      "2010-11 0.970 0.030   0.000\n",
      "2010-12 0.975 0.025   0.000\n",
      "2011-01 0.976 0.024   0.000\n",
      "2011-02 0.964 0.036   0.000\n",
      "2011-03 0.964 0.036   0.000\n",
      "2011-04 0.970 0.030   0.000\n",
      "2011-05 0.967 0.033   0.000\n",
      "2011-06 0.964 0.036   0.000\n",
      "2011-07 0.971 0.029   0.000\n",
      "2011-08 0.966 0.034   0.000\n",
      "2011-09 0.966 0.034   0.000\n",
      "2011-10 0.956 0.044   0.000\n",
      "2011-11 0.957 0.043   0.000\n",
      "2011-12 0.962 0.038   0.000\n",
      "2012-01 0.969 0.031   0.000\n",
      "2012-02 0.963 0.037   0.000\n",
      "2012-03 0.974 0.026   0.000\n",
      "2012-04 0.957 0.043   0.000\n",
      "2012-05 0.975 0.025   0.000\n",
      "2012-06 0.961 0.039   0.000\n",
      "2012-07 0.964 0.036   0.000\n",
      "2012-08 0.975 0.025   0.000\n",
      "2012-09 0.983 0.017   0.000\n",
      "2012-10 0.956 0.044   0.000\n",
      "2012-11 0.984 0.016   0.000\n",
      "2012-12 0.961 0.039   0.000\n",
      "2013-01 0.986 0.014   0.000\n",
      "2013-02 0.988 0.012   0.000\n",
      "2013-03 0.951 0.049   0.000\n",
      "2013-04 0.986 0.014   0.000\n",
      "2013-05 0.986 0.014   0.000\n",
      "2013-06 0.981 0.019   0.000\n",
      "2013-07 0.988 0.012   0.000\n",
      "2013-08 0.988 0.012   0.000\n",
      "2013-09 0.991 0.009   0.000\n",
      "2013-10 0.990 0.010   0.000\n",
      "2013-11 0.994 0.006   0.000\n",
      "2013-12 0.992 0.008   0.000\n",
      "2014-01 0.990 0.010   0.000\n",
      "2014-02 0.987 0.013   0.000\n",
      "2014-03 0.988 0.012   0.000\n",
      "2014-04 0.995 0.005   0.000\n",
      "2014-05 0.994 0.006   0.000\n",
      "2014-06 0.989 0.011   0.000\n",
      "2014-07 0.995 0.005   0.000\n",
      "2014-08 0.993 0.007   0.000\n",
      "2014-09 0.990 0.010   0.000\n",
      "2014-10 0.993 0.007   0.000\n",
      "2014-11 0.972 0.028   0.000\n",
      "2014-12 0.992 0.008   0.000\n",
      "2015-01 0.928 0.072   0.000\n",
      "2015-02 0.901 0.099   0.000\n",
      "2015-03 0.962 0.038   0.000\n"
     ]
    }
   ],
   "source": [
    "results = pd.DataFrame(probs)\n",
    "results['actual'] = y_test.values\n",
    "results.index = y_test.index\n",
    "pd.set_option('display.float_format', lambda x: '%.3f' % x)\n",
    "with pd.option_context('display.max_rows', None, 'display.max_columns', None):\n",
    "    print(results)"
   ]
  },
  {
   "cell_type": "code",
   "execution_count": 59,
   "metadata": {},
   "outputs": [
    {
     "data": {
      "text/plain": [
       "['PMI',\n",
       " 'UNR',\n",
       " 'YUNR',\n",
       " 'CONS_SENT',\n",
       " 'HOME_SALES',\n",
       " 'PART_TIME',\n",
       " 'CPPR_PRICE',\n",
       " 'HOUS_PERMS',\n",
       " 'HOUS_STARTS',\n",
       " 'CAP_UTIL',\n",
       " 'PERS_SAVINGS',\n",
       " 'EXPORTS',\n",
       " 'IMPORTS',\n",
       " 'TRADE_BALANCE',\n",
       " 'INT_RATE',\n",
       " 'US_M2',\n",
       " 'US_NHOME_SALES',\n",
       " 'PPI',\n",
       " 'CPI',\n",
       " '3YRT',\n",
       " '10 Year Treasury Yield',\n",
       " '3 Month Treasury Yield (Bond Equivalent Basis)',\n",
       " 'Spread',\n",
       " 'HOME_SALES_PXY',\n",
       " 'CPPR_PRICE_PXY',\n",
       " 'HOUS_PERMS_PXY',\n",
       " 'CAP_UTIL_PXY',\n",
       " 'US_NHOME_SALES_PXY',\n",
       " '3YRT_PXY',\n",
       " 'PMI_1m_shift',\n",
       " 'UNR_1m_shift',\n",
       " 'YUNR_1m_shift',\n",
       " 'CONS_SENT_1m_shift',\n",
       " 'HOME_SALES_1m_shift',\n",
       " 'PART_TIME_1m_shift',\n",
       " 'CPPR_PRICE_1m_shift',\n",
       " 'HOUS_PERMS_1m_shift',\n",
       " 'HOUS_STARTS_1m_shift',\n",
       " 'CAP_UTIL_1m_shift',\n",
       " 'PERS_SAVINGS_1m_shift',\n",
       " 'EXPORTS_1m_shift',\n",
       " 'IMPORTS_1m_shift',\n",
       " 'TRADE_BALANCE_1m_shift',\n",
       " 'INT_RATE_1m_shift',\n",
       " 'US_M2_1m_shift',\n",
       " 'US_NHOME_SALES_1m_shift',\n",
       " '3YRT_1m_shift',\n",
       " '10 Year Treasury Yield_1m_shift',\n",
       " '3 Month Treasury Yield (Bond Equivalent Basis)_1m_shift',\n",
       " 'Spread_1m_shift',\n",
       " 'PMI_3m_shift',\n",
       " 'UNR_3m_shift',\n",
       " 'YUNR_3m_shift',\n",
       " 'CONS_SENT_3m_shift',\n",
       " 'HOME_SALES_3m_shift',\n",
       " 'PART_TIME_3m_shift',\n",
       " 'CPPR_PRICE_3m_shift',\n",
       " 'HOUS_PERMS_3m_shift',\n",
       " 'HOUS_STARTS_3m_shift',\n",
       " 'CAP_UTIL_3m_shift',\n",
       " 'PERS_SAVINGS_3m_shift',\n",
       " 'EXPORTS_3m_shift',\n",
       " 'IMPORTS_3m_shift',\n",
       " 'TRADE_BALANCE_3m_shift',\n",
       " 'INT_RATE_3m_shift',\n",
       " 'US_M2_3m_shift',\n",
       " 'US_NHOME_SALES_3m_shift',\n",
       " '3YRT_3m_shift',\n",
       " '10 Year Treasury Yield_3m_shift',\n",
       " '3 Month Treasury Yield (Bond Equivalent Basis)_3m_shift',\n",
       " 'Spread_3m_shift',\n",
       " 'PMI_12m_shift',\n",
       " 'UNR_12m_shift',\n",
       " 'YUNR_12m_shift',\n",
       " 'CONS_SENT_12m_shift',\n",
       " 'HOME_SALES_12m_shift',\n",
       " 'PART_TIME_12m_shift',\n",
       " 'CPPR_PRICE_12m_shift',\n",
       " 'HOUS_PERMS_12m_shift',\n",
       " 'HOUS_STARTS_12m_shift',\n",
       " 'CAP_UTIL_12m_shift',\n",
       " 'PERS_SAVINGS_12m_shift',\n",
       " 'EXPORTS_12m_shift',\n",
       " 'IMPORTS_12m_shift',\n",
       " 'TRADE_BALANCE_12m_shift',\n",
       " 'INT_RATE_12m_shift',\n",
       " 'US_M2_12m_shift',\n",
       " 'US_NHOME_SALES_12m_shift',\n",
       " '3YRT_12m_shift',\n",
       " '10 Year Treasury Yield_12m_shift',\n",
       " '3 Month Treasury Yield (Bond Equivalent Basis)_12m_shift',\n",
       " 'Spread_12m_shift',\n",
       " 'CPI_1m_shift',\n",
       " 'PPI_1m_shift',\n",
       " 'CPI_3m_shift',\n",
       " 'PPI_3m_shift',\n",
       " 'CPI_12m_shift',\n",
       " 'PPI_12m_shift']"
      ]
     },
     "execution_count": 59,
     "metadata": {},
     "output_type": "execute_result"
    }
   ],
   "source": [
    "list(names)"
   ]
  },
  {
   "cell_type": "code",
   "execution_count": 73,
   "metadata": {},
   "outputs": [
    {
     "data": {
      "image/png": "[encoded data removed]",
      "text/plain": [
       "<Figure size 1440x1440 with 12 Axes>"
      ]
     },
     "metadata": {
      "needs_background": "light"
     },
     "output_type": "display_data"
    }
   ],
   "source": [
    "features = range(36,48)\n",
    "names = list(X_train.columns)\n",
    "\n",
    "fig, axs = plot_partial_dependence(model, X_train, features,\n",
    "                                       feature_names=names,\n",
    "                                       grid_resolution=20,\n",
    "                                       figsize =(20,20))\n",
    "\n",
    "plt.savefig('Partial_plots.png')"
   ]
  },
  {
   "cell_type": "code",
   "execution_count": null,
   "metadata": {},
   "outputs": [],
   "source": []
  }
 ],
 "metadata": {
  "kernelspec": {
   "display_name": "Python 3",
   "language": "python",
   "name": "python3"
  },
  "language_info": {
   "codemirror_mode": {
    "name": "ipython",
    "version": 3
   },
   "file_extension": ".py",
   "mimetype": "text/x-python",
   "name": "python",
   "nbconvert_exporter": "python",
   "pygments_lexer": "ipython3",
   "version": "3.6.8"
  }
 },
 "nbformat": 4,
 "nbformat_minor": 2
}
