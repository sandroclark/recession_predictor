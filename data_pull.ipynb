{
 "cells": [
  {
   "cell_type": "code",
   "execution_count": 16,
   "metadata": {},
   "outputs": [],
   "source": [
    "#Imports and API Key\n",
    "\n",
    "import pandas as pd\n",
    "import quandl\n",
    "from scipy import stats\n",
    "import scipy\n",
    "from sklearn.linear_model import LogisticRegression, LinearRegression\n",
    "from sklearn.model_selection import train_test_split\n",
    "from sklearn.metrics import log_loss\n",
    "import matplotlib.pyplot as plt\n",
    "\n",
    "%aimport dataclean\n",
    "\n",
    "quandl.ApiConfig.api_key = 'm8FYMyoCaJSbTrBASNHh'"
   ]
  },
  {
   "cell_type": "code",
   "execution_count": 17,
   "metadata": {},
   "outputs": [],
   "source": [
    "#pulling data from Quandl\n",
    "\n",
    "data = pd.read_csv('data_for_pull.csv') #staging the QUANDL keys to pull in CSV\n",
    "cols = list(data['Var_name'].astype('str'))\n",
    "dataset = quandl.get([val for val in data['Quandl Key']]) #looping through the QUANDL keys to pull it into one DF\n",
    "dataset.columns = cols"
   ]
  },
  {
   "cell_type": "code",
   "execution_count": 18,
   "metadata": {},
   "outputs": [],
   "source": [
    "#pulling FED Yield Curve data\n",
    "\n",
    "yields = pd.read_csv('Fed10Y_3M.csv')\n",
    "yields['Date'] = pd.to_datetime(yields['Date'])\n",
    "yields['Date'] = yields['Date'].apply(lambda x: x.strftime('%Y-%m'))\n",
    "yields = yields.set_index('Date')\n",
    "yields = yields.drop(['3 Month Treasury Yield', 'Rec_prob', 'NBER_Rec','Unnamed: 7'], axis=1) "
   ]
  },
  {
   "cell_type": "code",
   "execution_count": 19,
   "metadata": {},
   "outputs": [],
   "source": [
    "## back to working on the general data\n",
    "dataset.index = dataset.index.strftime('%Y-%m') #converting the datetime index to Y/M so it is collapsable\n",
    "dataset = dataset.groupby(dataset.index, as_index=True).agg(sum) #collapsing by Y/M"
   ]
  },
  {
   "cell_type": "code",
   "execution_count": 20,
   "metadata": {},
   "outputs": [],
   "source": [
    "#converting GDP quarterly data into monthly\n",
    "\n",
    "dataset = dataclean.convert_q_to_m(dataset, 'GDP')\n",
    "\n",
    "#converting consumer sentiment into monthly\n",
    "\n",
    "dataset = dataclean.convert_q_to_m(dataset, 'CONS_SENT')"
   ]
  },
  {
   "cell_type": "code",
   "execution_count": 21,
   "metadata": {},
   "outputs": [],
   "source": [
    "#calculating change in GDP and converting Y into categorical values \n",
    "dataset['Recession'] = ((dataset['GDP'] - dataset['GDP'].shift(3)) < 0).astype(int)"
   ]
  },
  {
   "cell_type": "code",
   "execution_count": 22,
   "metadata": {},
   "outputs": [],
   "source": [
    "#merge fed interest rate data here\n",
    "dataset = dataset.join(yields, how='outer')"
   ]
  },
  {
   "cell_type": "code",
   "execution_count": 23,
   "metadata": {},
   "outputs": [],
   "source": [
    "#cutoff most of missing data, Post March 2019, Prior 1959. CPI/PPI missing 2016 onward so need to cut that off\n",
    "dataset = dataset.iloc[552:]\n",
    "dataset = dataset.iloc[:-59]"
   ]
  },
  {
   "cell_type": "code",
   "execution_count": 24,
   "metadata": {},
   "outputs": [],
   "source": [
    "y = dataset['Recession'] #splitting off Y"
   ]
  },
  {
   "cell_type": "code",
   "execution_count": 25,
   "metadata": {},
   "outputs": [],
   "source": [
    "y_shift = y.shift(-3) #shifting y to forecast 3 months out"
   ]
  },
  {
   "cell_type": "code",
   "execution_count": 26,
   "metadata": {},
   "outputs": [],
   "source": [
    "y_shift = y_shift.fillna(0)"
   ]
  },
  {
   "cell_type": "code",
   "execution_count": 27,
   "metadata": {},
   "outputs": [],
   "source": [
    "dataset = dataset.drop(columns = ['GDP','Recession']) #dropping calc column and recession column from dataset, experimenting with taking out fed funds rate"
   ]
  },
  {
   "cell_type": "code",
   "execution_count": 28,
   "metadata": {},
   "outputs": [],
   "source": [
    "#substituting mean value in for missing values and adding dummy column to indicate where done\n",
    "\n",
    "for col in dataset.columns:\n",
    "    dataclean.clean_zeros(col, dataset)"
   ]
  },
  {
   "cell_type": "code",
   "execution_count": 37,
   "metadata": {},
   "outputs": [],
   "source": [
    "#adding momentum factors\n",
    "\n",
    "momentum_cols = list(dataset.columns[:-6])\n",
    "\n",
    "momentum_cols.remove('PPI') #removing PPI and CPI because they need a different transformation\n",
    "momentum_cols.remove('CPI')\n",
    "\n",
    "for i in [1,3,12]:\n",
    "    for col in momentum_cols:\n",
    "        dataclean.create_momentum(col,dataset,i)"
   ]
  },
  {
   "cell_type": "code",
   "execution_count": 38,
   "metadata": {},
   "outputs": [],
   "source": [
    "#CPI Calcs\n",
    "\n",
    "for i in [1,3,12]:\n",
    "    for col in ['CPI','PPI']:\n",
    "        dataclean.infl_momentum(col,dataset,i)"
   ]
  },
  {
   "cell_type": "code",
   "execution_count": null,
   "metadata": {},
   "outputs": [],
   "source": [
    "### Data Prep Finished Here ###"
   ]
  },
  {
   "cell_type": "code",
   "execution_count": 40,
   "metadata": {},
   "outputs": [
    {
     "data": {
      "text/plain": [
       "Index(['PMI', 'UNR', 'YUNR', 'CONS_SENT', 'HOME_SALES', 'PART_TIME',\n",
       "       'CPPR_PRICE', 'HOUS_PERMS', 'HOUS_STARTS', 'CAP_UTIL', 'PERS_SAVINGS',\n",
       "       'EXPORTS', 'IMPORTS', 'TRADE_BALANCE', 'INT_RATE', 'US_M2',\n",
       "       'US_NHOME_SALES', 'PPI', 'CPI', '3YRT', '10 Year Treasury Yield',\n",
       "       '3 Month Treasury Yield (Bond Equivalent Basis)', 'Spread',\n",
       "       'HOME_SALES_PXY', 'CPPR_PRICE_PXY', 'HOUS_PERMS_PXY', 'CAP_UTIL_PXY',\n",
       "       'US_NHOME_SALES_PXY', '3YRT_PXY', 'PMI_1m_shift', 'UNR_1m_shift',\n",
       "       'YUNR_1m_shift', 'CONS_SENT_1m_shift', 'HOME_SALES_1m_shift',\n",
       "       'PART_TIME_1m_shift', 'CPPR_PRICE_1m_shift', 'HOUS_PERMS_1m_shift',\n",
       "       'HOUS_STARTS_1m_shift', 'CAP_UTIL_1m_shift', 'PERS_SAVINGS_1m_shift',\n",
       "       'EXPORTS_1m_shift', 'IMPORTS_1m_shift', 'TRADE_BALANCE_1m_shift',\n",
       "       'INT_RATE_1m_shift', 'US_M2_1m_shift', 'US_NHOME_SALES_1m_shift',\n",
       "       '3YRT_1m_shift', '10 Year Treasury Yield_1m_shift',\n",
       "       '3 Month Treasury Yield (Bond Equivalent Basis)_1m_shift',\n",
       "       'Spread_1m_shift', 'PMI_3m_shift', 'UNR_3m_shift', 'YUNR_3m_shift',\n",
       "       'CONS_SENT_3m_shift', 'HOME_SALES_3m_shift', 'PART_TIME_3m_shift',\n",
       "       'CPPR_PRICE_3m_shift', 'HOUS_PERMS_3m_shift', 'HOUS_STARTS_3m_shift',\n",
       "       'CAP_UTIL_3m_shift', 'PERS_SAVINGS_3m_shift', 'EXPORTS_3m_shift',\n",
       "       'IMPORTS_3m_shift', 'TRADE_BALANCE_3m_shift', 'INT_RATE_3m_shift',\n",
       "       'US_M2_3m_shift', 'US_NHOME_SALES_3m_shift', '3YRT_3m_shift',\n",
       "       '10 Year Treasury Yield_3m_shift',\n",
       "       '3 Month Treasury Yield (Bond Equivalent Basis)_3m_shift',\n",
       "       'Spread_3m_shift', 'PMI_12m_shift', 'UNR_12m_shift', 'YUNR_12m_shift',\n",
       "       'CONS_SENT_12m_shift', 'HOME_SALES_12m_shift', 'PART_TIME_12m_shift',\n",
       "       'CPPR_PRICE_12m_shift', 'HOUS_PERMS_12m_shift', 'HOUS_STARTS_12m_shift',\n",
       "       'CAP_UTIL_12m_shift', 'PERS_SAVINGS_12m_shift', 'EXPORTS_12m_shift',\n",
       "       'IMPORTS_12m_shift', 'TRADE_BALANCE_12m_shift', 'INT_RATE_12m_shift',\n",
       "       'US_M2_12m_shift', 'US_NHOME_SALES_12m_shift', '3YRT_12m_shift',\n",
       "       '10 Year Treasury Yield_12m_shift',\n",
       "       '3 Month Treasury Yield (Bond Equivalent Basis)_12m_shift',\n",
       "       'Spread_12m_shift', 'CPI_1m_shift', 'PPI_1m_shift', 'CPI_3m_shift',\n",
       "       'PPI_3m_shift', 'CPI_12m_shift', 'PPI_12m_shift'],\n",
       "      dtype='object')"
      ]
     },
     "execution_count": 40,
     "metadata": {},
     "output_type": "execute_result"
    }
   ],
   "source": [
    "dataset.columns"
   ]
  },
  {
   "cell_type": "code",
   "execution_count": null,
   "metadata": {},
   "outputs": [],
   "source": []
  }
 ],
 "metadata": {
  "kernelspec": {
   "display_name": "Python 3",
   "language": "python",
   "name": "python3"
  },
  "language_info": {
   "codemirror_mode": {
    "name": "ipython",
    "version": 3
   },
   "file_extension": ".py",
   "mimetype": "text/x-python",
   "name": "python",
   "nbconvert_exporter": "python",
   "pygments_lexer": "ipython3",
   "version": "3.6.8"
  }
 },
 "nbformat": 4,
 "nbformat_minor": 2
}
